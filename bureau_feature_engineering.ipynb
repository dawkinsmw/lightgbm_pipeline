{
 "cells": [
  {
   "cell_type": "markdown",
   "metadata": {},
   "source": [
    "# 0. Set up"
   ]
  },
  {
   "cell_type": "code",
   "execution_count": 1,
   "metadata": {},
   "outputs": [],
   "source": [
    "## Import packages\n",
    "import gc\n",
    "import os\n",
    "import sys\n",
    "import re\n",
    "\n",
    "import matplotlib.pyplot as plt\n",
    "import numpy as np\n",
    "import pandas as pd\n",
    "\n",
    "import lightgbm as lgb\n",
    "import shap\n",
    "\n",
    "from pandas_profiling import ProfileReport"
   ]
  },
  {
   "cell_type": "code",
   "execution_count": 2,
   "metadata": {},
   "outputs": [],
   "source": [
    "user = os.getenv('USERNAME')\n",
    "shared_workspace = '/home/nikankarla/modelling_club_team9'\n",
    "user_dir = os.path.join(shared_workspace, user)\n",
    "data_dir = os.path.join(shared_workspace, 'raw_data')\n",
    "model_file_output_dir = os.path.join(data_dir, 'engineered/bureau/')\n",
    "scoreboard_path = os.path.join(shared_workspace, \"scoreboard/model_scores.json\")"
   ]
  },
  {
   "cell_type": "code",
   "execution_count": 3,
   "metadata": {},
   "outputs": [],
   "source": [
    "seed = 2021\n",
    "response = 'TARGET'\n",
    "primary_keys = ['SK_ID_CURR']\n",
    "split = 'SPLIT'\n",
    "non_feature_cols = primary_keys + [response] + [split]"
   ]
  },
  {
   "cell_type": "markdown",
   "metadata": {},
   "source": [
    "# 1. Import data"
   ]
  },
  {
   "cell_type": "code",
   "execution_count": 4,
   "metadata": {},
   "outputs": [],
   "source": [
    "home_loan_train = pd.read_csv(data_dir + '/raw/application_train.csv',index_col='SK_ID_CURR')\n",
    "home_loan_test = pd.read_csv(data_dir + '/raw/application_test_noTarget.csv',index_col='SK_ID_CURR')\n",
    "\n",
    "bureau = pd.read_csv(data_dir + '/raw/bureau.csv')\n",
    "# bureau_balance = pd.read_csv(data_dir + '/raw/bureau_balance.csv',index_col='SK_ID_BUREAU')"
   ]
  },
  {
   "cell_type": "code",
   "execution_count": 5,
   "metadata": {},
   "outputs": [],
   "source": [
    "train_response = home_loan_train['TARGET']"
   ]
  },
  {
   "cell_type": "raw",
   "metadata": {},
   "source": [
    "SK_ID_CURR: \"ID of loan in our sample - one loan in our sample can have 0,1,2 or more related previous credits in credit bureau \",hashed\n",
    "SK_BUREAU_ID: Recoded ID of previous Credit Bureau credit related to our loan (unique coding for each loan application),hashed\n",
    "\n",
    "CREDIT_ACTIVE: Status of the Credit Bureau (CB) reported credits,\n",
    "\n",
    "CREDIT_CURRENCY: Recoded currency of the Credit Bureau credit,recoded\n",
    "\n",
    "DAYS_CREDIT: How many days before current application did client apply for Credit Bureau credit,time only relative to the application\n",
    "CREDIT_DAY_OVERDUE: Number of days past due on CB credit at the time of application for related loan in our sample,\n",
    "DAYS_CREDIT_ENDDATE: Remaining duration of CB credit (in days) at the time of application in Home Credit,time only relative to the application\n",
    "DAYS_ENDDATE_FACT: Days since CB credit ended at the time of application in Home Credit (only for closed credit),time only relative to the application\n",
    "\n",
    "AMT_CREDIT_MAX_OVERDUE: Maximal amount overdue on the Credit Bureau credit so far (at application date of loan in our sample),\n",
    "CNT_CREDIT_PROLONG: How many times was the Credit Bureau credit prolonged,\n",
    "AMT_CREDIT_SUM: Current credit amount for the Credit Bureau credit,\n",
    "AMT_CREDIT_SUM_DEBT: Current debt on Credit Bureau credit,\n",
    "AMT_CREDIT_SUM_LIMIT: Current credit limit of credit card reported in Credit Bureau,\n",
    "AMT_CREDIT_SUM_OVERDUE: Current amount overdue on Credit Bureau credit,\n",
    "\n",
    "CREDIT_TYPE: \"Type of Credit Bureau credit (Car, cash,...)\",\n",
    "DAYS_CREDIT_UPDATE: How many days before loan application did last information about the Credit Bureau credit come,time only relative to the application\n",
    "AMT_ANNUITY: Annuity of the Credit Bureau credit,"
   ]
  },
  {
   "cell_type": "markdown",
   "metadata": {},
   "source": [
    "## Cleaning"
   ]
  },
  {
   "cell_type": "code",
   "execution_count": 6,
   "metadata": {},
   "outputs": [],
   "source": [
    "bureau = bureau[bureau[\"CREDIT_CURRENCY\"]=='currency 1']\n",
    "bureau = bureau.drop(\"CREDIT_CURRENCY\",axis=1)"
   ]
  },
  {
   "cell_type": "code",
   "execution_count": 7,
   "metadata": {},
   "outputs": [],
   "source": [
    "## Active\n",
    "# Consumer Credit\n",
    "Active_ConsumerCredit = bureau.loc[(bureau[\"CREDIT_ACTIVE\"] == 'Active') & (bureau[\"CREDIT_TYPE\"] == \"Consumer credit\")]\n",
    "Active_ConsumerCredit = Active_ConsumerCredit.drop([\"DAYS_ENDDATE_FACT\",\"CREDIT_ACTIVE\",\"CREDIT_TYPE\"],axis=1)\n",
    "Active_ConsumerCredit[\"COUNT\"] = Active_ConsumerCredit[[\"SK_ID_CURR\",\"SK_ID_BUREAU\"]].groupby(\"SK_ID_CURR\").transform('count')\n",
    "\n",
    "# Credit Card\n",
    "Active_CreditCard = bureau.loc[(bureau[\"CREDIT_ACTIVE\"] == 'Active') & (bureau[\"CREDIT_TYPE\"] == \"Credit card\")]\n",
    "Active_CreditCard = Active_CreditCard.drop([\"DAYS_ENDDATE_FACT\",\"CREDIT_ACTIVE\",\"CREDIT_TYPE\"],axis=1)\n",
    "Active_CreditCard[\"COUNT\"] = Active_CreditCard[[\"SK_ID_CURR\",\"SK_ID_BUREAU\"]].groupby(\"SK_ID_CURR\").transform('count')\n",
    "\n",
    "# Mortgage\n",
    "Active_Mortgage = bureau.loc[(bureau[\"CREDIT_ACTIVE\"] == 'Active') & (bureau[\"CREDIT_TYPE\"] == \"Mortgage\")]\n",
    "Active_Mortgage = Active_Mortgage.drop([\"DAYS_ENDDATE_FACT\",\"CREDIT_ACTIVE\",\"CREDIT_TYPE\"],axis=1)\n",
    "Active_Mortgage[\"COUNT\"] = Active_Mortgage[[\"SK_ID_CURR\",\"SK_ID_BUREAU\"]].groupby(\"SK_ID_CURR\").transform('count')\n",
    "\n",
    "# Other\n",
    "Active_Other = bureau.loc[(bureau[\"CREDIT_ACTIVE\"] == 'Active') & (bureau[\"CREDIT_TYPE\"] == \"Car loan\")]\n",
    "Active_Other = Active_Other.drop([\"DAYS_ENDDATE_FACT\",\"CREDIT_ACTIVE\"],axis=1)\n",
    "Active_Other[\"COUNT\"] = Active_Other[[\"SK_ID_CURR\",\"SK_ID_BUREAU\"]].groupby(\"SK_ID_CURR\").transform('count')\n",
    "\n",
    "\n",
    "## Closed\n",
    "# Consumer Credit\n",
    "Closed_ConsumerCredit = bureau.loc[(bureau[\"CREDIT_ACTIVE\"] == 'Closed') & (bureau[\"CREDIT_TYPE\"] == \"Consumer credit\")]\n",
    "Closed_ConsumerCredit = Closed_ConsumerCredit.drop([\"CREDIT_ACTIVE\",\"CREDIT_TYPE\"],axis=1)\n",
    "Closed_ConsumerCredit[\"COUNT\"] = Active_ConsumerCredit[[\"SK_ID_CURR\",\"SK_ID_BUREAU\"]].groupby(\"SK_ID_CURR\").transform('count')\n",
    "\n",
    "# Credit Card\n",
    "Closed_CreditCard = bureau.loc[(bureau[\"CREDIT_ACTIVE\"] == 'Closed') & (bureau[\"CREDIT_TYPE\"] == \"Credit card\")]\n",
    "Closed_CreditCard = Closed_CreditCard.drop([\"CREDIT_ACTIVE\",\"CREDIT_TYPE\"],axis=1)\n",
    "Closed_CreditCard[\"COUNT\"] = Closed_CreditCard[[\"SK_ID_CURR\",\"SK_ID_BUREAU\"]].groupby(\"SK_ID_CURR\").transform('count')\n",
    "\n",
    "# Mortgage\n",
    "Closed_Mortgage = bureau.loc[(bureau[\"CREDIT_ACTIVE\"] == 'Closed') & (bureau[\"CREDIT_TYPE\"] == \"Mortgage\")]\n",
    "Closed_Mortgage = Closed_Mortgage.drop([\"CREDIT_ACTIVE\",\"CREDIT_TYPE\"],axis=1)\n",
    "Closed_Mortgage[\"COUNT\"] = Closed_Mortgage[[\"SK_ID_CURR\",\"SK_ID_BUREAU\"]].groupby(\"SK_ID_CURR\").transform('count')\n",
    "\n",
    "# Other\n",
    "Closed_Other = bureau.loc[(bureau[\"CREDIT_ACTIVE\"] == 'Closed') & (bureau[\"CREDIT_TYPE\"] == \"Car loan\")]\n",
    "Closed_Other = Closed_Other.drop([\"CREDIT_ACTIVE\"],axis=1)\n",
    "Closed_Other[\"COUNT\"] = Closed_Other[[\"SK_ID_CURR\",\"SK_ID_BUREAU\"]].groupby(\"SK_ID_CURR\").transform('count')\n",
    "\n",
    "## LOAN DICT\n",
    "Loan_Dict = {\"Active_ConsumerCredit\":Active_ConsumerCredit,\n",
    "             \"Active_CreditCard\":Active_CreditCard,\n",
    "             \"Active_Mortgage\":Active_Mortgage,\n",
    "             \"Active_Other\":Active_Other,\n",
    "             \"Closed_ConsumerCredit\":Closed_ConsumerCredit,\n",
    "             \"Closed_CreditCard\":Closed_CreditCard,\n",
    "             \"Closed_Mortgage\":Closed_Mortgage,\n",
    "             \"Closed_Other\":Closed_Other\n",
    "              }\n"
   ]
  },
  {
   "cell_type": "markdown",
   "metadata": {},
   "source": [
    "## Look at coverage in train and test"
   ]
  },
  {
   "cell_type": "code",
   "execution_count": 8,
   "metadata": {},
   "outputs": [
    {
     "name": "stdout",
     "output_type": "stream",
     "text": [
      "Active_ConsumerCredit\n",
      "%train: 52.8%\n",
      "%test : 52.9%\n",
      "Active_CreditCard\n",
      "%train: 48.3%\n",
      "%test : 48.0%\n",
      "Active_Mortgage\n",
      "%train: 3.4%\n",
      "%test : 3.4%\n",
      "Active_Other\n",
      "%train: 2.7%\n",
      "%test : 2.7%\n",
      "Closed_ConsumerCredit\n",
      "%train: 71.9%\n",
      "%test : 72.0%\n",
      "Closed_CreditCard\n",
      "%train: 21.6%\n",
      "%test : 21.6%\n",
      "Closed_Mortgage\n",
      "%train: 1.3%\n",
      "%test : 1.2%\n",
      "Closed_Other\n",
      "%train: 4.1%\n",
      "%test : 4.1%\n"
     ]
    }
   ],
   "source": [
    "for df in Loan_Dict.keys():\n",
    "    print(df)\n",
    "    print(\"%train: {0:.1f}%\".format(100*home_loan_train.merge(Loan_Dict[df][\"SK_ID_CURR\"].drop_duplicates().to_frame(),on=\"SK_ID_CURR\",how=\"inner\").shape[0]/home_loan_train.shape[0]))\n",
    "    print(\"%test : {0:.1f}%\".format(100*home_loan_test.merge(Loan_Dict[df][\"SK_ID_CURR\"].drop_duplicates().to_frame(),on=\"SK_ID_CURR\",how=\"inner\").shape[0]/home_loan_test.shape[0]))"
   ]
  },
  {
   "cell_type": "code",
   "execution_count": 9,
   "metadata": {},
   "outputs": [
    {
     "name": "stdout",
     "output_type": "stream",
     "text": [
      "(215257, 121)\n",
      "(92254, 120)\n"
     ]
    }
   ],
   "source": [
    "print(home_loan_train.shape)\n",
    "print(home_loan_test.shape)"
   ]
  },
  {
   "cell_type": "markdown",
   "metadata": {},
   "source": [
    "## Investigation"
   ]
  },
  {
   "cell_type": "markdown",
   "metadata": {},
   "source": [
    "### Active_Mortgage"
   ]
  },
  {
   "cell_type": "code",
   "execution_count": 10,
   "metadata": {},
   "outputs": [
    {
     "name": "stderr",
     "output_type": "stream",
     "text": [
      "\n",
      "A value is trying to be set on a copy of a slice from a DataFrame.\n",
      "Try using .loc[row_indexer,col_indexer] = value instead\n",
      "\n",
      "See the caveats in the documentation: https://pandas.pydata.org/pandas-docs/stable/user_guide/indexing.html#returning-a-view-versus-a-copy\n"
     ]
    }
   ],
   "source": [
    "Active_Mortgage_Singl = Active_Mortgage[Active_Mortgage[\"COUNT\"]<=1]\n",
    "Active_Mortgage_Dupes = Active_Mortgage[Active_Mortgage[\"COUNT\"]>1]\n",
    "Active_Mortgage_Dupes[\"COUNT\"] = Active_Mortgage_Dupes[[\"SK_ID_CURR\",\"SK_ID_BUREAU\"]].groupby('SK_ID_CURR').transform('count') \n",
    "Active_Mortgage_Dupes = Active_Mortgage_Dupes[Active_Mortgage_Dupes['DAYS_CREDIT_UPDATE'] == Active_Mortgage_Dupes.groupby('SK_ID_CURR')['DAYS_CREDIT_UPDATE'].transform('min')]\n",
    "Active_Mortgage_Dupes = Active_Mortgage_Dupes[Active_Mortgage_Dupes['DAYS_CREDIT'] == Active_Mortgage_Dupes.groupby('SK_ID_CURR')['DAYS_CREDIT'].transform('min')]\n",
    "Active_Mortgage_Dupes = Active_Mortgage_Dupes[Active_Mortgage_Dupes['AMT_CREDIT_SUM'] == Active_Mortgage_Dupes.groupby('SK_ID_CURR')['AMT_CREDIT_SUM'].transform('max')]\n",
    "Active_Mortgage_Dupes = Active_Mortgage_Dupes[Active_Mortgage_Dupes[\"DAYS_CREDIT_ENDDATE\"].notnull()]\n",
    "Active_Mortgage_Dupes = Active_Mortgage_Dupes.drop_duplicates(subset=['SK_ID_CURR'])\n",
    "Active_Mortgage_Clean = pd.concat([Active_Mortgage_Singl, Active_Mortgage_Dupes])"
   ]
  },
  {
   "cell_type": "code",
   "execution_count": 11,
   "metadata": {},
   "outputs": [
    {
     "name": "stdout",
     "output_type": "stream",
     "text": [
      "(10374, 14)\n",
      "10374\n"
     ]
    }
   ],
   "source": [
    "print(Active_Mortgage_Clean.shape)\n",
    "print(len(Active_Mortgage_Clean[\"SK_ID_CURR\"].unique()))"
   ]
  },
  {
   "cell_type": "code",
   "execution_count": 12,
   "metadata": {},
   "outputs": [],
   "source": [
    "Active_Mortgage_Clean.to_csv(model_file_output_dir + \"Active_Mortgage_Clean.csv\",index=False)"
   ]
  },
  {
   "cell_type": "markdown",
   "metadata": {},
   "source": [
    "### Closed_Mortgage"
   ]
  },
  {
   "cell_type": "code",
   "execution_count": 13,
   "metadata": {},
   "outputs": [
    {
     "name": "stderr",
     "output_type": "stream",
     "text": [
      "\n",
      "A value is trying to be set on a copy of a slice from a DataFrame.\n",
      "Try using .loc[row_indexer,col_indexer] = value instead\n",
      "\n",
      "See the caveats in the documentation: https://pandas.pydata.org/pandas-docs/stable/user_guide/indexing.html#returning-a-view-versus-a-copy\n"
     ]
    }
   ],
   "source": [
    "Closed_Mortgage_Singl = Closed_Mortgage[Closed_Mortgage[\"COUNT\"]<=1]\n",
    "Closed_Mortgage_Dupes = Closed_Mortgage[Closed_Mortgage[\"COUNT\"]>1]\n",
    "Closed_Mortgage_Dupes[\"COUNT\"] = Closed_Mortgage_Dupes[[\"SK_ID_CURR\",\"SK_ID_BUREAU\"]].groupby('SK_ID_CURR').transform('count') \n",
    "Closed_Mortgage_Dupes = Closed_Mortgage_Dupes[Closed_Mortgage_Dupes['DAYS_CREDIT_UPDATE'] == Closed_Mortgage_Dupes.groupby('SK_ID_CURR')['DAYS_CREDIT_UPDATE'].transform('min')]\n",
    "Closed_Mortgage_Dupes = Closed_Mortgage_Dupes[Closed_Mortgage_Dupes['DAYS_ENDDATE_FACT'] == Closed_Mortgage_Dupes.groupby('SK_ID_CURR')['DAYS_ENDDATE_FACT'].transform('min')]\n",
    "Closed_Mortgage_Dupes = Closed_Mortgage_Dupes[Closed_Mortgage_Dupes['AMT_CREDIT_SUM'] == Closed_Mortgage_Dupes.groupby('SK_ID_CURR')['AMT_CREDIT_SUM'].transform('max')]\n",
    "Closed_Mortgage_Dupes = Closed_Mortgage_Dupes.drop_duplicates(subset=['SK_ID_CURR'])\n",
    "Closed_Mortgage_Clean = pd.concat([Closed_Mortgage_Singl, Closed_Mortgage_Dupes])"
   ]
  },
  {
   "cell_type": "code",
   "execution_count": 19,
   "metadata": {},
   "outputs": [
    {
     "name": "stdout",
     "output_type": "stream",
     "text": [
      "(10374, 14)\n",
      "10374\n"
     ]
    }
   ],
   "source": [
    "print(Active_Mortgage_Clean.shape)\n",
    "print(len(Active_Mortgage_Clean[\"SK_ID_CURR\"].unique()))"
   ]
  },
  {
   "cell_type": "code",
   "execution_count": 20,
   "metadata": {},
   "outputs": [],
   "source": [
    "Closed_Mortgage_Clean.to_csv(model_file_output_dir + \"Closed_Mortgage_Clean.csv\",index=False)"
   ]
  },
  {
   "cell_type": "markdown",
   "metadata": {},
   "source": [
    "### Active Consumer Credit"
   ]
  },
  {
   "cell_type": "code",
   "execution_count": 21,
   "metadata": {},
   "outputs": [],
   "source": [
    "def conCred_year_brackets(year):\n",
    "    if (year >= -1): return 1\n",
    "    elif (year >= -2): return 2\n",
    "    else: return 3"
   ]
  },
  {
   "cell_type": "code",
   "execution_count": 22,
   "metadata": {},
   "outputs": [],
   "source": [
    "Active_ConsumerCredit = Active_ConsumerCredit.sort_values([\"SK_ID_CURR\",\"DAYS_CREDIT\",\"DAYS_CREDIT_UPDATE\"])\n",
    "Active_ConsumerCredit = Active_ConsumerCredit.drop_duplicates(subset=[\"SK_ID_CURR\", \"DAYS_CREDIT\"], keep='last')\n",
    "Active_ConsumerCredit[\"YEARS_CREDIT\"] = Active_ConsumerCredit[\"DAYS_CREDIT\"]/365\n",
    "Active_ConsumerCredit[\"DATE_RANGE\"] = Active_ConsumerCredit[\"YEARS_CREDIT\"].apply(conCred_year_brackets)"
   ]
  },
  {
   "cell_type": "code",
   "execution_count": 23,
   "metadata": {},
   "outputs": [],
   "source": [
    "Active_ConsumerCredit_Agg = Active_ConsumerCredit.groupby([\"SK_ID_CURR\"]).agg(\n",
    "         AMT_CREDIT_MAX_OVERDUE=('AMT_CREDIT_MAX_OVERDUE', max), \n",
    "         CNT_CREDIT_PROLONG=('CNT_CREDIT_PROLONG', sum),\n",
    "         CNT_CREDIT_PROLONG_MAX=('CNT_CREDIT_PROLONG', max),\n",
    "         AMT_CREDIT_SUM=('AMT_CREDIT_SUM', sum),\n",
    "         AMT_CREDIT_SUM_MAX=('AMT_CREDIT_SUM', max),\n",
    "         AMT_CREDIT_SUM_DEBT=('AMT_CREDIT_SUM_DEBT', sum),\n",
    "         AMT_CREDIT_SUM_DEBT_MAX=('AMT_CREDIT_SUM_DEBT', max),\n",
    "         COUNT=('COUNT',sum)\n",
    "        )"
   ]
  },
  {
   "cell_type": "code",
   "execution_count": 24,
   "metadata": {},
   "outputs": [],
   "source": [
    "Active_ConsumerCredit_Agg.to_csv(model_file_output_dir + \"Active_ConsumerCredit_Agg.csv\")"
   ]
  },
  {
   "cell_type": "code",
   "execution_count": 25,
   "metadata": {},
   "outputs": [],
   "source": [
    "Active_ConsumerCredit_Agg_Date = Active_ConsumerCredit.groupby([\"DATE_RANGE\",\"SK_ID_CURR\"]).agg(\n",
    "         AMT_CREDIT_MAX_OVERDUE=('AMT_CREDIT_MAX_OVERDUE', max), \n",
    "         CNT_CREDIT_PROLONG=('CNT_CREDIT_PROLONG', sum),\n",
    "         CNT_CREDIT_PROLONG_MAX=('CNT_CREDIT_PROLONG', max),\n",
    "         AMT_CREDIT_SUM=('AMT_CREDIT_SUM', sum),\n",
    "         AMT_CREDIT_SUM_MAX=('AMT_CREDIT_SUM', max),\n",
    "         AMT_CREDIT_SUM_DEBT=('AMT_CREDIT_SUM_DEBT', sum),\n",
    "         AMT_CREDIT_SUM_DEBT_MAX=('AMT_CREDIT_SUM_DEBT', max),\n",
    "         COUNT=('COUNT',sum)\n",
    "        )"
   ]
  },
  {
   "cell_type": "code",
   "execution_count": 26,
   "metadata": {},
   "outputs": [],
   "source": [
    "Active_ConsumerCredit_Agg_Date.to_csv(model_file_output_dir + \"Active_ConsumerCredit_Agg_Date.csv\")"
   ]
  },
  {
   "cell_type": "markdown",
   "metadata": {},
   "source": [
    "### Closed Consumer Credit"
   ]
  },
  {
   "cell_type": "code",
   "execution_count": 27,
   "metadata": {},
   "outputs": [],
   "source": [
    "def closedConCred_year_brackets(year):\n",
    "    if (year >= -2): return 1\n",
    "    elif (year >= -4): return 2\n",
    "    else: return 3"
   ]
  },
  {
   "cell_type": "code",
   "execution_count": 28,
   "metadata": {},
   "outputs": [],
   "source": [
    "Closed_ConsumerCredit = Closed_ConsumerCredit.sort_values([\"SK_ID_CURR\",\"DAYS_CREDIT\",\"DAYS_CREDIT_UPDATE\"])\n",
    "Closed_ConsumerCredit = Closed_ConsumerCredit.drop_duplicates(subset=[\"SK_ID_CURR\", \"DAYS_CREDIT\"], keep='last')\n",
    "Closed_ConsumerCredit[\"YEARS_ENDDATE_FACT\"] = Closed_ConsumerCredit[\"DAYS_ENDDATE_FACT\"]/365\n",
    "Closed_ConsumerCredit[\"DATE_RANGE\"] = Closed_ConsumerCredit[\"YEARS_ENDDATE_FACT\"].apply(closedConCred_year_brackets)"
   ]
  },
  {
   "cell_type": "code",
   "execution_count": 29,
   "metadata": {},
   "outputs": [],
   "source": [
    "Closed_ConsumerCredit_Agg = Closed_ConsumerCredit.groupby([\"SK_ID_CURR\"]).agg(\n",
    "         AMT_CREDIT_MAX_OVERDUE=('AMT_CREDIT_MAX_OVERDUE', max), \n",
    "         CNT_CREDIT_PROLONG=('CNT_CREDIT_PROLONG', sum),\n",
    "         CNT_CREDIT_PROLONG_MAX=('CNT_CREDIT_PROLONG', max),\n",
    "         AMT_CREDIT_SUM=('AMT_CREDIT_SUM', sum),\n",
    "         AMT_CREDIT_SUM_MAX=('AMT_CREDIT_SUM', max),\n",
    "         COUNT=('COUNT',sum)\n",
    "        )"
   ]
  },
  {
   "cell_type": "code",
   "execution_count": 30,
   "metadata": {},
   "outputs": [],
   "source": [
    "Closed_ConsumerCredit_Agg.to_csv(model_file_output_dir + \"Closed_ConsumerCredit_Agg.csv\")"
   ]
  },
  {
   "cell_type": "code",
   "execution_count": 31,
   "metadata": {},
   "outputs": [],
   "source": [
    "Closed_ConsumerCredit_Agg_Date = Closed_ConsumerCredit.groupby([\"DATE_RANGE\",\"SK_ID_CURR\"]).agg(\n",
    "         AMT_CREDIT_MAX_OVERDUE=('AMT_CREDIT_MAX_OVERDUE', max), \n",
    "         CNT_CREDIT_PROLONG=('CNT_CREDIT_PROLONG', sum),\n",
    "         CNT_CREDIT_PROLONG_MAX=('CNT_CREDIT_PROLONG', max),\n",
    "         AMT_CREDIT_SUM=('AMT_CREDIT_SUM', sum),\n",
    "         AMT_CREDIT_SUM_MAX=('AMT_CREDIT_SUM', max),\n",
    "         COUNT=('COUNT',sum)\n",
    "        )"
   ]
  },
  {
   "cell_type": "code",
   "execution_count": 32,
   "metadata": {},
   "outputs": [],
   "source": [
    "Closed_ConsumerCredit_Agg_Date.to_csv(model_file_output_dir + \"Closed_ConsumerCredit_Agg_Date.csv\")"
   ]
  },
  {
   "cell_type": "markdown",
   "metadata": {},
   "source": [
    "### Active Credit Card"
   ]
  },
  {
   "cell_type": "code",
   "execution_count": 33,
   "metadata": {},
   "outputs": [],
   "source": [
    "def credCard_year_brackets(year):\n",
    "    if (year >= -1): return 1\n",
    "    elif (year >= -2): return 2\n",
    "    elif (year >= -4): return 3\n",
    "    else: return 4"
   ]
  },
  {
   "cell_type": "code",
   "execution_count": 34,
   "metadata": {},
   "outputs": [],
   "source": [
    "Active_CreditCard = Active_CreditCard.sort_values([\"SK_ID_CURR\",\"DAYS_CREDIT\",\"DAYS_CREDIT_UPDATE\"])\n",
    "Active_CreditCard = Active_CreditCard.drop_duplicates(subset=[\"SK_ID_CURR\", \"DAYS_CREDIT\"], keep='last')\n",
    "Active_CreditCard[\"YEARS_CREDIT\"] = Active_CreditCard[\"DAYS_CREDIT\"]/365\n",
    "Active_CreditCard[\"DATE_RANGE\"] = Active_CreditCard[\"YEARS_CREDIT\"].apply(credCard_year_brackets)"
   ]
  },
  {
   "cell_type": "code",
   "execution_count": 35,
   "metadata": {},
   "outputs": [],
   "source": [
    "Active_CreditCard_Agg = Active_CreditCard.groupby([\"SK_ID_CURR\"]).agg(\n",
    "         AMT_CREDIT_MAX_OVERDUE=('AMT_CREDIT_MAX_OVERDUE', max), \n",
    "         CNT_CREDIT_PROLONG=('CNT_CREDIT_PROLONG', sum),\n",
    "         CNT_CREDIT_PROLONG_MAX=('CNT_CREDIT_PROLONG', max),\n",
    "         AMT_CREDIT_SUM=('AMT_CREDIT_SUM', sum),\n",
    "         AMT_CREDIT_SUM_MAX=('AMT_CREDIT_SUM', max),\n",
    "         AMT_CREDIT_SUM_DEBT=('AMT_CREDIT_SUM_DEBT', sum),\n",
    "         AMT_CREDIT_SUM_DEBT_MAX=('AMT_CREDIT_SUM_DEBT', max),\n",
    "         AMT_CREDIT_SUM_LIMIT=('AMT_CREDIT_SUM_LIMIT', sum),\n",
    "         AMT_CREDIT_SUM_LIMIT_MAX=('AMT_CREDIT_SUM_LIMIT', max),\n",
    "         COUNT=('COUNT',sum)\n",
    "        )"
   ]
  },
  {
   "cell_type": "code",
   "execution_count": 36,
   "metadata": {},
   "outputs": [],
   "source": [
    "Active_CreditCard_Agg.to_csv(model_file_output_dir + \"Active_CreditCard_Agg.csv\")"
   ]
  },
  {
   "cell_type": "code",
   "execution_count": 37,
   "metadata": {},
   "outputs": [],
   "source": [
    "Active_CreditCard_Agg_Date = Active_CreditCard.groupby([\"DATE_RANGE\",\"SK_ID_CURR\"]).agg(\n",
    "         AMT_CREDIT_MAX_OVERDUE=('AMT_CREDIT_MAX_OVERDUE', max), \n",
    "         CNT_CREDIT_PROLONG=('CNT_CREDIT_PROLONG', sum),\n",
    "         CNT_CREDIT_PROLONG_MAX=('CNT_CREDIT_PROLONG', max),\n",
    "         AMT_CREDIT_SUM=('AMT_CREDIT_SUM', sum),\n",
    "         AMT_CREDIT_SUM_MAX=('AMT_CREDIT_SUM', max),\n",
    "         AMT_CREDIT_SUM_DEBT=('AMT_CREDIT_SUM_DEBT', sum),\n",
    "         AMT_CREDIT_SUM_DEBT_MAX=('AMT_CREDIT_SUM_DEBT', max),\n",
    "         AMT_CREDIT_SUM_LIMIT=('AMT_CREDIT_SUM_LIMIT', sum),\n",
    "         AMT_CREDIT_SUM_LIMIT_MAX=('AMT_CREDIT_SUM_LIMIT', max),\n",
    "         COUNT=('COUNT',sum)\n",
    "        )"
   ]
  },
  {
   "cell_type": "code",
   "execution_count": 38,
   "metadata": {},
   "outputs": [],
   "source": [
    "Active_CreditCard_Agg_Date.to_csv(model_file_output_dir + \"Active_CreditCard_Agg_Date.csv\")"
   ]
  },
  {
   "cell_type": "markdown",
   "metadata": {},
   "source": [
    "### Closed Credit Card"
   ]
  },
  {
   "cell_type": "code",
   "execution_count": 39,
   "metadata": {},
   "outputs": [],
   "source": [
    "def closedCredCard_year_brackets(year):\n",
    "    if (year >= -1): return 1\n",
    "    elif (year >= -2): return 2\n",
    "    elif (year >= -4): return 3\n",
    "    else: return 4"
   ]
  },
  {
   "cell_type": "code",
   "execution_count": 40,
   "metadata": {},
   "outputs": [],
   "source": [
    "Closed_CreditCard = Closed_CreditCard.sort_values([\"SK_ID_CURR\",\"DAYS_CREDIT\",\"DAYS_CREDIT_UPDATE\"])\n",
    "Closed_CreditCard = Closed_CreditCard.drop_duplicates(subset=[\"SK_ID_CURR\", \"DAYS_CREDIT\"], keep='last')\n",
    "Closed_CreditCard[\"YEARS_ENDDATE_FACT\"] = Closed_CreditCard[\"DAYS_ENDDATE_FACT\"]/365\n",
    "Closed_CreditCard[\"DATE_RANGE\"] = Closed_CreditCard[\"YEARS_ENDDATE_FACT\"].apply(closedCredCard_year_brackets)"
   ]
  },
  {
   "cell_type": "code",
   "execution_count": 41,
   "metadata": {},
   "outputs": [],
   "source": [
    "Closed_CreditCard_Agg = Closed_CreditCard.groupby([\"SK_ID_CURR\"]).agg(\n",
    "         AMT_CREDIT_MAX_OVERDUE=('AMT_CREDIT_MAX_OVERDUE', max), \n",
    "         CNT_CREDIT_PROLONG=('CNT_CREDIT_PROLONG', sum),\n",
    "         CNT_CREDIT_PROLONG_MAX=('CNT_CREDIT_PROLONG', max),\n",
    "         AMT_CREDIT_SUM=('AMT_CREDIT_SUM', sum),\n",
    "         AMT_CREDIT_SUM_MAX=('AMT_CREDIT_SUM', max),\n",
    "         AMT_CREDIT_SUM_LIMIT=('AMT_CREDIT_SUM_LIMIT', sum),\n",
    "         AMT_CREDIT_SUM_LIMIT_MAX=('AMT_CREDIT_SUM_LIMIT', max),\n",
    "         COUNT=('COUNT',sum)\n",
    "        )"
   ]
  },
  {
   "cell_type": "code",
   "execution_count": 42,
   "metadata": {},
   "outputs": [],
   "source": [
    "Closed_CreditCard_Agg.to_csv(model_file_output_dir + \"Closed_CreditCard_Agg.csv\")"
   ]
  },
  {
   "cell_type": "code",
   "execution_count": 43,
   "metadata": {},
   "outputs": [],
   "source": [
    "Closed_CreditCard_Agg_Date = Closed_CreditCard.groupby([\"DATE_RANGE\",\"SK_ID_CURR\"]).agg(\n",
    "         AMT_CREDIT_MAX_OVERDUE=('AMT_CREDIT_MAX_OVERDUE', max), \n",
    "         CNT_CREDIT_PROLONG=('CNT_CREDIT_PROLONG', sum),\n",
    "         CNT_CREDIT_PROLONG_MAX=('CNT_CREDIT_PROLONG', max),\n",
    "         AMT_CREDIT_SUM=('AMT_CREDIT_SUM', sum),\n",
    "         AMT_CREDIT_SUM_MAX=('AMT_CREDIT_SUM', max),\n",
    "         AMT_CREDIT_SUM_LIMIT=('AMT_CREDIT_SUM_LIMIT', sum),\n",
    "         AMT_CREDIT_SUM_LIMIT_MAX=('AMT_CREDIT_SUM_LIMIT', max),\n",
    "         COUNT=('COUNT',sum)\n",
    "        )"
   ]
  },
  {
   "cell_type": "code",
   "execution_count": 44,
   "metadata": {},
   "outputs": [],
   "source": [
    "Closed_CreditCard_Agg_Date.to_csv(model_file_output_dir + \"Closed_CreditCard_Agg_Date.csv\")"
   ]
  },
  {
   "cell_type": "markdown",
   "metadata": {},
   "source": [
    "### Active Other"
   ]
  },
  {
   "cell_type": "code",
   "execution_count": 45,
   "metadata": {},
   "outputs": [],
   "source": [
    "def other_year_brackets(year):\n",
    "    if (year >= -1): return 1\n",
    "    elif (year >= -2): return 2\n",
    "    else: return 3"
   ]
  },
  {
   "cell_type": "code",
   "execution_count": 46,
   "metadata": {},
   "outputs": [],
   "source": [
    "Active_Other = Active_Other.sort_values([\"SK_ID_CURR\",\"DAYS_CREDIT\",\"DAYS_CREDIT_UPDATE\"])\n",
    "Active_Other = Active_Other.drop_duplicates(subset=[\"SK_ID_CURR\", \"DAYS_CREDIT\"], keep='last')\n",
    "Active_Other[\"YEARS_CREDIT\"] = Active_Other[\"DAYS_CREDIT\"]/365\n",
    "Active_Other[\"DATE_RANGE\"] = Active_Other[\"YEARS_CREDIT\"].apply(other_year_brackets)"
   ]
  },
  {
   "cell_type": "code",
   "execution_count": 47,
   "metadata": {},
   "outputs": [],
   "source": [
    "Active_Other_Agg = Active_Other.groupby([\"SK_ID_CURR\"]).agg(\n",
    "         AMT_CREDIT_MAX_OVERDUE=('AMT_CREDIT_MAX_OVERDUE', max), \n",
    "         AMT_CREDIT_SUM=('AMT_CREDIT_SUM', sum),\n",
    "         AMT_CREDIT_SUM_MAX=('AMT_CREDIT_SUM', max),\n",
    "         AMT_CREDIT_SUM_DEBT=('AMT_CREDIT_SUM_DEBT', sum),\n",
    "         AMT_CREDIT_SUM_DEBT_MAX=('AMT_CREDIT_SUM_DEBT', max),\n",
    "         AMT_ANNUITY=('AMT_ANNUITY', sum),\n",
    "         AMT_ANNUITY_MAX=('AMT_ANNUITY', max),\n",
    "         COUNT=('COUNT',sum)\n",
    "        )"
   ]
  },
  {
   "cell_type": "code",
   "execution_count": 48,
   "metadata": {},
   "outputs": [],
   "source": [
    "Active_Other_Agg.to_csv(model_file_output_dir + \"Active_Other_Agg.csv\")"
   ]
  },
  {
   "cell_type": "code",
   "execution_count": 49,
   "metadata": {},
   "outputs": [],
   "source": [
    "Active_Other_Agg_Date = Active_Other.groupby([\"DATE_RANGE\",\"SK_ID_CURR\"]).agg(\n",
    "         AMT_CREDIT_MAX_OVERDUE=('AMT_CREDIT_MAX_OVERDUE', max), \n",
    "         AMT_CREDIT_SUM=('AMT_CREDIT_SUM', sum),\n",
    "         AMT_CREDIT_SUM_MAX=('AMT_CREDIT_SUM', max),\n",
    "         AMT_CREDIT_SUM_DEBT=('AMT_CREDIT_SUM_DEBT', sum),\n",
    "         AMT_CREDIT_SUM_DEBT_MAX=('AMT_CREDIT_SUM_DEBT', max),\n",
    "         AMT_ANNUITY_DEBT=('AMT_ANNUITY', sum),\n",
    "         AMT_ANNUITY_DEBT_MAX=('AMT_ANNUITY', max),\n",
    "         COUNT=('COUNT',sum)\n",
    "        )"
   ]
  },
  {
   "cell_type": "code",
   "execution_count": 50,
   "metadata": {},
   "outputs": [],
   "source": [
    "Active_Other_Agg_Date.to_csv(model_file_output_dir + \"Active_Other_Agg_Date.csv\")"
   ]
  },
  {
   "cell_type": "markdown",
   "metadata": {},
   "source": [
    "### Closed Other"
   ]
  },
  {
   "cell_type": "code",
   "execution_count": 57,
   "metadata": {},
   "outputs": [],
   "source": [
    "def closedOther_year_brackets(year):\n",
    "    if (year >= -2): return 1\n",
    "    elif (year >= -4): return 2\n",
    "    else: return 3"
   ]
  },
  {
   "cell_type": "code",
   "execution_count": 58,
   "metadata": {},
   "outputs": [],
   "source": [
    "Closed_Other = Closed_Other.sort_values([\"SK_ID_CURR\",\"DAYS_CREDIT\",\"DAYS_CREDIT_UPDATE\"])\n",
    "Closed_Other = Closed_Other.drop_duplicates(subset=[\"SK_ID_CURR\", \"DAYS_CREDIT\"], keep='last')\n",
    "Closed_Other[\"YEARS_CREDIT\"] = Closed_Other[\"DAYS_ENDDATE_FACT\"]/365\n",
    "Closed_Other[\"DATE_RANGE\"] = Closed_Other[\"YEARS_CREDIT\"].apply(closedOther_year_brackets)"
   ]
  },
  {
   "cell_type": "code",
   "execution_count": 61,
   "metadata": {},
   "outputs": [],
   "source": [
    "Closed_Other_Agg = Closed_Other.groupby([\"SK_ID_CURR\"]).agg(\n",
    "         AMT_CREDIT_MAX_OVERDUE=('AMT_CREDIT_MAX_OVERDUE', max), \n",
    "         AMT_CREDIT_SUM=('AMT_CREDIT_SUM', sum),\n",
    "         AMT_CREDIT_SUM_MAX=('AMT_CREDIT_SUM', max),\n",
    "         AMT_CREDIT_SUM_DEBT=('AMT_CREDIT_SUM_DEBT', sum),\n",
    "         AMT_CREDIT_SUM_DEBT_MAX=('AMT_CREDIT_SUM_DEBT', max),\n",
    "         AMT_ANNUITY_DEBT=('AMT_ANNUITY', sum),\n",
    "         AMT_ANNUITY_DEBT_MAX=('AMT_ANNUITY', max),\n",
    "         COUNT=('COUNT',sum)\n",
    "        )"
   ]
  },
  {
   "cell_type": "code",
   "execution_count": 62,
   "metadata": {},
   "outputs": [],
   "source": [
    "Closed_Other_Agg.to_csv(model_file_output_dir + \"Closed_Other_Agg.csv\")"
   ]
  },
  {
   "cell_type": "code",
   "execution_count": 63,
   "metadata": {},
   "outputs": [],
   "source": [
    "Closed_Other_Agg_Date = Closed_Other.groupby([\"DATE_RANGE\",\"SK_ID_CURR\"]).agg(\n",
    "         AMT_CREDIT_MAX_OVERDUE=('AMT_CREDIT_MAX_OVERDUE', max), \n",
    "         AMT_CREDIT_SUM=('AMT_CREDIT_SUM', sum),\n",
    "         AMT_CREDIT_SUM_MAX=('AMT_CREDIT_SUM', max),\n",
    "         AMT_CREDIT_SUM_DEBT=('AMT_CREDIT_SUM_DEBT', sum),\n",
    "         AMT_CREDIT_SUM_DEBT_MAX=('AMT_CREDIT_SUM_DEBT', max),\n",
    "         AMT_ANNUITY_DEBT=('AMT_ANNUITY', sum),\n",
    "         AMT_ANNUITY_DEBT_MAX=('AMT_ANNUITY', max),\n",
    "         COUNT=('COUNT',sum)\n",
    "        )"
   ]
  },
  {
   "cell_type": "code",
   "execution_count": 64,
   "metadata": {},
   "outputs": [],
   "source": [
    "Closed_Other_Agg_Date.to_csv(model_file_output_dir + \"Closed_Other_Agg_Date.csv\")"
   ]
  },
  {
   "cell_type": "markdown",
   "metadata": {},
   "source": [
    "# ARCHIVE"
   ]
  },
  {
   "cell_type": "markdown",
   "metadata": {},
   "source": [
    "## Aggregates"
   ]
  },
  {
   "cell_type": "markdown",
   "metadata": {},
   "source": [
    "Loan count"
   ]
  },
  {
   "cell_type": "code",
   "execution_count": 6,
   "metadata": {},
   "outputs": [],
   "source": [
    "model_file = bureau[['SK_ID_CURR',\"SK_ID_BUREAU\"]].groupby('SK_ID_CURR').count()\n",
    "model_file = model_file.rename(columns={\"SK_ID_BUREAU\":\"LOAN_COUNT\"})\n",
    "model_file[\"LOAN_COUNT\"].loc[model_file[\"LOAN_COUNT\"]>40] = 40"
   ]
  },
  {
   "cell_type": "markdown",
   "metadata": {},
   "source": [
    "Wide spectrum"
   ]
  },
  {
   "cell_type": "code",
   "execution_count": 7,
   "metadata": {},
   "outputs": [],
   "source": [
    "bureau_agg = bureau.drop(columns = ['SK_ID_BUREAU']).groupby('SK_ID_CURR', as_index = False).agg(['mean', 'max', 'min', 'sum']).reset_index()"
   ]
  },
  {
   "cell_type": "code",
   "execution_count": 8,
   "metadata": {},
   "outputs": [
    {
     "name": "stderr",
     "output_type": "stream",
     "text": [
      "merging between different levels can give an unintended result (1 levels on the left, 2 on the right)\n",
      "dropping on a non-lexsorted multi-index without a level parameter may impact performance.\n"
     ]
    }
   ],
   "source": [
    "model_file = model_file.merge(bureau_agg, on='SK_ID_CURR', how='left')"
   ]
  },
  {
   "cell_type": "code",
   "execution_count": 9,
   "metadata": {},
   "outputs": [
    {
     "data": {
      "text/plain": [
       "Index(['SK_ID_CURR', 'LOAN_COUNT', 'DAYS_CREDITmean', 'DAYS_CREDITmax',\n",
       "       'DAYS_CREDITmin', 'DAYS_CREDITsum', 'CREDIT_DAY_OVERDUEmean',\n",
       "       'CREDIT_DAY_OVERDUEmax', 'CREDIT_DAY_OVERDUEmin',\n",
       "       'CREDIT_DAY_OVERDUEsum', 'DAYS_CREDIT_ENDDATEmean',\n",
       "       'DAYS_CREDIT_ENDDATEmax', 'DAYS_CREDIT_ENDDATEmin',\n",
       "       'DAYS_CREDIT_ENDDATEsum', 'DAYS_ENDDATE_FACTmean',\n",
       "       'DAYS_ENDDATE_FACTmax', 'DAYS_ENDDATE_FACTmin', 'DAYS_ENDDATE_FACTsum',\n",
       "       'AMT_CREDIT_MAX_OVERDUEmean', 'AMT_CREDIT_MAX_OVERDUEmax',\n",
       "       'AMT_CREDIT_MAX_OVERDUEmin', 'AMT_CREDIT_MAX_OVERDUEsum',\n",
       "       'CNT_CREDIT_PROLONGmean', 'CNT_CREDIT_PROLONGmax',\n",
       "       'CNT_CREDIT_PROLONGmin', 'CNT_CREDIT_PROLONGsum', 'AMT_CREDIT_SUMmean',\n",
       "       'AMT_CREDIT_SUMmax', 'AMT_CREDIT_SUMmin', 'AMT_CREDIT_SUMsum',\n",
       "       'AMT_CREDIT_SUM_DEBTmean', 'AMT_CREDIT_SUM_DEBTmax',\n",
       "       'AMT_CREDIT_SUM_DEBTmin', 'AMT_CREDIT_SUM_DEBTsum',\n",
       "       'AMT_CREDIT_SUM_LIMITmean', 'AMT_CREDIT_SUM_LIMITmax',\n",
       "       'AMT_CREDIT_SUM_LIMITmin', 'AMT_CREDIT_SUM_LIMITsum',\n",
       "       'AMT_CREDIT_SUM_OVERDUEmean', 'AMT_CREDIT_SUM_OVERDUEmax',\n",
       "       'AMT_CREDIT_SUM_OVERDUEmin', 'AMT_CREDIT_SUM_OVERDUEsum',\n",
       "       'DAYS_CREDIT_UPDATEmean', 'DAYS_CREDIT_UPDATEmax',\n",
       "       'DAYS_CREDIT_UPDATEmin', 'DAYS_CREDIT_UPDATEsum', 'AMT_ANNUITYmean',\n",
       "       'AMT_ANNUITYmax', 'AMT_ANNUITYmin', 'AMT_ANNUITYsum'],\n",
       "      dtype='object')"
      ]
     },
     "execution_count": 9,
     "metadata": {},
     "output_type": "execute_result"
    }
   ],
   "source": [
    "model_file.columns = [re.sub(r'\\W+', '', str(col)) for col in model_file.columns]"
   ]
  },
  {
   "cell_type": "code",
   "execution_count": 20,
   "metadata": {
    "collapsed": true,
    "jupyter": {
     "outputs_hidden": true
    }
   },
   "outputs": [
    {
     "data": {
      "image/png": "[encoded data removed]",
      "text/plain": [
       "<Figure size 1728x360 with 2 Axes>"
      ]
     },
     "metadata": {
      "needs_background": "light"
     },
     "output_type": "display_data"
    },
    {
     "data": {
      "image/png": "[encoded data removed]",
      "text/plain": [
       "<Figure size 1728x360 with 2 Axes>"
      ]
     },
     "metadata": {
      "needs_background": "light"
     },
     "output_type": "display_data"
    },
    {
     "data": {
      "image/png": "[encoded data removed]",
      "text/plain": [
       "<Figure size 1728x360 with 2 Axes>"
      ]
     },
     "metadata": {
      "needs_background": "light"
     },
     "output_type": "display_data"
    },
    {
     "data": {
      "image/png": "[encoded data removed]",
      "text/plain": [
       "<Figure size 1728x360 with 2 Axes>"
      ]
     },
     "metadata": {
      "needs_background": "light"
     },
     "output_type": "display_data"
    }
   ],
   "source": [
    "plot_file = model_file.merge(train_response, on='SK_ID_CURR', how='inner')\n",
    "for col in [\n",
    "    \"CREDIT_DAY_OVERDUEmax\",\n",
    "    \"CNT_CREDIT_PROLONGsum\",\n",
    "    \"AMT_CREDIT_SUM_DEBTsum\",\n",
    "    \"AMT_CREDIT_MAX_OVERDUEmax\",\n",
    "]:\n",
    "    fig, ax = plt.subplots(1,2)\n",
    "    ax[0].hist(plot_file[plot_file[\"TARGET\"]==0][col].dropna())\n",
    "    ax[0].tick_params(labelrotation=45)\n",
    "    ax[1].hist(plot_file[plot_file[\"TARGET\"]==1][col].dropna())\n",
    "    ax[1].tick_params(labelrotation=45)\n",
    "    fig.set_size_inches(24, 5)\n",
    "    fig.suptitle(col)"
   ]
  },
  {
   "cell_type": "markdown",
   "metadata": {},
   "source": [
    "### Export bureau variables"
   ]
  },
  {
   "cell_type": "code",
   "execution_count": 15,
   "metadata": {},
   "outputs": [],
   "source": [
    "model_file.to_csv(model_file_output_dir + \"manual.csv\",index=False)"
   ]
  },
  {
   "cell_type": "code",
   "execution_count": null,
   "metadata": {},
   "outputs": [],
   "source": []
  }
 ],
 "metadata": {
  "kernelspec": {
   "display_name": "Python 3",
   "language": "python",
   "name": "python3"
  },
  "language_info": {
   "codemirror_mode": {
    "name": "ipython",
    "version": 3
   },
   "file_extension": ".py",
   "mimetype": "text/x-python",
   "name": "python",
   "nbconvert_exporter": "python",
   "pygments_lexer": "ipython3",
   "version": "3.7.6"
  }
 },
 "nbformat": 4,
 "nbformat_minor": 4
}
