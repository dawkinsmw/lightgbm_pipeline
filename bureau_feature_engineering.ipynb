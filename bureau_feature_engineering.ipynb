{
 "cells": [
  {
   "cell_type": "markdown",
   "metadata": {},
   "source": [
    "# 0. Set up"
   ]
  },
  {
   "cell_type": "code",
   "execution_count": 1,
   "metadata": {},
   "outputs": [],
   "source": [
    "## Import packages\n",
    "import os\n",
    "import pandas as pd"
   ]
  },
  {
   "cell_type": "code",
   "execution_count": 2,
   "metadata": {},
   "outputs": [],
   "source": [
    "## Set paths\n",
    "user = os.getenv('USERNAME')\n",
    "shared_workspace = '/home/mdawkins/modelling_club'\n",
    "user_dir = os.path.join(shared_workspace, user)\n",
    "data_dir = os.path.join(shared_workspace, 'raw_data')\n",
    "data_output_dir = os.path.join(shared_workspace, 'raw_data_lfs/engineered/bureau/')"
   ]
  },
  {
   "cell_type": "markdown",
   "metadata": {},
   "source": [
    "# 1. Import data"
   ]
  },
  {
   "cell_type": "code",
   "execution_count": 3,
   "metadata": {},
   "outputs": [],
   "source": [
    "home_loan_train = pd.read_csv(data_dir + '/raw/application_train.csv',index_col='SK_ID_CURR')\n",
    "train_response = home_loan_train['TARGET']\n",
    "\n",
    "home_loan_test = pd.read_csv(data_dir + '/raw/application_test_noTarget.csv',index_col='SK_ID_CURR')\n",
    "home_loan_test.loc[:, 'TARGET'] = None\n",
    "\n",
    "bureau = pd.read_csv(data_dir + '/raw/bureau.csv')\n",
    "bureauBalance = pd.read_csv(data_dir + '/raw/bureau_balance.csv')"
   ]
  },
  {
   "cell_type": "raw",
   "metadata": {},
   "source": [
    "SK_ID_CURR: \"ID of loan in our sample - one loan in our sample can have 0,1,2 or more related previous credits in credit bureau \",hashed\n",
    "SK_BUREAU_ID: Recoded ID of previous Credit Bureau credit related to our loan (unique coding for each loan application),hashed\n",
    "\n",
    "CREDIT_ACTIVE: Status of the Credit Bureau (CB) reported credits,\n",
    "\n",
    "CREDIT_CURRENCY: Recoded currency of the Credit Bureau credit,recoded\n",
    "\n",
    "DAYS_CREDIT: How many days before current application did client apply for Credit Bureau credit,time only relative to the application\n",
    "CREDIT_DAY_OVERDUE: Number of days past due on CB credit at the time of application for related loan in our sample,\n",
    "DAYS_CREDIT_ENDDATE: Remaining duration of CB credit (in days) at the time of application in Home Credit,time only relative to the application\n",
    "DAYS_ENDDATE_FACT: Days since CB credit ended at the time of application in Home Credit (only for closed credit),time only relative to the application\n",
    "\n",
    "AMT_CREDIT_MAX_OVERDUE: Maximal amount overdue on the Credit Bureau credit so far (at application date of loan in our sample),\n",
    "CNT_CREDIT_PROLONG: How many times was the Credit Bureau credit prolonged,\n",
    "AMT_CREDIT_SUM: Current credit amount for the Credit Bureau credit,\n",
    "AMT_CREDIT_SUM_DEBT: Current debt on Credit Bureau credit,\n",
    "AMT_CREDIT_SUM_LIMIT: Current credit limit of credit card reported in Credit Bureau,\n",
    "AMT_CREDIT_SUM_OVERDUE: Current amount overdue on Credit Bureau credit,\n",
    "\n",
    "CREDIT_TYPE: \"Type of Credit Bureau credit (Car, cash,...)\",\n",
    "DAYS_CREDIT_UPDATE: How many days before loan application did last information about the Credit Bureau credit come,time only relative to the application\n",
    "AMT_ANNUITY: Annuity of the Credit Bureau credit,"
   ]
  },
  {
   "cell_type": "markdown",
   "metadata": {},
   "source": [
    "# 2. Cleaning"
   ]
  },
  {
   "cell_type": "code",
   "execution_count": 4,
   "metadata": {},
   "outputs": [],
   "source": [
    "bureau = bureau[bureau[\"CREDIT_CURRENCY\"]=='currency 1']\n",
    "bureau = bureau.drop(\"CREDIT_CURRENCY\",axis=1)"
   ]
  },
  {
   "cell_type": "markdown",
   "metadata": {},
   "source": [
    "# 3. Bad Debt"
   ]
  },
  {
   "cell_type": "code",
   "execution_count": 5,
   "metadata": {},
   "outputs": [],
   "source": [
    "Bad_Debt = bureau[[\"SK_ID_CURR\",\"CREDIT_ACTIVE\"]][bureau[\"CREDIT_ACTIVE\"]==\"Bad debt\"].groupby(\"SK_ID_CURR\").count().rename(columns={\"CREDIT_ACTIVE\":\"BAD_DEBT\"})\n",
    "Bad_Debt.to_pickle(data_output_dir + 'Bad_Debt.pkl')"
   ]
  },
  {
   "cell_type": "markdown",
   "metadata": {},
   "source": [
    "# 4. Active and Closed Debt"
   ]
  },
  {
   "cell_type": "code",
   "execution_count": 7,
   "metadata": {},
   "outputs": [],
   "source": [
    "## Consumer Credit\n",
    "Active_ConsumerCredit = bureau.loc[(bureau[\"CREDIT_ACTIVE\"] == 'Active') & (bureau[\"CREDIT_TYPE\"] == \"Consumer credit\")]\n",
    "Closed_ConsumerCredit = bureau.loc[(bureau[\"CREDIT_ACTIVE\"] == 'Closed') & (bureau[\"CREDIT_TYPE\"] == \"Consumer credit\")]\n",
    "## Credit Card\n",
    "Active_CreditCard = bureau.loc[(bureau[\"CREDIT_ACTIVE\"] == 'Active') & (bureau[\"CREDIT_TYPE\"] == \"Credit card\")]\n",
    "Closed_CreditCard = bureau.loc[(bureau[\"CREDIT_ACTIVE\"] == 'Closed') & (bureau[\"CREDIT_TYPE\"] == \"Credit card\")]\n",
    "## Mortgage\n",
    "Active_Mortgage = bureau.loc[(bureau[\"CREDIT_ACTIVE\"] == 'Active') & (bureau[\"CREDIT_TYPE\"] == \"Mortgage\")]\n",
    "Closed_Mortgage = bureau.loc[(bureau[\"CREDIT_ACTIVE\"] == 'Closed') & (bureau[\"CREDIT_TYPE\"] == \"Mortgage\")]\n",
    "## Other\n",
    "Active_Other = bureau.loc[(bureau[\"CREDIT_ACTIVE\"] == 'Active') & ~(bureau[\"CREDIT_TYPE\"].isin([\"Consumer credit\",\"Credit card\",\"Mortgage\"]))]\n",
    "Closed_Other = bureau.loc[(bureau[\"CREDIT_ACTIVE\"] == 'Closed') & ~(bureau[\"CREDIT_TYPE\"].isin([\"Consumer credit\",\"Credit card\",\"Mortgage\"]))]"
   ]
  },
  {
   "cell_type": "markdown",
   "metadata": {},
   "source": [
    "### Active Consumer Credit"
   ]
  },
  {
   "cell_type": "code",
   "execution_count": 8,
   "metadata": {},
   "outputs": [],
   "source": [
    "def conCred_year_brackets(year):\n",
    "    if (year >= -1): return 1\n",
    "    elif (year >= -2): return 2\n",
    "    else: return 3"
   ]
  },
  {
   "cell_type": "code",
   "execution_count": 9,
   "metadata": {},
   "outputs": [],
   "source": [
    "Active_ConsumerCredit = Active_ConsumerCredit.drop([\"DAYS_ENDDATE_FACT\",\"CREDIT_ACTIVE\",\"CREDIT_TYPE\"],axis=1)\n",
    "Active_ConsumerCredit = Active_ConsumerCredit.sort_values([\"SK_ID_CURR\",\"DAYS_CREDIT\",\"DAYS_CREDIT_UPDATE\"])\n",
    "Active_ConsumerCredit = Active_ConsumerCredit.drop_duplicates(subset=[\"SK_ID_CURR\", \"DAYS_CREDIT\"], keep='last')\n",
    "Active_ConsumerCredit[\"YEARS_CREDIT\"] = Active_ConsumerCredit[\"DAYS_CREDIT\"]/365\n",
    "Active_ConsumerCredit[\"DATE_RANGE\"] = Active_ConsumerCredit[\"YEARS_CREDIT\"].apply(conCred_year_brackets)"
   ]
  },
  {
   "cell_type": "code",
   "execution_count": 10,
   "metadata": {},
   "outputs": [],
   "source": [
    "Active_ConsumerCredit_Agg = Active_ConsumerCredit.groupby([\"SK_ID_CURR\"]).agg(\n",
    "         AMT_CREDIT_MAX_OVERDUE=('AMT_CREDIT_MAX_OVERDUE', max), \n",
    "         CNT_CREDIT_PROLONG=('CNT_CREDIT_PROLONG', sum),\n",
    "         CNT_CREDIT_PROLONG_MAX=('CNT_CREDIT_PROLONG', max),\n",
    "         AMT_CREDIT_SUM=('AMT_CREDIT_SUM', sum),\n",
    "         AMT_CREDIT_SUM_MAX=('AMT_CREDIT_SUM', max),\n",
    "         AMT_CREDIT_SUM_DEBT=('AMT_CREDIT_SUM_DEBT', sum),\n",
    "         AMT_CREDIT_SUM_DEBT_MAX=('AMT_CREDIT_SUM_DEBT', max),\n",
    "         COUNT=('SK_ID_BUREAU',len)\n",
    "        )"
   ]
  },
  {
   "cell_type": "code",
   "execution_count": 11,
   "metadata": {},
   "outputs": [],
   "source": [
    "Active_ConsumerCredit_Agg.to_pickle(data_output_dir + \"Active_ConsumerCredit_Agg.pkl\")"
   ]
  },
  {
   "cell_type": "code",
   "execution_count": 13,
   "metadata": {},
   "outputs": [],
   "source": [
    "Active_ConsumerCredit_Agg_Date = Active_ConsumerCredit.groupby([\"DATE_RANGE\",\"SK_ID_CURR\"]).agg(\n",
    "         AMT_CREDIT_MAX_OVERDUE=('AMT_CREDIT_MAX_OVERDUE', max), \n",
    "         CNT_CREDIT_PROLONG=('CNT_CREDIT_PROLONG', sum),\n",
    "         CNT_CREDIT_PROLONG_MAX=('CNT_CREDIT_PROLONG', max),\n",
    "         AMT_CREDIT_SUM=('AMT_CREDIT_SUM', sum),\n",
    "         AMT_CREDIT_SUM_MAX=('AMT_CREDIT_SUM', max),\n",
    "         AMT_CREDIT_SUM_DEBT=('AMT_CREDIT_SUM_DEBT', sum),\n",
    "         AMT_CREDIT_SUM_DEBT_MAX=('AMT_CREDIT_SUM_DEBT', max),\n",
    "         COUNT=('SK_ID_BUREAU',len)\n",
    "        )"
   ]
  },
  {
   "cell_type": "code",
   "execution_count": 14,
   "metadata": {},
   "outputs": [],
   "source": [
    "Active_ConsumerCredit_Agg_Date.to_pickle(data_output_dir + \"Active_ConsumerCredit_Agg_Date.pkl\")"
   ]
  },
  {
   "cell_type": "markdown",
   "metadata": {},
   "source": [
    "### Closed Consumer Credit"
   ]
  },
  {
   "cell_type": "code",
   "execution_count": 16,
   "metadata": {},
   "outputs": [],
   "source": [
    "def closedConCred_year_brackets(year):\n",
    "    if (year >= -2): return 1\n",
    "    elif (year >= -4): return 2\n",
    "    else: return 3"
   ]
  },
  {
   "cell_type": "code",
   "execution_count": 17,
   "metadata": {},
   "outputs": [],
   "source": [
    "Closed_ConsumerCredit = Closed_ConsumerCredit.drop([\"CREDIT_ACTIVE\",\"CREDIT_TYPE\"],axis=1)\n",
    "Closed_ConsumerCredit = Closed_ConsumerCredit.sort_values([\"SK_ID_CURR\",\"DAYS_CREDIT\",\"DAYS_CREDIT_UPDATE\"])\n",
    "Closed_ConsumerCredit = Closed_ConsumerCredit.drop_duplicates(subset=[\"SK_ID_CURR\", \"DAYS_CREDIT\"], keep='last')\n",
    "Closed_ConsumerCredit[\"YEARS_ENDDATE_FACT\"] = Closed_ConsumerCredit[\"DAYS_ENDDATE_FACT\"]/365\n",
    "Closed_ConsumerCredit[\"DATE_RANGE\"] = Closed_ConsumerCredit[\"YEARS_ENDDATE_FACT\"].apply(closedConCred_year_brackets)"
   ]
  },
  {
   "cell_type": "code",
   "execution_count": 18,
   "metadata": {},
   "outputs": [],
   "source": [
    "Closed_ConsumerCredit_Agg = Closed_ConsumerCredit.groupby([\"SK_ID_CURR\"]).agg(\n",
    "         AMT_CREDIT_MAX_OVERDUE=('AMT_CREDIT_MAX_OVERDUE', max), \n",
    "         CNT_CREDIT_PROLONG=('CNT_CREDIT_PROLONG', sum),\n",
    "         CNT_CREDIT_PROLONG_MAX=('CNT_CREDIT_PROLONG', max),\n",
    "         AMT_CREDIT_SUM=('AMT_CREDIT_SUM', sum),\n",
    "         AMT_CREDIT_SUM_MAX=('AMT_CREDIT_SUM', max),\n",
    "         COUNT=('SK_ID_BUREAU',len)\n",
    "        )"
   ]
  },
  {
   "cell_type": "code",
   "execution_count": 19,
   "metadata": {},
   "outputs": [],
   "source": [
    "Closed_ConsumerCredit_Agg.to_pickle(data_output_dir + \"Closed_ConsumerCredit_Agg.pkl\")"
   ]
  },
  {
   "cell_type": "code",
   "execution_count": 21,
   "metadata": {},
   "outputs": [],
   "source": [
    "Closed_ConsumerCredit_Agg_Date = Closed_ConsumerCredit.groupby([\"DATE_RANGE\",\"SK_ID_CURR\"]).agg(\n",
    "         AMT_CREDIT_MAX_OVERDUE=('AMT_CREDIT_MAX_OVERDUE', max), \n",
    "         CNT_CREDIT_PROLONG=('CNT_CREDIT_PROLONG', sum),\n",
    "         CNT_CREDIT_PROLONG_MAX=('CNT_CREDIT_PROLONG', max),\n",
    "         AMT_CREDIT_SUM=('AMT_CREDIT_SUM', sum),\n",
    "         AMT_CREDIT_SUM_MAX=('AMT_CREDIT_SUM', max),\n",
    "         COUNT=('SK_ID_BUREAU',len)\n",
    "        )"
   ]
  },
  {
   "cell_type": "code",
   "execution_count": 22,
   "metadata": {},
   "outputs": [],
   "source": [
    "Closed_ConsumerCredit_Agg_Date.to_pickle(data_output_dir + \"Closed_ConsumerCredit_Agg_Date.pkl\")"
   ]
  },
  {
   "cell_type": "markdown",
   "metadata": {},
   "source": [
    "### Active Credit Card"
   ]
  },
  {
   "cell_type": "code",
   "execution_count": 24,
   "metadata": {},
   "outputs": [],
   "source": [
    "def credCard_year_brackets(year):\n",
    "    if (year >= -1): return 1\n",
    "    elif (year >= -2): return 2\n",
    "    elif (year >= -4): return 3\n",
    "    else: return 4"
   ]
  },
  {
   "cell_type": "code",
   "execution_count": 25,
   "metadata": {},
   "outputs": [],
   "source": [
    "Active_CreditCard = Active_CreditCard.drop([\"DAYS_ENDDATE_FACT\",\"CREDIT_ACTIVE\",\"CREDIT_TYPE\"],axis=1)\n",
    "Active_CreditCard = Active_CreditCard.sort_values([\"SK_ID_CURR\",\"DAYS_CREDIT\",\"DAYS_CREDIT_UPDATE\"])\n",
    "Active_CreditCard = Active_CreditCard.drop_duplicates(subset=[\"SK_ID_CURR\", \"DAYS_CREDIT\"], keep='last')\n",
    "Active_CreditCard[\"YEARS_CREDIT\"] = Active_CreditCard[\"DAYS_CREDIT\"]/365\n",
    "Active_CreditCard[\"DATE_RANGE\"] = Active_CreditCard[\"YEARS_CREDIT\"].apply(credCard_year_brackets)"
   ]
  },
  {
   "cell_type": "code",
   "execution_count": 26,
   "metadata": {},
   "outputs": [],
   "source": [
    "Active_CreditCard_Agg = Active_CreditCard.groupby([\"SK_ID_CURR\"]).agg(\n",
    "         AMT_CREDIT_MAX_OVERDUE=('AMT_CREDIT_MAX_OVERDUE', max), \n",
    "         CNT_CREDIT_PROLONG=('CNT_CREDIT_PROLONG', sum),\n",
    "         CNT_CREDIT_PROLONG_MAX=('CNT_CREDIT_PROLONG', max),\n",
    "         AMT_CREDIT_SUM=('AMT_CREDIT_SUM', sum),\n",
    "         AMT_CREDIT_SUM_MAX=('AMT_CREDIT_SUM', max),\n",
    "         AMT_CREDIT_SUM_DEBT=('AMT_CREDIT_SUM_DEBT', sum),\n",
    "         AMT_CREDIT_SUM_DEBT_MAX=('AMT_CREDIT_SUM_DEBT', max),\n",
    "         AMT_CREDIT_SUM_LIMIT=('AMT_CREDIT_SUM_LIMIT', sum),\n",
    "         AMT_CREDIT_SUM_LIMIT_MAX=('AMT_CREDIT_SUM_LIMIT', max),\n",
    "         COUNT=('SK_ID_BUREAU',len)\n",
    "        )"
   ]
  },
  {
   "cell_type": "code",
   "execution_count": 27,
   "metadata": {},
   "outputs": [],
   "source": [
    "Active_CreditCard_Agg.to_pickle(data_output_dir + \"Active_CreditCard_Agg.pkl\")"
   ]
  },
  {
   "cell_type": "code",
   "execution_count": 29,
   "metadata": {},
   "outputs": [],
   "source": [
    "Active_CreditCard_Agg_Date = Active_CreditCard.groupby([\"DATE_RANGE\",\"SK_ID_CURR\"]).agg(\n",
    "         AMT_CREDIT_MAX_OVERDUE=('AMT_CREDIT_MAX_OVERDUE', max), \n",
    "         CNT_CREDIT_PROLONG=('CNT_CREDIT_PROLONG', sum),\n",
    "         CNT_CREDIT_PROLONG_MAX=('CNT_CREDIT_PROLONG', max),\n",
    "         AMT_CREDIT_SUM=('AMT_CREDIT_SUM', sum),\n",
    "         AMT_CREDIT_SUM_MAX=('AMT_CREDIT_SUM', max),\n",
    "         AMT_CREDIT_SUM_DEBT=('AMT_CREDIT_SUM_DEBT', sum),\n",
    "         AMT_CREDIT_SUM_DEBT_MAX=('AMT_CREDIT_SUM_DEBT', max),\n",
    "         AMT_CREDIT_SUM_LIMIT=('AMT_CREDIT_SUM_LIMIT', sum),\n",
    "         AMT_CREDIT_SUM_LIMIT_MAX=('AMT_CREDIT_SUM_LIMIT', max),\n",
    "         COUNT=('SK_ID_BUREAU',len)\n",
    "        )"
   ]
  },
  {
   "cell_type": "code",
   "execution_count": 30,
   "metadata": {},
   "outputs": [],
   "source": [
    "Active_CreditCard_Agg_Date.to_pickle(data_output_dir + \"Active_CreditCard_Agg_Date.pkl\")"
   ]
  },
  {
   "cell_type": "markdown",
   "metadata": {},
   "source": [
    "### Closed Credit Card"
   ]
  },
  {
   "cell_type": "code",
   "execution_count": 32,
   "metadata": {},
   "outputs": [],
   "source": [
    "def closedCredCard_year_brackets(year):\n",
    "    if (year >= -1): return 1\n",
    "    elif (year >= -2): return 2\n",
    "    elif (year >= -4): return 3\n",
    "    else: return 4"
   ]
  },
  {
   "cell_type": "code",
   "execution_count": 33,
   "metadata": {},
   "outputs": [],
   "source": [
    "Closed_CreditCard = Closed_CreditCard.drop([\"CREDIT_ACTIVE\",\"CREDIT_TYPE\"],axis=1)\n",
    "Closed_CreditCard = Closed_CreditCard.sort_values([\"SK_ID_CURR\",\"DAYS_CREDIT\",\"DAYS_CREDIT_UPDATE\"])\n",
    "Closed_CreditCard = Closed_CreditCard.drop_duplicates(subset=[\"SK_ID_CURR\", \"DAYS_CREDIT\"], keep='last')\n",
    "Closed_CreditCard[\"YEARS_ENDDATE_FACT\"] = Closed_CreditCard[\"DAYS_ENDDATE_FACT\"]/365\n",
    "Closed_CreditCard[\"DATE_RANGE\"] = Closed_CreditCard[\"YEARS_ENDDATE_FACT\"].apply(closedCredCard_year_brackets)"
   ]
  },
  {
   "cell_type": "code",
   "execution_count": 34,
   "metadata": {},
   "outputs": [],
   "source": [
    "Closed_CreditCard_Agg = Closed_CreditCard.groupby([\"SK_ID_CURR\"]).agg(\n",
    "         AMT_CREDIT_MAX_OVERDUE=('AMT_CREDIT_MAX_OVERDUE', max), \n",
    "         CNT_CREDIT_PROLONG=('CNT_CREDIT_PROLONG', sum),\n",
    "         CNT_CREDIT_PROLONG_MAX=('CNT_CREDIT_PROLONG', max),\n",
    "         AMT_CREDIT_SUM=('AMT_CREDIT_SUM', sum),\n",
    "         AMT_CREDIT_SUM_MAX=('AMT_CREDIT_SUM', max),\n",
    "         AMT_CREDIT_SUM_LIMIT=('AMT_CREDIT_SUM_LIMIT', sum),\n",
    "         AMT_CREDIT_SUM_LIMIT_MAX=('AMT_CREDIT_SUM_LIMIT', max),\n",
    "         COUNT=('SK_ID_BUREAU',len)\n",
    "        )"
   ]
  },
  {
   "cell_type": "code",
   "execution_count": 35,
   "metadata": {},
   "outputs": [],
   "source": [
    "Closed_CreditCard_Agg.to_pickle(data_output_dir + \"Closed_CreditCard_Agg.pkl\")"
   ]
  },
  {
   "cell_type": "code",
   "execution_count": 37,
   "metadata": {},
   "outputs": [],
   "source": [
    "Closed_CreditCard_Agg_Date = Closed_CreditCard.groupby([\"DATE_RANGE\",\"SK_ID_CURR\"]).agg(\n",
    "         AMT_CREDIT_MAX_OVERDUE=('AMT_CREDIT_MAX_OVERDUE', max), \n",
    "         CNT_CREDIT_PROLONG=('CNT_CREDIT_PROLONG', sum),\n",
    "         CNT_CREDIT_PROLONG_MAX=('CNT_CREDIT_PROLONG', max),\n",
    "         AMT_CREDIT_SUM=('AMT_CREDIT_SUM', sum),\n",
    "         AMT_CREDIT_SUM_MAX=('AMT_CREDIT_SUM', max),\n",
    "         AMT_CREDIT_SUM_LIMIT=('AMT_CREDIT_SUM_LIMIT', sum),\n",
    "         AMT_CREDIT_SUM_LIMIT_MAX=('AMT_CREDIT_SUM_LIMIT', max),\n",
    "         COUNT=('SK_ID_BUREAU',len)\n",
    "        )"
   ]
  },
  {
   "cell_type": "code",
   "execution_count": 38,
   "metadata": {},
   "outputs": [],
   "source": [
    "Closed_CreditCard_Agg_Date.to_pickle(data_output_dir + \"Closed_CreditCard_Agg_Date.pkl\")"
   ]
  },
  {
   "cell_type": "markdown",
   "metadata": {},
   "source": [
    "### Active_Mortgage"
   ]
  },
  {
   "cell_type": "code",
   "execution_count": 40,
   "metadata": {},
   "outputs": [],
   "source": [
    "Active_Mortgage = Active_Mortgage.drop([\"DAYS_ENDDATE_FACT\",\"CREDIT_ACTIVE\",\"CREDIT_TYPE\"],axis=1)\n",
    "Active_Mortgage[\"COUNT\"] = Active_Mortgage[[\"SK_ID_CURR\",\"SK_ID_BUREAU\"]].groupby(\"SK_ID_CURR\").transform('count')"
   ]
  },
  {
   "cell_type": "code",
   "execution_count": 47,
   "metadata": {},
   "outputs": [
    {
     "name": "stderr",
     "output_type": "stream",
     "text": [
      "/home/mdawkins/jupyter/conda/envs/default/lib/python3.7/site-packages/ipykernel_launcher.py:3: SettingWithCopyWarning: \n",
      "A value is trying to be set on a copy of a slice from a DataFrame.\n",
      "Try using .loc[row_indexer,col_indexer] = value instead\n",
      "\n",
      "See the caveats in the documentation: https://pandas.pydata.org/pandas-docs/stable/user_guide/indexing.html#returning-a-view-versus-a-copy\n",
      "  This is separate from the ipykernel package so we can avoid doing imports until\n"
     ]
    }
   ],
   "source": [
    "Active_Mortgage_Singl = Active_Mortgage[Active_Mortgage[\"COUNT\"]<=1]\n",
    "Active_Mortgage_Dupes = Active_Mortgage[Active_Mortgage[\"COUNT\"]>1]\n",
    "Active_Mortgage_Dupes[\"COUNT\"] = Active_Mortgage_Dupes[[\"SK_ID_CURR\",\"SK_ID_BUREAU\"]].groupby('SK_ID_CURR').transform('count') \n",
    "Active_Mortgage_Dupes = Active_Mortgage_Dupes[Active_Mortgage_Dupes['DAYS_CREDIT_UPDATE'] == Active_Mortgage_Dupes.groupby('SK_ID_CURR')['DAYS_CREDIT_UPDATE'].transform('min')]\n",
    "Active_Mortgage_Dupes = Active_Mortgage_Dupes[Active_Mortgage_Dupes['DAYS_CREDIT'] == Active_Mortgage_Dupes.groupby('SK_ID_CURR')['DAYS_CREDIT'].transform('min')]\n",
    "Active_Mortgage_Dupes = Active_Mortgage_Dupes[Active_Mortgage_Dupes['AMT_CREDIT_SUM'] == Active_Mortgage_Dupes.groupby('SK_ID_CURR')['AMT_CREDIT_SUM'].transform('max')]\n",
    "Active_Mortgage_Dupes = Active_Mortgage_Dupes[Active_Mortgage_Dupes[\"DAYS_CREDIT_ENDDATE\"].notnull()]\n",
    "Active_Mortgage_Dupes = Active_Mortgage_Dupes.drop_duplicates(subset=['SK_ID_CURR'])\n",
    "Active_Mortgage_Clean = pd.concat([Active_Mortgage_Singl, Active_Mortgage_Dupes])\n",
    "Active_Mortgage_Clean = Active_Mortgage_Clean.set_index(\"SK_ID_CURR\")\n",
    "Active_Mortgage_Clean = Active_Mortgage_Clean.drop([\"SK_ID_BUREAU\"],axis=1)"
   ]
  },
  {
   "cell_type": "code",
   "execution_count": 48,
   "metadata": {},
   "outputs": [],
   "source": [
    "Active_Mortgage_Clean.to_pickle(data_output_dir + \"Active_Mortgage_Clean.pkl\")"
   ]
  },
  {
   "cell_type": "markdown",
   "metadata": {},
   "source": [
    "### Closed_Mortgage"
   ]
  },
  {
   "cell_type": "code",
   "execution_count": 50,
   "metadata": {},
   "outputs": [],
   "source": [
    "Closed_Mortgage = Closed_Mortgage.drop([\"CREDIT_ACTIVE\",\"CREDIT_TYPE\"],axis=1)\n",
    "Closed_Mortgage[\"COUNT\"] = Closed_Mortgage[[\"SK_ID_CURR\",\"SK_ID_BUREAU\"]].groupby(\"SK_ID_CURR\").transform('count')"
   ]
  },
  {
   "cell_type": "code",
   "execution_count": 54,
   "metadata": {},
   "outputs": [
    {
     "name": "stderr",
     "output_type": "stream",
     "text": [
      "/home/mdawkins/jupyter/conda/envs/default/lib/python3.7/site-packages/ipykernel_launcher.py:3: SettingWithCopyWarning: \n",
      "A value is trying to be set on a copy of a slice from a DataFrame.\n",
      "Try using .loc[row_indexer,col_indexer] = value instead\n",
      "\n",
      "See the caveats in the documentation: https://pandas.pydata.org/pandas-docs/stable/user_guide/indexing.html#returning-a-view-versus-a-copy\n",
      "  This is separate from the ipykernel package so we can avoid doing imports until\n"
     ]
    }
   ],
   "source": [
    "Closed_Mortgage_Singl = Closed_Mortgage[Closed_Mortgage[\"COUNT\"]<=1]\n",
    "Closed_Mortgage_Dupes = Closed_Mortgage[Closed_Mortgage[\"COUNT\"]>1]\n",
    "Closed_Mortgage_Dupes[\"COUNT\"] = Closed_Mortgage_Dupes[[\"SK_ID_CURR\",\"SK_ID_BUREAU\"]].groupby('SK_ID_CURR').transform('count') \n",
    "Closed_Mortgage_Dupes = Closed_Mortgage_Dupes[Closed_Mortgage_Dupes['DAYS_CREDIT_UPDATE'] == Closed_Mortgage_Dupes.groupby('SK_ID_CURR')['DAYS_CREDIT_UPDATE'].transform('min')]\n",
    "Closed_Mortgage_Dupes = Closed_Mortgage_Dupes[Closed_Mortgage_Dupes['DAYS_ENDDATE_FACT'] == Closed_Mortgage_Dupes.groupby('SK_ID_CURR')['DAYS_ENDDATE_FACT'].transform('min')]\n",
    "Closed_Mortgage_Dupes = Closed_Mortgage_Dupes[Closed_Mortgage_Dupes['AMT_CREDIT_SUM'] == Closed_Mortgage_Dupes.groupby('SK_ID_CURR')['AMT_CREDIT_SUM'].transform('max')]\n",
    "Closed_Mortgage_Dupes = Closed_Mortgage_Dupes.drop_duplicates(subset=['SK_ID_CURR'])\n",
    "Closed_Mortgage_Clean = pd.concat([Closed_Mortgage_Singl, Closed_Mortgage_Dupes])\n",
    "Closed_Mortgage_Clean = Closed_Mortgage_Clean.set_index(\"SK_ID_CURR\")\n",
    "Closed_Mortgage_Clean = Closed_Mortgage_Clean.drop([\"SK_ID_BUREAU\"],axis=1)"
   ]
  },
  {
   "cell_type": "code",
   "execution_count": 55,
   "metadata": {},
   "outputs": [],
   "source": [
    "Closed_Mortgage_Clean.to_pickle(data_output_dir + \"Closed_Mortgage_Clean.pkl\")"
   ]
  },
  {
   "cell_type": "markdown",
   "metadata": {},
   "source": [
    "### Active Other"
   ]
  },
  {
   "cell_type": "code",
   "execution_count": 57,
   "metadata": {},
   "outputs": [],
   "source": [
    "def other_year_brackets(year):\n",
    "    if (year >= -1): return 1\n",
    "    elif (year >= -2): return 2\n",
    "    else: return 3"
   ]
  },
  {
   "cell_type": "code",
   "execution_count": 58,
   "metadata": {},
   "outputs": [],
   "source": [
    "Active_Other = Active_Other.drop([\"DAYS_ENDDATE_FACT\",\"CREDIT_ACTIVE\"],axis=1)\n",
    "Active_Other = Active_Other.sort_values([\"SK_ID_CURR\",\"DAYS_CREDIT\",\"DAYS_CREDIT_UPDATE\"])\n",
    "Active_Other = Active_Other.drop_duplicates(subset=[\"SK_ID_CURR\", \"DAYS_CREDIT\"], keep='last')\n",
    "Active_Other[\"YEARS_CREDIT\"] = Active_Other[\"DAYS_CREDIT\"]/365\n",
    "Active_Other[\"DATE_RANGE\"] = Active_Other[\"YEARS_CREDIT\"].apply(other_year_brackets)"
   ]
  },
  {
   "cell_type": "code",
   "execution_count": 59,
   "metadata": {},
   "outputs": [],
   "source": [
    "Active_Other_Agg = Active_Other.groupby([\"SK_ID_CURR\"]).agg(\n",
    "         AMT_CREDIT_MAX_OVERDUE=('AMT_CREDIT_MAX_OVERDUE', max), \n",
    "         AMT_CREDIT_SUM=('AMT_CREDIT_SUM', sum),\n",
    "         AMT_CREDIT_SUM_MAX=('AMT_CREDIT_SUM', max),\n",
    "         AMT_CREDIT_SUM_DEBT=('AMT_CREDIT_SUM_DEBT', sum),\n",
    "         AMT_CREDIT_SUM_DEBT_MAX=('AMT_CREDIT_SUM_DEBT', max),\n",
    "         AMT_ANNUITY=('AMT_ANNUITY', sum),\n",
    "         AMT_ANNUITY_MAX=('AMT_ANNUITY', max),\n",
    "         COUNT=('SK_ID_BUREAU',len)\n",
    "        )"
   ]
  },
  {
   "cell_type": "code",
   "execution_count": 60,
   "metadata": {},
   "outputs": [],
   "source": [
    "Active_Other_Agg.to_pickle(data_output_dir + \"Active_Other_Agg.pkl\")"
   ]
  },
  {
   "cell_type": "code",
   "execution_count": 62,
   "metadata": {},
   "outputs": [],
   "source": [
    "Active_Other_Agg_Date = Active_Other.groupby([\"DATE_RANGE\",\"SK_ID_CURR\"]).agg(\n",
    "         AMT_CREDIT_MAX_OVERDUE=('AMT_CREDIT_MAX_OVERDUE', max), \n",
    "         AMT_CREDIT_SUM=('AMT_CREDIT_SUM', sum),\n",
    "         AMT_CREDIT_SUM_MAX=('AMT_CREDIT_SUM', max),\n",
    "         AMT_CREDIT_SUM_DEBT=('AMT_CREDIT_SUM_DEBT', sum),\n",
    "         AMT_CREDIT_SUM_DEBT_MAX=('AMT_CREDIT_SUM_DEBT', max),\n",
    "         AMT_ANNUITY_DEBT=('AMT_ANNUITY', sum),\n",
    "         AMT_ANNUITY_DEBT_MAX=('AMT_ANNUITY', max),\n",
    "         COUNT=('SK_ID_BUREAU',len)\n",
    "        )"
   ]
  },
  {
   "cell_type": "code",
   "execution_count": 63,
   "metadata": {},
   "outputs": [],
   "source": [
    "Active_Other_Agg_Date.to_pickle(data_output_dir + \"Active_Other_Agg_Date.pkl\")"
   ]
  },
  {
   "cell_type": "markdown",
   "metadata": {},
   "source": [
    "### Closed Other"
   ]
  },
  {
   "cell_type": "code",
   "execution_count": 65,
   "metadata": {},
   "outputs": [],
   "source": [
    "def closedOther_year_brackets(year):\n",
    "    if (year >= -2): return 1\n",
    "    elif (year >= -4): return 2\n",
    "    else: return 3"
   ]
  },
  {
   "cell_type": "code",
   "execution_count": 66,
   "metadata": {},
   "outputs": [],
   "source": [
    "Closed_Other = Closed_Other.drop([\"CREDIT_ACTIVE\"],axis=1)\n",
    "Closed_Other = Closed_Other.sort_values([\"SK_ID_CURR\",\"DAYS_CREDIT\",\"DAYS_CREDIT_UPDATE\"])\n",
    "Closed_Other = Closed_Other.drop_duplicates(subset=[\"SK_ID_CURR\", \"DAYS_CREDIT\"], keep='last')\n",
    "Closed_Other[\"YEARS_CREDIT\"] = Closed_Other[\"DAYS_ENDDATE_FACT\"]/365\n",
    "Closed_Other[\"DATE_RANGE\"] = Closed_Other[\"YEARS_CREDIT\"].apply(closedOther_year_brackets)"
   ]
  },
  {
   "cell_type": "code",
   "execution_count": 67,
   "metadata": {},
   "outputs": [],
   "source": [
    "Closed_Other_Agg = Closed_Other.groupby([\"SK_ID_CURR\"]).agg(\n",
    "         AMT_CREDIT_MAX_OVERDUE=('AMT_CREDIT_MAX_OVERDUE', max), \n",
    "         AMT_CREDIT_SUM=('AMT_CREDIT_SUM', sum),\n",
    "         AMT_CREDIT_SUM_MAX=('AMT_CREDIT_SUM', max),\n",
    "         AMT_CREDIT_SUM_DEBT=('AMT_CREDIT_SUM_DEBT', sum),\n",
    "         AMT_CREDIT_SUM_DEBT_MAX=('AMT_CREDIT_SUM_DEBT', max),\n",
    "         AMT_ANNUITY_DEBT=('AMT_ANNUITY', sum),\n",
    "         AMT_ANNUITY_DEBT_MAX=('AMT_ANNUITY', max),\n",
    "         COUNT=('SK_ID_BUREAU',len)\n",
    "        )"
   ]
  },
  {
   "cell_type": "code",
   "execution_count": 68,
   "metadata": {},
   "outputs": [],
   "source": [
    "Closed_Other_Agg.to_pickle(data_output_dir + \"Closed_Other_Agg.pkl\")"
   ]
  },
  {
   "cell_type": "code",
   "execution_count": 70,
   "metadata": {},
   "outputs": [],
   "source": [
    "Closed_Other_Agg_Date = Closed_Other.groupby([\"DATE_RANGE\",\"SK_ID_CURR\"]).agg(\n",
    "         AMT_CREDIT_MAX_OVERDUE=('AMT_CREDIT_MAX_OVERDUE', max), \n",
    "         AMT_CREDIT_SUM=('AMT_CREDIT_SUM', sum),\n",
    "         AMT_CREDIT_SUM_MAX=('AMT_CREDIT_SUM', max),\n",
    "         AMT_CREDIT_SUM_DEBT=('AMT_CREDIT_SUM_DEBT', sum),\n",
    "         AMT_CREDIT_SUM_DEBT_MAX=('AMT_CREDIT_SUM_DEBT', max),\n",
    "         AMT_ANNUITY_DEBT=('AMT_ANNUITY', sum),\n",
    "         AMT_ANNUITY_DEBT_MAX=('AMT_ANNUITY', max),\n",
    "         COUNT=('SK_ID_BUREAU',len)\n",
    "        )"
   ]
  },
  {
   "cell_type": "code",
   "execution_count": 71,
   "metadata": {},
   "outputs": [],
   "source": [
    "Closed_Other_Agg_Date.to_pickle(data_output_dir + \"Closed_Other_Agg_Date.pkl\")"
   ]
  },
  {
   "cell_type": "markdown",
   "metadata": {},
   "source": [
    "# 5. Sold debt"
   ]
  },
  {
   "cell_type": "code",
   "execution_count": 73,
   "metadata": {},
   "outputs": [],
   "source": [
    "bureau_sold_debt = bureau[bureau[\"CREDIT_ACTIVE\"]=='Sold']\n",
    "bureau_sold_debt = bureau_sold_debt.sort_values([\"SK_ID_CURR\",\"DAYS_CREDIT\",\"DAYS_CREDIT_UPDATE\"])\n",
    "bureau_sold_debt = bureau_sold_debt.drop_duplicates(subset=[\"SK_ID_CURR\", \"DAYS_CREDIT\"], keep='last')\n",
    "bureau_sold_debt = bureau_sold_debt.drop([\"SK_ID_BUREAU\"],axis=1)"
   ]
  },
  {
   "cell_type": "code",
   "execution_count": 77,
   "metadata": {},
   "outputs": [],
   "source": [
    "bureau_sold_debt_agg = bureau_sold_debt.groupby('SK_ID_CURR', as_index = False).agg(['mean', 'max', 'min', 'sum', 'count'])"
   ]
  },
  {
   "cell_type": "code",
   "execution_count": 78,
   "metadata": {},
   "outputs": [],
   "source": [
    "bureau_sold_debt_agg.columns = [''.join(col).strip() for col in bureau_sold_debt_agg.columns.values]"
   ]
  },
  {
   "cell_type": "code",
   "execution_count": 80,
   "metadata": {},
   "outputs": [],
   "source": [
    "bureau_sold_debt_agg.to_pickle(data_output_dir + \"Sold_Agg.pkl\")"
   ]
  },
  {
   "cell_type": "code",
   "execution_count": null,
   "metadata": {},
   "outputs": [],
   "source": []
  }
 ],
 "metadata": {
  "kernelspec": {
   "display_name": "Python 3",
   "language": "python",
   "name": "python3"
  },
  "language_info": {
   "codemirror_mode": {
    "name": "ipython",
    "version": 3
   },
   "file_extension": ".py",
   "mimetype": "text/x-python",
   "name": "python",
   "nbconvert_exporter": "python",
   "pygments_lexer": "ipython3",
   "version": "3.7.8"
  }
 },
 "nbformat": 4,
 "nbformat_minor": 4
}
