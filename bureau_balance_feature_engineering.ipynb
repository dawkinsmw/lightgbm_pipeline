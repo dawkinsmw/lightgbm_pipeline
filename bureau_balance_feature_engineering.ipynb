{
 "cells": [
  {
   "cell_type": "markdown",
   "metadata": {},
   "source": [
    "# 0. Set up"
   ]
  },
  {
   "cell_type": "code",
   "execution_count": 30,
   "metadata": {},
   "outputs": [],
   "source": [
    "## Import packages\n",
    "import os\n",
    "import pandas as pd\n",
    "import matplotlib.pyplot as plt"
   ]
  },
  {
   "cell_type": "code",
   "execution_count": 2,
   "metadata": {},
   "outputs": [],
   "source": [
    "## Set paths\n",
    "user = os.getenv('USERNAME')\n",
    "shared_workspace = '/home/mdawkins/modelling_club'\n",
    "user_dir = os.path.join(shared_workspace, user)\n",
    "data_dir = os.path.join(shared_workspace, 'raw_data')\n",
    "data_output_dir = os.path.join(shared_workspace, 'raw_data_lfs/engineered/bureau/')"
   ]
  },
  {
   "cell_type": "markdown",
   "metadata": {},
   "source": [
    "# 1. Import data"
   ]
  },
  {
   "cell_type": "code",
   "execution_count": 3,
   "metadata": {},
   "outputs": [],
   "source": [
    "home_loan_train = pd.read_csv(data_dir + '/raw/application_train.csv',index_col='SK_ID_CURR')\n",
    "train_response = home_loan_train['TARGET']\n",
    "\n",
    "home_loan_test = pd.read_csv(data_dir + '/raw/application_test_noTarget.csv',index_col='SK_ID_CURR')\n",
    "home_loan_test.loc[:, 'TARGET'] = None\n",
    "\n",
    "bureau = pd.read_csv(data_dir + '/raw/bureau.csv')\n",
    "bureauBalance = pd.read_csv(data_dir + '/raw/bureau_balance.csv')"
   ]
  },
  {
   "cell_type": "code",
   "execution_count": 77,
   "metadata": {},
   "outputs": [
    {
     "data": {
      "text/html": [
       "<div>\n",
       "<style scoped>\n",
       "    .dataframe tbody tr th:only-of-type {\n",
       "        vertical-align: middle;\n",
       "    }\n",
       "\n",
       "    .dataframe tbody tr th {\n",
       "        vertical-align: top;\n",
       "    }\n",
       "\n",
       "    .dataframe thead th {\n",
       "        text-align: right;\n",
       "    }\n",
       "</style>\n",
       "<table border=\"1\" class=\"dataframe\">\n",
       "  <thead>\n",
       "    <tr style=\"text-align: right;\">\n",
       "      <th></th>\n",
       "      <th>SK_ID_BUREAU</th>\n",
       "      <th>DAYS_CREDIT_UPDATE</th>\n",
       "    </tr>\n",
       "  </thead>\n",
       "  <tbody>\n",
       "    <tr>\n",
       "      <th>0</th>\n",
       "      <td>5714462</td>\n",
       "      <td>-131</td>\n",
       "    </tr>\n",
       "    <tr>\n",
       "      <th>1</th>\n",
       "      <td>5714463</td>\n",
       "      <td>-20</td>\n",
       "    </tr>\n",
       "    <tr>\n",
       "      <th>2</th>\n",
       "      <td>5714464</td>\n",
       "      <td>-16</td>\n",
       "    </tr>\n",
       "    <tr>\n",
       "      <th>3</th>\n",
       "      <td>5714465</td>\n",
       "      <td>-16</td>\n",
       "    </tr>\n",
       "    <tr>\n",
       "      <th>4</th>\n",
       "      <td>5714466</td>\n",
       "      <td>-21</td>\n",
       "    </tr>\n",
       "    <tr>\n",
       "      <th>...</th>\n",
       "      <td>...</td>\n",
       "      <td>...</td>\n",
       "    </tr>\n",
       "    <tr>\n",
       "      <th>1465320</th>\n",
       "      <td>5057750</td>\n",
       "      <td>-19</td>\n",
       "    </tr>\n",
       "    <tr>\n",
       "      <th>1465321</th>\n",
       "      <td>5057754</td>\n",
       "      <td>-2493</td>\n",
       "    </tr>\n",
       "    <tr>\n",
       "      <th>1465322</th>\n",
       "      <td>5057762</td>\n",
       "      <td>-967</td>\n",
       "    </tr>\n",
       "    <tr>\n",
       "      <th>1465323</th>\n",
       "      <td>5057770</td>\n",
       "      <td>-1508</td>\n",
       "    </tr>\n",
       "    <tr>\n",
       "      <th>1465324</th>\n",
       "      <td>5057778</td>\n",
       "      <td>-387</td>\n",
       "    </tr>\n",
       "  </tbody>\n",
       "</table>\n",
       "<p>1465325 rows × 2 columns</p>\n",
       "</div>"
      ],
      "text/plain": [
       "         SK_ID_BUREAU  DAYS_CREDIT_UPDATE\n",
       "0             5714462                -131\n",
       "1             5714463                 -20\n",
       "2             5714464                 -16\n",
       "3             5714465                 -16\n",
       "4             5714466                 -21\n",
       "...               ...                 ...\n",
       "1465320       5057750                 -19\n",
       "1465321       5057754               -2493\n",
       "1465322       5057762                -967\n",
       "1465323       5057770               -1508\n",
       "1465324       5057778                -387\n",
       "\n",
       "[1465325 rows x 2 columns]"
      ]
     },
     "execution_count": 77,
     "metadata": {},
     "output_type": "execute_result"
    }
   ],
   "source": [
    "bureau[[\"SK_ID_BUREAU\",'DAYS_CREDIT_UPDATE']][5057754]"
   ]
  },
  {
   "cell_type": "code",
   "execution_count": 69,
   "metadata": {},
   "outputs": [],
   "source": [
    "bureau[\"updated\"] = bureau.groupby(\"SK_ID_BUREAU\")['DAYS_CREDIT_UPDATE'].transform('max')"
   ]
  },
  {
   "cell_type": "code",
   "execution_count": 71,
   "metadata": {},
   "outputs": [
    {
     "data": {
      "text/html": [
       "<div>\n",
       "<style scoped>\n",
       "    .dataframe tbody tr th:only-of-type {\n",
       "        vertical-align: middle;\n",
       "    }\n",
       "\n",
       "    .dataframe tbody tr th {\n",
       "        vertical-align: top;\n",
       "    }\n",
       "\n",
       "    .dataframe thead th {\n",
       "        text-align: right;\n",
       "    }\n",
       "</style>\n",
       "<table border=\"1\" class=\"dataframe\">\n",
       "  <thead>\n",
       "    <tr style=\"text-align: right;\">\n",
       "      <th></th>\n",
       "      <th>SK_ID_CURR</th>\n",
       "      <th>SK_ID_BUREAU</th>\n",
       "      <th>CREDIT_ACTIVE</th>\n",
       "      <th>CREDIT_CURRENCY</th>\n",
       "      <th>DAYS_CREDIT</th>\n",
       "      <th>CREDIT_DAY_OVERDUE</th>\n",
       "      <th>DAYS_CREDIT_ENDDATE</th>\n",
       "      <th>DAYS_ENDDATE_FACT</th>\n",
       "      <th>AMT_CREDIT_MAX_OVERDUE</th>\n",
       "      <th>CNT_CREDIT_PROLONG</th>\n",
       "      <th>AMT_CREDIT_SUM</th>\n",
       "      <th>AMT_CREDIT_SUM_DEBT</th>\n",
       "      <th>AMT_CREDIT_SUM_LIMIT</th>\n",
       "      <th>AMT_CREDIT_SUM_OVERDUE</th>\n",
       "      <th>CREDIT_TYPE</th>\n",
       "      <th>DAYS_CREDIT_UPDATE</th>\n",
       "      <th>AMT_ANNUITY</th>\n",
       "      <th>updated</th>\n",
       "    </tr>\n",
       "  </thead>\n",
       "  <tbody>\n",
       "  </tbody>\n",
       "</table>\n",
       "</div>"
      ],
      "text/plain": [
       "Empty DataFrame\n",
       "Columns: [SK_ID_CURR, SK_ID_BUREAU, CREDIT_ACTIVE, CREDIT_CURRENCY, DAYS_CREDIT, CREDIT_DAY_OVERDUE, DAYS_CREDIT_ENDDATE, DAYS_ENDDATE_FACT, AMT_CREDIT_MAX_OVERDUE, CNT_CREDIT_PROLONG, AMT_CREDIT_SUM, AMT_CREDIT_SUM_DEBT, AMT_CREDIT_SUM_LIMIT, AMT_CREDIT_SUM_OVERDUE, CREDIT_TYPE, DAYS_CREDIT_UPDATE, AMT_ANNUITY, updated]\n",
       "Index: []"
      ]
     },
     "execution_count": 71,
     "metadata": {},
     "output_type": "execute_result"
    }
   ],
   "source": [
    "bureau[bureau['DAYS_CREDIT_UPDATE']!=bureau[\"updated\"]]"
   ]
  },
  {
   "cell_type": "code",
   "execution_count": 55,
   "metadata": {},
   "outputs": [],
   "source": [
    "bureau_recent = bureau[bureau['DAYS_CREDIT_UPDATE'] == bureau.groupby(\"SK_ID_BUREAU\")['DAYS_CREDIT_UPDATE'].transform('max')]"
   ]
  },
  {
   "cell_type": "code",
   "execution_count": 57,
   "metadata": {},
   "outputs": [
    {
     "data": {
      "text/plain": [
       "(1465325, 17)"
      ]
     },
     "execution_count": 57,
     "metadata": {},
     "output_type": "execute_result"
    }
   ],
   "source": [
    "bureau_recent.shape"
   ]
  },
  {
   "cell_type": "code",
   "execution_count": 58,
   "metadata": {},
   "outputs": [
    {
     "data": {
      "text/plain": [
       "(1465325, 17)"
      ]
     },
     "execution_count": 58,
     "metadata": {},
     "output_type": "execute_result"
    }
   ],
   "source": [
    "bureau.shape"
   ]
  },
  {
   "cell_type": "code",
   "execution_count": 56,
   "metadata": {},
   "outputs": [
    {
     "data": {
      "text/plain": [
       "(array([  9449.,  10739.,  11721.,  12254.,  13142.,  11017.,  12103.,\n",
       "         13671.,  14271.,  14303.,  15720.,  15408.,  16213.,  18427.,\n",
       "         16501.,  15896.,  16202.,  15396.,  15975.,  16983.,  14730.,\n",
       "         12910.,  13184.,  13633.,  13723.,  14361.,  14749.,  14064.,\n",
       "         13818.,  13390.,  13350.,  13526.,  13113.,  12725.,  12673.,\n",
       "         12948.,  13808.,  14101.,  14571.,  14211.,  14865.,  15889.,\n",
       "         16908.,  17882.,  19417.,  21641.,  29441.,  55167., 158889.,\n",
       "        243667.]),\n",
       " array([-999.  , -979.04, -959.08, -939.12, -919.16, -899.2 , -879.24,\n",
       "        -859.28, -839.32, -819.36, -799.4 , -779.44, -759.48, -739.52,\n",
       "        -719.56, -699.6 , -679.64, -659.68, -639.72, -619.76, -599.8 ,\n",
       "        -579.84, -559.88, -539.92, -519.96, -500.  , -480.04, -460.08,\n",
       "        -440.12, -420.16, -400.2 , -380.24, -360.28, -340.32, -320.36,\n",
       "        -300.4 , -280.44, -260.48, -240.52, -220.56, -200.6 , -180.64,\n",
       "        -160.68, -140.72, -120.76, -100.8 ,  -80.84,  -60.88,  -40.92,\n",
       "         -20.96,   -1.  ]),\n",
       " <a list of 50 Patch objects>)"
      ]
     },
     "execution_count": 56,
     "metadata": {},
     "output_type": "execute_result"
    },
    {
     "data": {
      "image/png": "[encoded data removed]",
      "text/plain": [
       "<Figure size 432x288 with 1 Axes>"
      ]
     },
     "metadata": {
      "needs_background": "light"
     },
     "output_type": "display_data"
    }
   ],
   "source": [
    "plt.hist(bureau_recent[(bureau_recent[\"DAYS_CREDIT_UPDATE\"]>-1000)&(bureau_recent[\"DAYS_CREDIT_UPDATE\"]<0)][\"DAYS_CREDIT_UPDATE\"],bins=50)"
   ]
  },
  {
   "cell_type": "code",
   "execution_count": 49,
   "metadata": {},
   "outputs": [
    {
     "data": {
      "text/plain": [
       "(array([  9449.,  10739.,  11721.,  12254.,  13142.,  11017.,  12103.,\n",
       "         13671.,  14271.,  14303.,  15720.,  15408.,  16213.,  18427.,\n",
       "         16501.,  15896.,  16202.,  15396.,  15975.,  16983.,  14730.,\n",
       "         12910.,  13184.,  13633.,  13723.,  14361.,  14749.,  14064.,\n",
       "         13818.,  13390.,  13350.,  13526.,  13113.,  12725.,  12673.,\n",
       "         12948.,  13808.,  14101.,  14571.,  14211.,  14865.,  15889.,\n",
       "         16908.,  17882.,  19417.,  21641.,  29441.,  55167., 158889.,\n",
       "        243667.]),\n",
       " array([-999.  , -979.04, -959.08, -939.12, -919.16, -899.2 , -879.24,\n",
       "        -859.28, -839.32, -819.36, -799.4 , -779.44, -759.48, -739.52,\n",
       "        -719.56, -699.6 , -679.64, -659.68, -639.72, -619.76, -599.8 ,\n",
       "        -579.84, -559.88, -539.92, -519.96, -500.  , -480.04, -460.08,\n",
       "        -440.12, -420.16, -400.2 , -380.24, -360.28, -340.32, -320.36,\n",
       "        -300.4 , -280.44, -260.48, -240.52, -220.56, -200.6 , -180.64,\n",
       "        -160.68, -140.72, -120.76, -100.8 ,  -80.84,  -60.88,  -40.92,\n",
       "         -20.96,   -1.  ]),\n",
       " <a list of 50 Patch objects>)"
      ]
     },
     "execution_count": 49,
     "metadata": {},
     "output_type": "execute_result"
    },
    {
     "data": {
      "image/png": "[encoded data removed]",
      "text/plain": [
       "<Figure size 432x288 with 1 Axes>"
      ]
     },
     "metadata": {
      "needs_background": "light"
     },
     "output_type": "display_data"
    }
   ],
   "source": [
    "plt.hist(bureau[(bureau[\"DAYS_CREDIT_UPDATE\"]>-1000)&(bureau[\"DAYS_CREDIT_UPDATE\"]<0)][\"DAYS_CREDIT_UPDATE\"],bins=50)"
   ]
  },
  {
   "cell_type": "code",
   "execution_count": 53,
   "metadata": {},
   "outputs": [
    {
     "data": {
      "text/plain": [
       "28.082503844206947"
      ]
     },
     "execution_count": 53,
     "metadata": {},
     "output_type": "execute_result"
    }
   ],
   "source": [
    "bureauBalance[\"SK_ID_BUREAU\"].shape[0]/bureauBalance[\"SK_ID_BUREAU\"].unique().shape[0]"
   ]
  },
  {
   "cell_type": "code",
   "execution_count": 51,
   "metadata": {},
   "outputs": [
    {
     "data": {
      "text/plain": [
       "14701612"
      ]
     },
     "execution_count": 51,
     "metadata": {},
     "output_type": "execute_result"
    }
   ],
   "source": [
    "bureauBalance[\"SK_ID_BUREAU\"].shape[0]"
   ]
  },
  {
   "cell_type": "code",
   "execution_count": 26,
   "metadata": {},
   "outputs": [
    {
     "data": {
      "text/plain": [
       "0.35726886526879703"
      ]
     },
     "execution_count": 26,
     "metadata": {},
     "output_type": "execute_result"
    }
   ],
   "source": [
    "bureauBalance[\"SK_ID_BUREAU\"].unique().shape[0] / bureau[\"SK_ID_BUREAU\"].unique().shape[0]"
   ]
  },
  {
   "cell_type": "code",
   "execution_count": 34,
   "metadata": {},
   "outputs": [],
   "source": [
    "Active_CreditCardBalance = Active_CreditCard.merge(bureauBalance, on='SK_ID_BUREAU')"
   ]
  },
  {
   "cell_type": "code",
   "execution_count": 36,
   "metadata": {},
   "outputs": [
    {
     "data": {
      "text/html": [
       "<div>\n",
       "<style scoped>\n",
       "    .dataframe tbody tr th:only-of-type {\n",
       "        vertical-align: middle;\n",
       "    }\n",
       "\n",
       "    .dataframe tbody tr th {\n",
       "        vertical-align: top;\n",
       "    }\n",
       "\n",
       "    .dataframe thead th {\n",
       "        text-align: right;\n",
       "    }\n",
       "</style>\n",
       "<table border=\"1\" class=\"dataframe\">\n",
       "  <thead>\n",
       "    <tr style=\"text-align: right;\">\n",
       "      <th></th>\n",
       "      <th>SK_ID_CURR</th>\n",
       "      <th>SK_ID_BUREAU</th>\n",
       "      <th>CREDIT_ACTIVE</th>\n",
       "      <th>CREDIT_CURRENCY</th>\n",
       "      <th>DAYS_CREDIT</th>\n",
       "      <th>CREDIT_DAY_OVERDUE</th>\n",
       "      <th>DAYS_CREDIT_ENDDATE</th>\n",
       "      <th>DAYS_ENDDATE_FACT</th>\n",
       "      <th>AMT_CREDIT_MAX_OVERDUE</th>\n",
       "      <th>CNT_CREDIT_PROLONG</th>\n",
       "      <th>AMT_CREDIT_SUM</th>\n",
       "      <th>AMT_CREDIT_SUM_DEBT</th>\n",
       "      <th>AMT_CREDIT_SUM_LIMIT</th>\n",
       "      <th>AMT_CREDIT_SUM_OVERDUE</th>\n",
       "      <th>CREDIT_TYPE</th>\n",
       "      <th>DAYS_CREDIT_UPDATE</th>\n",
       "      <th>AMT_ANNUITY</th>\n",
       "      <th>MONTHS_BALANCE</th>\n",
       "      <th>STATUS</th>\n",
       "    </tr>\n",
       "  </thead>\n",
       "  <tbody>\n",
       "    <tr>\n",
       "      <th>0</th>\n",
       "      <td>380361</td>\n",
       "      <td>5715448</td>\n",
       "      <td>Active</td>\n",
       "      <td>currency 1</td>\n",
       "      <td>-820</td>\n",
       "      <td>0</td>\n",
       "      <td>31069.0</td>\n",
       "      <td>NaN</td>\n",
       "      <td>NaN</td>\n",
       "      <td>0</td>\n",
       "      <td>67500.0</td>\n",
       "      <td>0.00</td>\n",
       "      <td>67500.00</td>\n",
       "      <td>0.0</td>\n",
       "      <td>Credit card</td>\n",
       "      <td>-183</td>\n",
       "      <td>0.0</td>\n",
       "      <td>0</td>\n",
       "      <td>C</td>\n",
       "    </tr>\n",
       "    <tr>\n",
       "      <th>1</th>\n",
       "      <td>380361</td>\n",
       "      <td>5715448</td>\n",
       "      <td>Active</td>\n",
       "      <td>currency 1</td>\n",
       "      <td>-820</td>\n",
       "      <td>0</td>\n",
       "      <td>31069.0</td>\n",
       "      <td>NaN</td>\n",
       "      <td>NaN</td>\n",
       "      <td>0</td>\n",
       "      <td>67500.0</td>\n",
       "      <td>0.00</td>\n",
       "      <td>67500.00</td>\n",
       "      <td>0.0</td>\n",
       "      <td>Credit card</td>\n",
       "      <td>-183</td>\n",
       "      <td>0.0</td>\n",
       "      <td>-1</td>\n",
       "      <td>C</td>\n",
       "    </tr>\n",
       "    <tr>\n",
       "      <th>2</th>\n",
       "      <td>380361</td>\n",
       "      <td>5715448</td>\n",
       "      <td>Active</td>\n",
       "      <td>currency 1</td>\n",
       "      <td>-820</td>\n",
       "      <td>0</td>\n",
       "      <td>31069.0</td>\n",
       "      <td>NaN</td>\n",
       "      <td>NaN</td>\n",
       "      <td>0</td>\n",
       "      <td>67500.0</td>\n",
       "      <td>0.00</td>\n",
       "      <td>67500.00</td>\n",
       "      <td>0.0</td>\n",
       "      <td>Credit card</td>\n",
       "      <td>-183</td>\n",
       "      <td>0.0</td>\n",
       "      <td>-2</td>\n",
       "      <td>C</td>\n",
       "    </tr>\n",
       "    <tr>\n",
       "      <th>3</th>\n",
       "      <td>380361</td>\n",
       "      <td>5715448</td>\n",
       "      <td>Active</td>\n",
       "      <td>currency 1</td>\n",
       "      <td>-820</td>\n",
       "      <td>0</td>\n",
       "      <td>31069.0</td>\n",
       "      <td>NaN</td>\n",
       "      <td>NaN</td>\n",
       "      <td>0</td>\n",
       "      <td>67500.0</td>\n",
       "      <td>0.00</td>\n",
       "      <td>67500.00</td>\n",
       "      <td>0.0</td>\n",
       "      <td>Credit card</td>\n",
       "      <td>-183</td>\n",
       "      <td>0.0</td>\n",
       "      <td>-3</td>\n",
       "      <td>C</td>\n",
       "    </tr>\n",
       "    <tr>\n",
       "      <th>4</th>\n",
       "      <td>380361</td>\n",
       "      <td>5715448</td>\n",
       "      <td>Active</td>\n",
       "      <td>currency 1</td>\n",
       "      <td>-820</td>\n",
       "      <td>0</td>\n",
       "      <td>31069.0</td>\n",
       "      <td>NaN</td>\n",
       "      <td>NaN</td>\n",
       "      <td>0</td>\n",
       "      <td>67500.0</td>\n",
       "      <td>0.00</td>\n",
       "      <td>67500.00</td>\n",
       "      <td>0.0</td>\n",
       "      <td>Credit card</td>\n",
       "      <td>-183</td>\n",
       "      <td>0.0</td>\n",
       "      <td>-4</td>\n",
       "      <td>C</td>\n",
       "    </tr>\n",
       "    <tr>\n",
       "      <th>...</th>\n",
       "      <td>...</td>\n",
       "      <td>...</td>\n",
       "      <td>...</td>\n",
       "      <td>...</td>\n",
       "      <td>...</td>\n",
       "      <td>...</td>\n",
       "      <td>...</td>\n",
       "      <td>...</td>\n",
       "      <td>...</td>\n",
       "      <td>...</td>\n",
       "      <td>...</td>\n",
       "      <td>...</td>\n",
       "      <td>...</td>\n",
       "      <td>...</td>\n",
       "      <td>...</td>\n",
       "      <td>...</td>\n",
       "      <td>...</td>\n",
       "      <td>...</td>\n",
       "      <td>...</td>\n",
       "    </tr>\n",
       "    <tr>\n",
       "      <th>1835219</th>\n",
       "      <td>229054</td>\n",
       "      <td>5053730</td>\n",
       "      <td>Active</td>\n",
       "      <td>currency 1</td>\n",
       "      <td>-456</td>\n",
       "      <td>0</td>\n",
       "      <td>1372.0</td>\n",
       "      <td>NaN</td>\n",
       "      <td>0.0</td>\n",
       "      <td>0</td>\n",
       "      <td>67500.0</td>\n",
       "      <td>63530.46</td>\n",
       "      <td>3969.54</td>\n",
       "      <td>0.0</td>\n",
       "      <td>Credit card</td>\n",
       "      <td>-3</td>\n",
       "      <td>NaN</td>\n",
       "      <td>-10</td>\n",
       "      <td>0</td>\n",
       "    </tr>\n",
       "    <tr>\n",
       "      <th>1835220</th>\n",
       "      <td>229054</td>\n",
       "      <td>5053730</td>\n",
       "      <td>Active</td>\n",
       "      <td>currency 1</td>\n",
       "      <td>-456</td>\n",
       "      <td>0</td>\n",
       "      <td>1372.0</td>\n",
       "      <td>NaN</td>\n",
       "      <td>0.0</td>\n",
       "      <td>0</td>\n",
       "      <td>67500.0</td>\n",
       "      <td>63530.46</td>\n",
       "      <td>3969.54</td>\n",
       "      <td>0.0</td>\n",
       "      <td>Credit card</td>\n",
       "      <td>-3</td>\n",
       "      <td>NaN</td>\n",
       "      <td>-11</td>\n",
       "      <td>0</td>\n",
       "    </tr>\n",
       "    <tr>\n",
       "      <th>1835221</th>\n",
       "      <td>229054</td>\n",
       "      <td>5053730</td>\n",
       "      <td>Active</td>\n",
       "      <td>currency 1</td>\n",
       "      <td>-456</td>\n",
       "      <td>0</td>\n",
       "      <td>1372.0</td>\n",
       "      <td>NaN</td>\n",
       "      <td>0.0</td>\n",
       "      <td>0</td>\n",
       "      <td>67500.0</td>\n",
       "      <td>63530.46</td>\n",
       "      <td>3969.54</td>\n",
       "      <td>0.0</td>\n",
       "      <td>Credit card</td>\n",
       "      <td>-3</td>\n",
       "      <td>NaN</td>\n",
       "      <td>-12</td>\n",
       "      <td>0</td>\n",
       "    </tr>\n",
       "    <tr>\n",
       "      <th>1835222</th>\n",
       "      <td>229054</td>\n",
       "      <td>5053730</td>\n",
       "      <td>Active</td>\n",
       "      <td>currency 1</td>\n",
       "      <td>-456</td>\n",
       "      <td>0</td>\n",
       "      <td>1372.0</td>\n",
       "      <td>NaN</td>\n",
       "      <td>0.0</td>\n",
       "      <td>0</td>\n",
       "      <td>67500.0</td>\n",
       "      <td>63530.46</td>\n",
       "      <td>3969.54</td>\n",
       "      <td>0.0</td>\n",
       "      <td>Credit card</td>\n",
       "      <td>-3</td>\n",
       "      <td>NaN</td>\n",
       "      <td>-13</td>\n",
       "      <td>0</td>\n",
       "    </tr>\n",
       "    <tr>\n",
       "      <th>1835223</th>\n",
       "      <td>229054</td>\n",
       "      <td>5053730</td>\n",
       "      <td>Active</td>\n",
       "      <td>currency 1</td>\n",
       "      <td>-456</td>\n",
       "      <td>0</td>\n",
       "      <td>1372.0</td>\n",
       "      <td>NaN</td>\n",
       "      <td>0.0</td>\n",
       "      <td>0</td>\n",
       "      <td>67500.0</td>\n",
       "      <td>63530.46</td>\n",
       "      <td>3969.54</td>\n",
       "      <td>0.0</td>\n",
       "      <td>Credit card</td>\n",
       "      <td>-3</td>\n",
       "      <td>NaN</td>\n",
       "      <td>-14</td>\n",
       "      <td>X</td>\n",
       "    </tr>\n",
       "  </tbody>\n",
       "</table>\n",
       "<p>1835224 rows × 19 columns</p>\n",
       "</div>"
      ],
      "text/plain": [
       "         SK_ID_CURR  SK_ID_BUREAU CREDIT_ACTIVE CREDIT_CURRENCY  DAYS_CREDIT  \\\n",
       "0            380361       5715448        Active      currency 1         -820   \n",
       "1            380361       5715448        Active      currency 1         -820   \n",
       "2            380361       5715448        Active      currency 1         -820   \n",
       "3            380361       5715448        Active      currency 1         -820   \n",
       "4            380361       5715448        Active      currency 1         -820   \n",
       "...             ...           ...           ...             ...          ...   \n",
       "1835219      229054       5053730        Active      currency 1         -456   \n",
       "1835220      229054       5053730        Active      currency 1         -456   \n",
       "1835221      229054       5053730        Active      currency 1         -456   \n",
       "1835222      229054       5053730        Active      currency 1         -456   \n",
       "1835223      229054       5053730        Active      currency 1         -456   \n",
       "\n",
       "         CREDIT_DAY_OVERDUE  DAYS_CREDIT_ENDDATE  DAYS_ENDDATE_FACT  \\\n",
       "0                         0              31069.0                NaN   \n",
       "1                         0              31069.0                NaN   \n",
       "2                         0              31069.0                NaN   \n",
       "3                         0              31069.0                NaN   \n",
       "4                         0              31069.0                NaN   \n",
       "...                     ...                  ...                ...   \n",
       "1835219                   0               1372.0                NaN   \n",
       "1835220                   0               1372.0                NaN   \n",
       "1835221                   0               1372.0                NaN   \n",
       "1835222                   0               1372.0                NaN   \n",
       "1835223                   0               1372.0                NaN   \n",
       "\n",
       "         AMT_CREDIT_MAX_OVERDUE  CNT_CREDIT_PROLONG  AMT_CREDIT_SUM  \\\n",
       "0                           NaN                   0         67500.0   \n",
       "1                           NaN                   0         67500.0   \n",
       "2                           NaN                   0         67500.0   \n",
       "3                           NaN                   0         67500.0   \n",
       "4                           NaN                   0         67500.0   \n",
       "...                         ...                 ...             ...   \n",
       "1835219                     0.0                   0         67500.0   \n",
       "1835220                     0.0                   0         67500.0   \n",
       "1835221                     0.0                   0         67500.0   \n",
       "1835222                     0.0                   0         67500.0   \n",
       "1835223                     0.0                   0         67500.0   \n",
       "\n",
       "         AMT_CREDIT_SUM_DEBT  AMT_CREDIT_SUM_LIMIT  AMT_CREDIT_SUM_OVERDUE  \\\n",
       "0                       0.00              67500.00                     0.0   \n",
       "1                       0.00              67500.00                     0.0   \n",
       "2                       0.00              67500.00                     0.0   \n",
       "3                       0.00              67500.00                     0.0   \n",
       "4                       0.00              67500.00                     0.0   \n",
       "...                      ...                   ...                     ...   \n",
       "1835219             63530.46               3969.54                     0.0   \n",
       "1835220             63530.46               3969.54                     0.0   \n",
       "1835221             63530.46               3969.54                     0.0   \n",
       "1835222             63530.46               3969.54                     0.0   \n",
       "1835223             63530.46               3969.54                     0.0   \n",
       "\n",
       "         CREDIT_TYPE  DAYS_CREDIT_UPDATE  AMT_ANNUITY  MONTHS_BALANCE STATUS  \n",
       "0        Credit card                -183          0.0               0      C  \n",
       "1        Credit card                -183          0.0              -1      C  \n",
       "2        Credit card                -183          0.0              -2      C  \n",
       "3        Credit card                -183          0.0              -3      C  \n",
       "4        Credit card                -183          0.0              -4      C  \n",
       "...              ...                 ...          ...             ...    ...  \n",
       "1835219  Credit card                  -3          NaN             -10      0  \n",
       "1835220  Credit card                  -3          NaN             -11      0  \n",
       "1835221  Credit card                  -3          NaN             -12      0  \n",
       "1835222  Credit card                  -3          NaN             -13      0  \n",
       "1835223  Credit card                  -3          NaN             -14      X  \n",
       "\n",
       "[1835224 rows x 19 columns]"
      ]
     },
     "execution_count": 36,
     "metadata": {},
     "output_type": "execute_result"
    }
   ],
   "source": [
    "Active_CreditCardBalance"
   ]
  },
  {
   "cell_type": "code",
   "execution_count": 38,
   "metadata": {},
   "outputs": [
    {
     "data": {
      "text/html": [
       "<div>\n",
       "<style scoped>\n",
       "    .dataframe tbody tr th:only-of-type {\n",
       "        vertical-align: middle;\n",
       "    }\n",
       "\n",
       "    .dataframe tbody tr th {\n",
       "        vertical-align: top;\n",
       "    }\n",
       "\n",
       "    .dataframe thead th {\n",
       "        text-align: right;\n",
       "    }\n",
       "</style>\n",
       "<table border=\"1\" class=\"dataframe\">\n",
       "  <thead>\n",
       "    <tr style=\"text-align: right;\">\n",
       "      <th></th>\n",
       "      <th>SK_ID_CURR</th>\n",
       "      <th>SK_ID_BUREAU</th>\n",
       "      <th>CREDIT_ACTIVE</th>\n",
       "      <th>CREDIT_CURRENCY</th>\n",
       "      <th>DAYS_CREDIT</th>\n",
       "      <th>CREDIT_DAY_OVERDUE</th>\n",
       "      <th>DAYS_CREDIT_ENDDATE</th>\n",
       "      <th>DAYS_ENDDATE_FACT</th>\n",
       "      <th>AMT_CREDIT_MAX_OVERDUE</th>\n",
       "      <th>CNT_CREDIT_PROLONG</th>\n",
       "      <th>AMT_CREDIT_SUM</th>\n",
       "      <th>AMT_CREDIT_SUM_DEBT</th>\n",
       "      <th>AMT_CREDIT_SUM_LIMIT</th>\n",
       "      <th>AMT_CREDIT_SUM_OVERDUE</th>\n",
       "      <th>CREDIT_TYPE</th>\n",
       "      <th>DAYS_CREDIT_UPDATE</th>\n",
       "      <th>AMT_ANNUITY</th>\n",
       "      <th>MONTHS_BALANCE</th>\n",
       "      <th>STATUS</th>\n",
       "    </tr>\n",
       "  </thead>\n",
       "  <tbody>\n",
       "    <tr>\n",
       "      <th>1835209</th>\n",
       "      <td>229054</td>\n",
       "      <td>5053730</td>\n",
       "      <td>Active</td>\n",
       "      <td>currency 1</td>\n",
       "      <td>-456</td>\n",
       "      <td>0</td>\n",
       "      <td>1372.0</td>\n",
       "      <td>NaN</td>\n",
       "      <td>0.0</td>\n",
       "      <td>0</td>\n",
       "      <td>67500.0</td>\n",
       "      <td>63530.46</td>\n",
       "      <td>3969.54</td>\n",
       "      <td>0.0</td>\n",
       "      <td>Credit card</td>\n",
       "      <td>-3</td>\n",
       "      <td>NaN</td>\n",
       "      <td>0</td>\n",
       "      <td>C</td>\n",
       "    </tr>\n",
       "    <tr>\n",
       "      <th>1835210</th>\n",
       "      <td>229054</td>\n",
       "      <td>5053730</td>\n",
       "      <td>Active</td>\n",
       "      <td>currency 1</td>\n",
       "      <td>-456</td>\n",
       "      <td>0</td>\n",
       "      <td>1372.0</td>\n",
       "      <td>NaN</td>\n",
       "      <td>0.0</td>\n",
       "      <td>0</td>\n",
       "      <td>67500.0</td>\n",
       "      <td>63530.46</td>\n",
       "      <td>3969.54</td>\n",
       "      <td>0.0</td>\n",
       "      <td>Credit card</td>\n",
       "      <td>-3</td>\n",
       "      <td>NaN</td>\n",
       "      <td>-1</td>\n",
       "      <td>C</td>\n",
       "    </tr>\n",
       "    <tr>\n",
       "      <th>1835211</th>\n",
       "      <td>229054</td>\n",
       "      <td>5053730</td>\n",
       "      <td>Active</td>\n",
       "      <td>currency 1</td>\n",
       "      <td>-456</td>\n",
       "      <td>0</td>\n",
       "      <td>1372.0</td>\n",
       "      <td>NaN</td>\n",
       "      <td>0.0</td>\n",
       "      <td>0</td>\n",
       "      <td>67500.0</td>\n",
       "      <td>63530.46</td>\n",
       "      <td>3969.54</td>\n",
       "      <td>0.0</td>\n",
       "      <td>Credit card</td>\n",
       "      <td>-3</td>\n",
       "      <td>NaN</td>\n",
       "      <td>-2</td>\n",
       "      <td>C</td>\n",
       "    </tr>\n",
       "    <tr>\n",
       "      <th>1835212</th>\n",
       "      <td>229054</td>\n",
       "      <td>5053730</td>\n",
       "      <td>Active</td>\n",
       "      <td>currency 1</td>\n",
       "      <td>-456</td>\n",
       "      <td>0</td>\n",
       "      <td>1372.0</td>\n",
       "      <td>NaN</td>\n",
       "      <td>0.0</td>\n",
       "      <td>0</td>\n",
       "      <td>67500.0</td>\n",
       "      <td>63530.46</td>\n",
       "      <td>3969.54</td>\n",
       "      <td>0.0</td>\n",
       "      <td>Credit card</td>\n",
       "      <td>-3</td>\n",
       "      <td>NaN</td>\n",
       "      <td>-3</td>\n",
       "      <td>0</td>\n",
       "    </tr>\n",
       "    <tr>\n",
       "      <th>1835213</th>\n",
       "      <td>229054</td>\n",
       "      <td>5053730</td>\n",
       "      <td>Active</td>\n",
       "      <td>currency 1</td>\n",
       "      <td>-456</td>\n",
       "      <td>0</td>\n",
       "      <td>1372.0</td>\n",
       "      <td>NaN</td>\n",
       "      <td>0.0</td>\n",
       "      <td>0</td>\n",
       "      <td>67500.0</td>\n",
       "      <td>63530.46</td>\n",
       "      <td>3969.54</td>\n",
       "      <td>0.0</td>\n",
       "      <td>Credit card</td>\n",
       "      <td>-3</td>\n",
       "      <td>NaN</td>\n",
       "      <td>-4</td>\n",
       "      <td>0</td>\n",
       "    </tr>\n",
       "    <tr>\n",
       "      <th>1835214</th>\n",
       "      <td>229054</td>\n",
       "      <td>5053730</td>\n",
       "      <td>Active</td>\n",
       "      <td>currency 1</td>\n",
       "      <td>-456</td>\n",
       "      <td>0</td>\n",
       "      <td>1372.0</td>\n",
       "      <td>NaN</td>\n",
       "      <td>0.0</td>\n",
       "      <td>0</td>\n",
       "      <td>67500.0</td>\n",
       "      <td>63530.46</td>\n",
       "      <td>3969.54</td>\n",
       "      <td>0.0</td>\n",
       "      <td>Credit card</td>\n",
       "      <td>-3</td>\n",
       "      <td>NaN</td>\n",
       "      <td>-5</td>\n",
       "      <td>0</td>\n",
       "    </tr>\n",
       "    <tr>\n",
       "      <th>1835215</th>\n",
       "      <td>229054</td>\n",
       "      <td>5053730</td>\n",
       "      <td>Active</td>\n",
       "      <td>currency 1</td>\n",
       "      <td>-456</td>\n",
       "      <td>0</td>\n",
       "      <td>1372.0</td>\n",
       "      <td>NaN</td>\n",
       "      <td>0.0</td>\n",
       "      <td>0</td>\n",
       "      <td>67500.0</td>\n",
       "      <td>63530.46</td>\n",
       "      <td>3969.54</td>\n",
       "      <td>0.0</td>\n",
       "      <td>Credit card</td>\n",
       "      <td>-3</td>\n",
       "      <td>NaN</td>\n",
       "      <td>-6</td>\n",
       "      <td>0</td>\n",
       "    </tr>\n",
       "    <tr>\n",
       "      <th>1835216</th>\n",
       "      <td>229054</td>\n",
       "      <td>5053730</td>\n",
       "      <td>Active</td>\n",
       "      <td>currency 1</td>\n",
       "      <td>-456</td>\n",
       "      <td>0</td>\n",
       "      <td>1372.0</td>\n",
       "      <td>NaN</td>\n",
       "      <td>0.0</td>\n",
       "      <td>0</td>\n",
       "      <td>67500.0</td>\n",
       "      <td>63530.46</td>\n",
       "      <td>3969.54</td>\n",
       "      <td>0.0</td>\n",
       "      <td>Credit card</td>\n",
       "      <td>-3</td>\n",
       "      <td>NaN</td>\n",
       "      <td>-7</td>\n",
       "      <td>0</td>\n",
       "    </tr>\n",
       "    <tr>\n",
       "      <th>1835217</th>\n",
       "      <td>229054</td>\n",
       "      <td>5053730</td>\n",
       "      <td>Active</td>\n",
       "      <td>currency 1</td>\n",
       "      <td>-456</td>\n",
       "      <td>0</td>\n",
       "      <td>1372.0</td>\n",
       "      <td>NaN</td>\n",
       "      <td>0.0</td>\n",
       "      <td>0</td>\n",
       "      <td>67500.0</td>\n",
       "      <td>63530.46</td>\n",
       "      <td>3969.54</td>\n",
       "      <td>0.0</td>\n",
       "      <td>Credit card</td>\n",
       "      <td>-3</td>\n",
       "      <td>NaN</td>\n",
       "      <td>-8</td>\n",
       "      <td>0</td>\n",
       "    </tr>\n",
       "    <tr>\n",
       "      <th>1835218</th>\n",
       "      <td>229054</td>\n",
       "      <td>5053730</td>\n",
       "      <td>Active</td>\n",
       "      <td>currency 1</td>\n",
       "      <td>-456</td>\n",
       "      <td>0</td>\n",
       "      <td>1372.0</td>\n",
       "      <td>NaN</td>\n",
       "      <td>0.0</td>\n",
       "      <td>0</td>\n",
       "      <td>67500.0</td>\n",
       "      <td>63530.46</td>\n",
       "      <td>3969.54</td>\n",
       "      <td>0.0</td>\n",
       "      <td>Credit card</td>\n",
       "      <td>-3</td>\n",
       "      <td>NaN</td>\n",
       "      <td>-9</td>\n",
       "      <td>0</td>\n",
       "    </tr>\n",
       "    <tr>\n",
       "      <th>1835219</th>\n",
       "      <td>229054</td>\n",
       "      <td>5053730</td>\n",
       "      <td>Active</td>\n",
       "      <td>currency 1</td>\n",
       "      <td>-456</td>\n",
       "      <td>0</td>\n",
       "      <td>1372.0</td>\n",
       "      <td>NaN</td>\n",
       "      <td>0.0</td>\n",
       "      <td>0</td>\n",
       "      <td>67500.0</td>\n",
       "      <td>63530.46</td>\n",
       "      <td>3969.54</td>\n",
       "      <td>0.0</td>\n",
       "      <td>Credit card</td>\n",
       "      <td>-3</td>\n",
       "      <td>NaN</td>\n",
       "      <td>-10</td>\n",
       "      <td>0</td>\n",
       "    </tr>\n",
       "    <tr>\n",
       "      <th>1835220</th>\n",
       "      <td>229054</td>\n",
       "      <td>5053730</td>\n",
       "      <td>Active</td>\n",
       "      <td>currency 1</td>\n",
       "      <td>-456</td>\n",
       "      <td>0</td>\n",
       "      <td>1372.0</td>\n",
       "      <td>NaN</td>\n",
       "      <td>0.0</td>\n",
       "      <td>0</td>\n",
       "      <td>67500.0</td>\n",
       "      <td>63530.46</td>\n",
       "      <td>3969.54</td>\n",
       "      <td>0.0</td>\n",
       "      <td>Credit card</td>\n",
       "      <td>-3</td>\n",
       "      <td>NaN</td>\n",
       "      <td>-11</td>\n",
       "      <td>0</td>\n",
       "    </tr>\n",
       "    <tr>\n",
       "      <th>1835221</th>\n",
       "      <td>229054</td>\n",
       "      <td>5053730</td>\n",
       "      <td>Active</td>\n",
       "      <td>currency 1</td>\n",
       "      <td>-456</td>\n",
       "      <td>0</td>\n",
       "      <td>1372.0</td>\n",
       "      <td>NaN</td>\n",
       "      <td>0.0</td>\n",
       "      <td>0</td>\n",
       "      <td>67500.0</td>\n",
       "      <td>63530.46</td>\n",
       "      <td>3969.54</td>\n",
       "      <td>0.0</td>\n",
       "      <td>Credit card</td>\n",
       "      <td>-3</td>\n",
       "      <td>NaN</td>\n",
       "      <td>-12</td>\n",
       "      <td>0</td>\n",
       "    </tr>\n",
       "    <tr>\n",
       "      <th>1835222</th>\n",
       "      <td>229054</td>\n",
       "      <td>5053730</td>\n",
       "      <td>Active</td>\n",
       "      <td>currency 1</td>\n",
       "      <td>-456</td>\n",
       "      <td>0</td>\n",
       "      <td>1372.0</td>\n",
       "      <td>NaN</td>\n",
       "      <td>0.0</td>\n",
       "      <td>0</td>\n",
       "      <td>67500.0</td>\n",
       "      <td>63530.46</td>\n",
       "      <td>3969.54</td>\n",
       "      <td>0.0</td>\n",
       "      <td>Credit card</td>\n",
       "      <td>-3</td>\n",
       "      <td>NaN</td>\n",
       "      <td>-13</td>\n",
       "      <td>0</td>\n",
       "    </tr>\n",
       "    <tr>\n",
       "      <th>1835223</th>\n",
       "      <td>229054</td>\n",
       "      <td>5053730</td>\n",
       "      <td>Active</td>\n",
       "      <td>currency 1</td>\n",
       "      <td>-456</td>\n",
       "      <td>0</td>\n",
       "      <td>1372.0</td>\n",
       "      <td>NaN</td>\n",
       "      <td>0.0</td>\n",
       "      <td>0</td>\n",
       "      <td>67500.0</td>\n",
       "      <td>63530.46</td>\n",
       "      <td>3969.54</td>\n",
       "      <td>0.0</td>\n",
       "      <td>Credit card</td>\n",
       "      <td>-3</td>\n",
       "      <td>NaN</td>\n",
       "      <td>-14</td>\n",
       "      <td>X</td>\n",
       "    </tr>\n",
       "  </tbody>\n",
       "</table>\n",
       "</div>"
      ],
      "text/plain": [
       "         SK_ID_CURR  SK_ID_BUREAU CREDIT_ACTIVE CREDIT_CURRENCY  DAYS_CREDIT  \\\n",
       "1835209      229054       5053730        Active      currency 1         -456   \n",
       "1835210      229054       5053730        Active      currency 1         -456   \n",
       "1835211      229054       5053730        Active      currency 1         -456   \n",
       "1835212      229054       5053730        Active      currency 1         -456   \n",
       "1835213      229054       5053730        Active      currency 1         -456   \n",
       "1835214      229054       5053730        Active      currency 1         -456   \n",
       "1835215      229054       5053730        Active      currency 1         -456   \n",
       "1835216      229054       5053730        Active      currency 1         -456   \n",
       "1835217      229054       5053730        Active      currency 1         -456   \n",
       "1835218      229054       5053730        Active      currency 1         -456   \n",
       "1835219      229054       5053730        Active      currency 1         -456   \n",
       "1835220      229054       5053730        Active      currency 1         -456   \n",
       "1835221      229054       5053730        Active      currency 1         -456   \n",
       "1835222      229054       5053730        Active      currency 1         -456   \n",
       "1835223      229054       5053730        Active      currency 1         -456   \n",
       "\n",
       "         CREDIT_DAY_OVERDUE  DAYS_CREDIT_ENDDATE  DAYS_ENDDATE_FACT  \\\n",
       "1835209                   0               1372.0                NaN   \n",
       "1835210                   0               1372.0                NaN   \n",
       "1835211                   0               1372.0                NaN   \n",
       "1835212                   0               1372.0                NaN   \n",
       "1835213                   0               1372.0                NaN   \n",
       "1835214                   0               1372.0                NaN   \n",
       "1835215                   0               1372.0                NaN   \n",
       "1835216                   0               1372.0                NaN   \n",
       "1835217                   0               1372.0                NaN   \n",
       "1835218                   0               1372.0                NaN   \n",
       "1835219                   0               1372.0                NaN   \n",
       "1835220                   0               1372.0                NaN   \n",
       "1835221                   0               1372.0                NaN   \n",
       "1835222                   0               1372.0                NaN   \n",
       "1835223                   0               1372.0                NaN   \n",
       "\n",
       "         AMT_CREDIT_MAX_OVERDUE  CNT_CREDIT_PROLONG  AMT_CREDIT_SUM  \\\n",
       "1835209                     0.0                   0         67500.0   \n",
       "1835210                     0.0                   0         67500.0   \n",
       "1835211                     0.0                   0         67500.0   \n",
       "1835212                     0.0                   0         67500.0   \n",
       "1835213                     0.0                   0         67500.0   \n",
       "1835214                     0.0                   0         67500.0   \n",
       "1835215                     0.0                   0         67500.0   \n",
       "1835216                     0.0                   0         67500.0   \n",
       "1835217                     0.0                   0         67500.0   \n",
       "1835218                     0.0                   0         67500.0   \n",
       "1835219                     0.0                   0         67500.0   \n",
       "1835220                     0.0                   0         67500.0   \n",
       "1835221                     0.0                   0         67500.0   \n",
       "1835222                     0.0                   0         67500.0   \n",
       "1835223                     0.0                   0         67500.0   \n",
       "\n",
       "         AMT_CREDIT_SUM_DEBT  AMT_CREDIT_SUM_LIMIT  AMT_CREDIT_SUM_OVERDUE  \\\n",
       "1835209             63530.46               3969.54                     0.0   \n",
       "1835210             63530.46               3969.54                     0.0   \n",
       "1835211             63530.46               3969.54                     0.0   \n",
       "1835212             63530.46               3969.54                     0.0   \n",
       "1835213             63530.46               3969.54                     0.0   \n",
       "1835214             63530.46               3969.54                     0.0   \n",
       "1835215             63530.46               3969.54                     0.0   \n",
       "1835216             63530.46               3969.54                     0.0   \n",
       "1835217             63530.46               3969.54                     0.0   \n",
       "1835218             63530.46               3969.54                     0.0   \n",
       "1835219             63530.46               3969.54                     0.0   \n",
       "1835220             63530.46               3969.54                     0.0   \n",
       "1835221             63530.46               3969.54                     0.0   \n",
       "1835222             63530.46               3969.54                     0.0   \n",
       "1835223             63530.46               3969.54                     0.0   \n",
       "\n",
       "         CREDIT_TYPE  DAYS_CREDIT_UPDATE  AMT_ANNUITY  MONTHS_BALANCE STATUS  \n",
       "1835209  Credit card                  -3          NaN               0      C  \n",
       "1835210  Credit card                  -3          NaN              -1      C  \n",
       "1835211  Credit card                  -3          NaN              -2      C  \n",
       "1835212  Credit card                  -3          NaN              -3      0  \n",
       "1835213  Credit card                  -3          NaN              -4      0  \n",
       "1835214  Credit card                  -3          NaN              -5      0  \n",
       "1835215  Credit card                  -3          NaN              -6      0  \n",
       "1835216  Credit card                  -3          NaN              -7      0  \n",
       "1835217  Credit card                  -3          NaN              -8      0  \n",
       "1835218  Credit card                  -3          NaN              -9      0  \n",
       "1835219  Credit card                  -3          NaN             -10      0  \n",
       "1835220  Credit card                  -3          NaN             -11      0  \n",
       "1835221  Credit card                  -3          NaN             -12      0  \n",
       "1835222  Credit card                  -3          NaN             -13      0  \n",
       "1835223  Credit card                  -3          NaN             -14      X  "
      ]
     },
     "execution_count": 38,
     "metadata": {},
     "output_type": "execute_result"
    }
   ],
   "source": [
    "Active_CreditCardBalance[Active_CreditCardBalance[\"SK_ID_BUREAU\"]==5053730]\t"
   ]
  },
  {
   "cell_type": "code",
   "execution_count": 32,
   "metadata": {},
   "outputs": [
    {
     "data": {
      "text/plain": [
       "(array([ 1122.,  1143.,  1176.,  1273.,  1191.,  1215.,  1140.,  1097.,\n",
       "         1009.,   939.,  1067.,   971.,   931.,   670.,   559.,   629.,\n",
       "          780.,   938.,  1126.,  1388.,  1816.,  2119.,  2674.,  2901.,\n",
       "         3327.,  3996.,  4069.,  4533.,  4832.,  5423.,  5848.,  5982.,\n",
       "         6370.,  6646.,  7216.,  8099.,  8497.,  9231.,  9249.,  9825.,\n",
       "        10275., 11662., 12062., 12470., 12774., 13113., 13032., 12136.,\n",
       "        10133.,  5678.]),\n",
       " array([-2.9220e+03, -2.8636e+03, -2.8052e+03, -2.7468e+03, -2.6884e+03,\n",
       "        -2.6300e+03, -2.5716e+03, -2.5132e+03, -2.4548e+03, -2.3964e+03,\n",
       "        -2.3380e+03, -2.2796e+03, -2.2212e+03, -2.1628e+03, -2.1044e+03,\n",
       "        -2.0460e+03, -1.9876e+03, -1.9292e+03, -1.8708e+03, -1.8124e+03,\n",
       "        -1.7540e+03, -1.6956e+03, -1.6372e+03, -1.5788e+03, -1.5204e+03,\n",
       "        -1.4620e+03, -1.4036e+03, -1.3452e+03, -1.2868e+03, -1.2284e+03,\n",
       "        -1.1700e+03, -1.1116e+03, -1.0532e+03, -9.9480e+02, -9.3640e+02,\n",
       "        -8.7800e+02, -8.1960e+02, -7.6120e+02, -7.0280e+02, -6.4440e+02,\n",
       "        -5.8600e+02, -5.2760e+02, -4.6920e+02, -4.1080e+02, -3.5240e+02,\n",
       "        -2.9400e+02, -2.3560e+02, -1.7720e+02, -1.1880e+02, -6.0400e+01,\n",
       "        -2.0000e+00]),\n",
       " <a list of 50 Patch objects>)"
      ]
     },
     "execution_count": 32,
     "metadata": {},
     "output_type": "execute_result"
    },
    {
     "data": {
      "image/png": "[encoded data removed]",
      "text/plain": [
       "<Figure size 432x288 with 1 Axes>"
      ]
     },
     "metadata": {
      "needs_background": "light"
     },
     "output_type": "display_data"
    }
   ],
   "source": [
    "plt.hist(Active_CreditCard[\"DAYS_CREDIT\"],bins=50)"
   ]
  },
  {
   "cell_type": "code",
   "execution_count": 20,
   "metadata": {},
   "outputs": [
    {
     "data": {
      "text/html": [
       "<div>\n",
       "<style scoped>\n",
       "    .dataframe tbody tr th:only-of-type {\n",
       "        vertical-align: middle;\n",
       "    }\n",
       "\n",
       "    .dataframe tbody tr th {\n",
       "        vertical-align: top;\n",
       "    }\n",
       "\n",
       "    .dataframe thead th {\n",
       "        text-align: right;\n",
       "    }\n",
       "</style>\n",
       "<table border=\"1\" class=\"dataframe\">\n",
       "  <thead>\n",
       "    <tr style=\"text-align: right;\">\n",
       "      <th></th>\n",
       "      <th>SK_ID_CURR</th>\n",
       "      <th>SK_ID_BUREAU</th>\n",
       "      <th>CREDIT_ACTIVE</th>\n",
       "      <th>CREDIT_CURRENCY</th>\n",
       "      <th>DAYS_CREDIT</th>\n",
       "      <th>CREDIT_DAY_OVERDUE</th>\n",
       "      <th>DAYS_CREDIT_ENDDATE</th>\n",
       "      <th>DAYS_ENDDATE_FACT</th>\n",
       "      <th>AMT_CREDIT_MAX_OVERDUE</th>\n",
       "      <th>CNT_CREDIT_PROLONG</th>\n",
       "      <th>AMT_CREDIT_SUM</th>\n",
       "      <th>AMT_CREDIT_SUM_DEBT</th>\n",
       "      <th>AMT_CREDIT_SUM_LIMIT</th>\n",
       "      <th>AMT_CREDIT_SUM_OVERDUE</th>\n",
       "      <th>CREDIT_TYPE</th>\n",
       "      <th>DAYS_CREDIT_UPDATE</th>\n",
       "      <th>AMT_ANNUITY</th>\n",
       "    </tr>\n",
       "  </thead>\n",
       "  <tbody>\n",
       "    <tr>\n",
       "      <th>1</th>\n",
       "      <td>215354</td>\n",
       "      <td>5714463</td>\n",
       "      <td>Active</td>\n",
       "      <td>currency 1</td>\n",
       "      <td>-208</td>\n",
       "      <td>0</td>\n",
       "      <td>1075.0</td>\n",
       "      <td>NaN</td>\n",
       "      <td>NaN</td>\n",
       "      <td>0</td>\n",
       "      <td>225000.0</td>\n",
       "      <td>171342.00</td>\n",
       "      <td>NaN</td>\n",
       "      <td>0.0</td>\n",
       "      <td>Credit card</td>\n",
       "      <td>-20</td>\n",
       "      <td>NaN</td>\n",
       "    </tr>\n",
       "    <tr>\n",
       "      <th>3</th>\n",
       "      <td>215354</td>\n",
       "      <td>5714465</td>\n",
       "      <td>Active</td>\n",
       "      <td>currency 1</td>\n",
       "      <td>-203</td>\n",
       "      <td>0</td>\n",
       "      <td>NaN</td>\n",
       "      <td>NaN</td>\n",
       "      <td>NaN</td>\n",
       "      <td>0</td>\n",
       "      <td>90000.0</td>\n",
       "      <td>NaN</td>\n",
       "      <td>NaN</td>\n",
       "      <td>0.0</td>\n",
       "      <td>Credit card</td>\n",
       "      <td>-16</td>\n",
       "      <td>NaN</td>\n",
       "    </tr>\n",
       "    <tr>\n",
       "      <th>5</th>\n",
       "      <td>215354</td>\n",
       "      <td>5714467</td>\n",
       "      <td>Active</td>\n",
       "      <td>currency 1</td>\n",
       "      <td>-273</td>\n",
       "      <td>0</td>\n",
       "      <td>27460.0</td>\n",
       "      <td>NaN</td>\n",
       "      <td>0.0</td>\n",
       "      <td>0</td>\n",
       "      <td>180000.0</td>\n",
       "      <td>71017.38</td>\n",
       "      <td>108982.62</td>\n",
       "      <td>0.0</td>\n",
       "      <td>Credit card</td>\n",
       "      <td>-31</td>\n",
       "      <td>NaN</td>\n",
       "    </tr>\n",
       "    <tr>\n",
       "      <th>9</th>\n",
       "      <td>162297</td>\n",
       "      <td>5714471</td>\n",
       "      <td>Active</td>\n",
       "      <td>currency 1</td>\n",
       "      <td>-1146</td>\n",
       "      <td>0</td>\n",
       "      <td>-484.0</td>\n",
       "      <td>NaN</td>\n",
       "      <td>0.0</td>\n",
       "      <td>0</td>\n",
       "      <td>4500.0</td>\n",
       "      <td>0.00</td>\n",
       "      <td>0.00</td>\n",
       "      <td>0.0</td>\n",
       "      <td>Credit card</td>\n",
       "      <td>-690</td>\n",
       "      <td>NaN</td>\n",
       "    </tr>\n",
       "    <tr>\n",
       "      <th>10</th>\n",
       "      <td>162297</td>\n",
       "      <td>5714472</td>\n",
       "      <td>Active</td>\n",
       "      <td>currency 1</td>\n",
       "      <td>-1146</td>\n",
       "      <td>0</td>\n",
       "      <td>-180.0</td>\n",
       "      <td>NaN</td>\n",
       "      <td>0.0</td>\n",
       "      <td>0</td>\n",
       "      <td>337500.0</td>\n",
       "      <td>0.00</td>\n",
       "      <td>0.00</td>\n",
       "      <td>0.0</td>\n",
       "      <td>Credit card</td>\n",
       "      <td>-690</td>\n",
       "      <td>NaN</td>\n",
       "    </tr>\n",
       "  </tbody>\n",
       "</table>\n",
       "</div>"
      ],
      "text/plain": [
       "    SK_ID_CURR  SK_ID_BUREAU CREDIT_ACTIVE CREDIT_CURRENCY  DAYS_CREDIT  \\\n",
       "1       215354       5714463        Active      currency 1         -208   \n",
       "3       215354       5714465        Active      currency 1         -203   \n",
       "5       215354       5714467        Active      currency 1         -273   \n",
       "9       162297       5714471        Active      currency 1        -1146   \n",
       "10      162297       5714472        Active      currency 1        -1146   \n",
       "\n",
       "    CREDIT_DAY_OVERDUE  DAYS_CREDIT_ENDDATE  DAYS_ENDDATE_FACT  \\\n",
       "1                    0               1075.0                NaN   \n",
       "3                    0                  NaN                NaN   \n",
       "5                    0              27460.0                NaN   \n",
       "9                    0               -484.0                NaN   \n",
       "10                   0               -180.0                NaN   \n",
       "\n",
       "    AMT_CREDIT_MAX_OVERDUE  CNT_CREDIT_PROLONG  AMT_CREDIT_SUM  \\\n",
       "1                      NaN                   0        225000.0   \n",
       "3                      NaN                   0         90000.0   \n",
       "5                      0.0                   0        180000.0   \n",
       "9                      0.0                   0          4500.0   \n",
       "10                     0.0                   0        337500.0   \n",
       "\n",
       "    AMT_CREDIT_SUM_DEBT  AMT_CREDIT_SUM_LIMIT  AMT_CREDIT_SUM_OVERDUE  \\\n",
       "1             171342.00                   NaN                     0.0   \n",
       "3                   NaN                   NaN                     0.0   \n",
       "5              71017.38             108982.62                     0.0   \n",
       "9                  0.00                  0.00                     0.0   \n",
       "10                 0.00                  0.00                     0.0   \n",
       "\n",
       "    CREDIT_TYPE  DAYS_CREDIT_UPDATE  AMT_ANNUITY  \n",
       "1   Credit card                 -20          NaN  \n",
       "3   Credit card                 -16          NaN  \n",
       "5   Credit card                 -31          NaN  \n",
       "9   Credit card                -690          NaN  \n",
       "10  Credit card                -690          NaN  "
      ]
     },
     "execution_count": 20,
     "metadata": {},
     "output_type": "execute_result"
    }
   ],
   "source": [
    "Active_CreditCard.head() #[bureau[\"SK_ID_BUREAU\"]==5715448]\t"
   ]
  },
  {
   "cell_type": "raw",
   "metadata": {},
   "source": [
    "SK_ID_CURR: \"ID of loan in our sample - one loan in our sample can have 0,1,2 or more related previous credits in credit bureau \",hashed\n",
    "SK_BUREAU_ID: Recoded ID of previous Credit Bureau credit related to our loan (unique coding for each loan application),hashed\n",
    "\n",
    "CREDIT_ACTIVE: Status of the Credit Bureau (CB) reported credits,\n",
    "\n",
    "CREDIT_CURRENCY: Recoded currency of the Credit Bureau credit,recoded\n",
    "\n",
    "DAYS_CREDIT: How many days before current application did client apply for Credit Bureau credit,time only relative to the application\n",
    "CREDIT_DAY_OVERDUE: Number of days past due on CB credit at the time of application for related loan in our sample,\n",
    "DAYS_CREDIT_ENDDATE: Remaining duration of CB credit (in days) at the time of application in Home Credit,time only relative to the application\n",
    "DAYS_ENDDATE_FACT: Days since CB credit ended at the time of application in Home Credit (only for closed credit),time only relative to the application\n",
    "\n",
    "AMT_CREDIT_MAX_OVERDUE: Maximal amount overdue on the Credit Bureau credit so far (at application date of loan in our sample),\n",
    "CNT_CREDIT_PROLONG: How many times was the Credit Bureau credit prolonged,\n",
    "AMT_CREDIT_SUM: Current credit amount for the Credit Bureau credit,\n",
    "AMT_CREDIT_SUM_DEBT: Current debt on Credit Bureau credit,\n",
    "AMT_CREDIT_SUM_LIMIT: Current credit limit of credit card reported in Credit Bureau,\n",
    "AMT_CREDIT_SUM_OVERDUE: Current amount overdue on Credit Bureau credit,\n",
    "\n",
    "CREDIT_TYPE: \"Type of Credit Bureau credit (Car, cash,...)\",\n",
    "DAYS_CREDIT_UPDATE: How many days before loan application did last information about the Credit Bureau credit come,time only relative to the application\n",
    "AMT_ANNUITY: Annuity of the Credit Bureau credit,"
   ]
  },
  {
   "cell_type": "markdown",
   "metadata": {},
   "source": [
    "# 2. Cleaning"
   ]
  },
  {
   "cell_type": "code",
   "execution_count": 4,
   "metadata": {},
   "outputs": [],
   "source": [
    "bureau = bureau[bureau[\"CREDIT_CURRENCY\"]=='currency 1']\n",
    "bureau = bureau.drop(\"CREDIT_CURRENCY\",axis=1)"
   ]
  },
  {
   "cell_type": "markdown",
   "metadata": {},
   "source": [
    "# 3. Bad Debt"
   ]
  },
  {
   "cell_type": "code",
   "execution_count": 5,
   "metadata": {},
   "outputs": [],
   "source": [
    "Bad_Debt = bureau[[\"SK_ID_CURR\",\"CREDIT_ACTIVE\"]][bureau[\"CREDIT_ACTIVE\"]==\"Bad debt\"].groupby(\"SK_ID_CURR\").count().rename(columns={\"CREDIT_ACTIVE\":\"BAD_DEBT\"})\n",
    "Bad_Debt.to_pickle(data_output_dir + 'Bad_Debt.pkl')"
   ]
  },
  {
   "cell_type": "markdown",
   "metadata": {},
   "source": [
    "# 4. Active and Closed Debt"
   ]
  },
  {
   "cell_type": "code",
   "execution_count": 19,
   "metadata": {},
   "outputs": [],
   "source": [
    "## Consumer Credit\n",
    "Active_ConsumerCredit = bureau.loc[(bureau[\"CREDIT_ACTIVE\"] == 'Active') & (bureau[\"CREDIT_TYPE\"] == \"Consumer credit\")]\n",
    "Closed_ConsumerCredit = bureau.loc[(bureau[\"CREDIT_ACTIVE\"] == 'Closed') & (bureau[\"CREDIT_TYPE\"] == \"Consumer credit\")]\n",
    "## Credit Card\n",
    "Active_CreditCard = bureau.loc[(bureau[\"CREDIT_ACTIVE\"] == 'Active') & (bureau[\"CREDIT_TYPE\"] == \"Credit card\")]\n",
    "Closed_CreditCard = bureau.loc[(bureau[\"CREDIT_ACTIVE\"] == 'Closed') & (bureau[\"CREDIT_TYPE\"] == \"Credit card\")]\n",
    "## Mortgage\n",
    "Active_Mortgage = bureau.loc[(bureau[\"CREDIT_ACTIVE\"] == 'Active') & (bureau[\"CREDIT_TYPE\"] == \"Mortgage\")]\n",
    "Closed_Mortgage = bureau.loc[(bureau[\"CREDIT_ACTIVE\"] == 'Closed') & (bureau[\"CREDIT_TYPE\"] == \"Mortgage\")]\n",
    "## Other\n",
    "Active_Other = bureau.loc[(bureau[\"CREDIT_ACTIVE\"] == 'Active') & ~(bureau[\"CREDIT_TYPE\"].isin([\"Consumer credit\",\"Credit card\",\"Mortgage\"]))]\n",
    "Closed_Other = bureau.loc[(bureau[\"CREDIT_ACTIVE\"] == 'Closed') & ~(bureau[\"CREDIT_TYPE\"].isin([\"Consumer credit\",\"Credit card\",\"Mortgage\"]))]"
   ]
  },
  {
   "cell_type": "markdown",
   "metadata": {},
   "source": [
    "### Active Consumer Credit"
   ]
  },
  {
   "cell_type": "code",
   "execution_count": 8,
   "metadata": {},
   "outputs": [],
   "source": [
    "def conCred_year_brackets(year):\n",
    "    if (year >= -1): return 1\n",
    "    elif (year >= -2): return 2\n",
    "    else: return 3"
   ]
  },
  {
   "cell_type": "code",
   "execution_count": 9,
   "metadata": {},
   "outputs": [],
   "source": [
    "Active_ConsumerCredit = Active_ConsumerCredit.drop([\"DAYS_ENDDATE_FACT\",\"CREDIT_ACTIVE\",\"CREDIT_TYPE\"],axis=1)\n",
    "Active_ConsumerCredit = Active_ConsumerCredit.sort_values([\"SK_ID_CURR\",\"DAYS_CREDIT\",\"DAYS_CREDIT_UPDATE\"])\n",
    "Active_ConsumerCredit = Active_ConsumerCredit.drop_duplicates(subset=[\"SK_ID_CURR\", \"DAYS_CREDIT\"], keep='last')\n",
    "Active_ConsumerCredit[\"YEARS_CREDIT\"] = Active_ConsumerCredit[\"DAYS_CREDIT\"]/365\n",
    "Active_ConsumerCredit[\"DATE_RANGE\"] = Active_ConsumerCredit[\"YEARS_CREDIT\"].apply(conCred_year_brackets)"
   ]
  },
  {
   "cell_type": "code",
   "execution_count": 10,
   "metadata": {},
   "outputs": [],
   "source": [
    "Active_ConsumerCredit_Agg = Active_ConsumerCredit.groupby([\"SK_ID_CURR\"]).agg(\n",
    "         AMT_CREDIT_MAX_OVERDUE=('AMT_CREDIT_MAX_OVERDUE', max), \n",
    "         CNT_CREDIT_PROLONG=('CNT_CREDIT_PROLONG', sum),\n",
    "         CNT_CREDIT_PROLONG_MAX=('CNT_CREDIT_PROLONG', max),\n",
    "         AMT_CREDIT_SUM=('AMT_CREDIT_SUM', sum),\n",
    "         AMT_CREDIT_SUM_MAX=('AMT_CREDIT_SUM', max),\n",
    "         AMT_CREDIT_SUM_DEBT=('AMT_CREDIT_SUM_DEBT', sum),\n",
    "         AMT_CREDIT_SUM_DEBT_MAX=('AMT_CREDIT_SUM_DEBT', max),\n",
    "         COUNT=('SK_ID_BUREAU',len)\n",
    "        )"
   ]
  },
  {
   "cell_type": "code",
   "execution_count": 11,
   "metadata": {},
   "outputs": [],
   "source": [
    "Active_ConsumerCredit_Agg.to_pickle(data_output_dir + \"Active_ConsumerCredit_Agg.pkl\")"
   ]
  },
  {
   "cell_type": "code",
   "execution_count": 13,
   "metadata": {},
   "outputs": [],
   "source": [
    "Active_ConsumerCredit_Agg_Date = Active_ConsumerCredit.groupby([\"DATE_RANGE\",\"SK_ID_CURR\"]).agg(\n",
    "         AMT_CREDIT_MAX_OVERDUE=('AMT_CREDIT_MAX_OVERDUE', max), \n",
    "         CNT_CREDIT_PROLONG=('CNT_CREDIT_PROLONG', sum),\n",
    "         CNT_CREDIT_PROLONG_MAX=('CNT_CREDIT_PROLONG', max),\n",
    "         AMT_CREDIT_SUM=('AMT_CREDIT_SUM', sum),\n",
    "         AMT_CREDIT_SUM_MAX=('AMT_CREDIT_SUM', max),\n",
    "         AMT_CREDIT_SUM_DEBT=('AMT_CREDIT_SUM_DEBT', sum),\n",
    "         AMT_CREDIT_SUM_DEBT_MAX=('AMT_CREDIT_SUM_DEBT', max),\n",
    "         COUNT=('SK_ID_BUREAU',len)\n",
    "        )"
   ]
  },
  {
   "cell_type": "code",
   "execution_count": 14,
   "metadata": {},
   "outputs": [],
   "source": [
    "Active_ConsumerCredit_Agg_Date.to_pickle(data_output_dir + \"Active_ConsumerCredit_Agg_Date.pkl\")"
   ]
  },
  {
   "cell_type": "markdown",
   "metadata": {},
   "source": [
    "### Closed Consumer Credit"
   ]
  },
  {
   "cell_type": "code",
   "execution_count": 16,
   "metadata": {},
   "outputs": [],
   "source": [
    "def closedConCred_year_brackets(year):\n",
    "    if (year >= -2): return 1\n",
    "    elif (year >= -4): return 2\n",
    "    else: return 3"
   ]
  },
  {
   "cell_type": "code",
   "execution_count": 17,
   "metadata": {},
   "outputs": [],
   "source": [
    "Closed_ConsumerCredit = Closed_ConsumerCredit.drop([\"CREDIT_ACTIVE\",\"CREDIT_TYPE\"],axis=1)\n",
    "Closed_ConsumerCredit = Closed_ConsumerCredit.sort_values([\"SK_ID_CURR\",\"DAYS_CREDIT\",\"DAYS_CREDIT_UPDATE\"])\n",
    "Closed_ConsumerCredit = Closed_ConsumerCredit.drop_duplicates(subset=[\"SK_ID_CURR\", \"DAYS_CREDIT\"], keep='last')\n",
    "Closed_ConsumerCredit[\"YEARS_ENDDATE_FACT\"] = Closed_ConsumerCredit[\"DAYS_ENDDATE_FACT\"]/365\n",
    "Closed_ConsumerCredit[\"DATE_RANGE\"] = Closed_ConsumerCredit[\"YEARS_ENDDATE_FACT\"].apply(closedConCred_year_brackets)"
   ]
  },
  {
   "cell_type": "code",
   "execution_count": 18,
   "metadata": {},
   "outputs": [],
   "source": [
    "Closed_ConsumerCredit_Agg = Closed_ConsumerCredit.groupby([\"SK_ID_CURR\"]).agg(\n",
    "         AMT_CREDIT_MAX_OVERDUE=('AMT_CREDIT_MAX_OVERDUE', max), \n",
    "         CNT_CREDIT_PROLONG=('CNT_CREDIT_PROLONG', sum),\n",
    "         CNT_CREDIT_PROLONG_MAX=('CNT_CREDIT_PROLONG', max),\n",
    "         AMT_CREDIT_SUM=('AMT_CREDIT_SUM', sum),\n",
    "         AMT_CREDIT_SUM_MAX=('AMT_CREDIT_SUM', max),\n",
    "         COUNT=('SK_ID_BUREAU',len)\n",
    "        )"
   ]
  },
  {
   "cell_type": "code",
   "execution_count": 19,
   "metadata": {},
   "outputs": [],
   "source": [
    "Closed_ConsumerCredit_Agg.to_pickle(data_output_dir + \"Closed_ConsumerCredit_Agg.pkl\")"
   ]
  },
  {
   "cell_type": "code",
   "execution_count": 21,
   "metadata": {},
   "outputs": [],
   "source": [
    "Closed_ConsumerCredit_Agg_Date = Closed_ConsumerCredit.groupby([\"DATE_RANGE\",\"SK_ID_CURR\"]).agg(\n",
    "         AMT_CREDIT_MAX_OVERDUE=('AMT_CREDIT_MAX_OVERDUE', max), \n",
    "         CNT_CREDIT_PROLONG=('CNT_CREDIT_PROLONG', sum),\n",
    "         CNT_CREDIT_PROLONG_MAX=('CNT_CREDIT_PROLONG', max),\n",
    "         AMT_CREDIT_SUM=('AMT_CREDIT_SUM', sum),\n",
    "         AMT_CREDIT_SUM_MAX=('AMT_CREDIT_SUM', max),\n",
    "         COUNT=('SK_ID_BUREAU',len)\n",
    "        )"
   ]
  },
  {
   "cell_type": "code",
   "execution_count": 22,
   "metadata": {},
   "outputs": [],
   "source": [
    "Closed_ConsumerCredit_Agg_Date.to_pickle(data_output_dir + \"Closed_ConsumerCredit_Agg_Date.pkl\")"
   ]
  },
  {
   "cell_type": "markdown",
   "metadata": {},
   "source": [
    "### Active Credit Card"
   ]
  },
  {
   "cell_type": "code",
   "execution_count": 24,
   "metadata": {},
   "outputs": [],
   "source": [
    "def credCard_year_brackets(year):\n",
    "    if (year >= -1): return 1\n",
    "    elif (year >= -2): return 2\n",
    "    elif (year >= -4): return 3\n",
    "    else: return 4"
   ]
  },
  {
   "cell_type": "code",
   "execution_count": 18,
   "metadata": {},
   "outputs": [
    {
     "ename": "NameError",
     "evalue": "name 'Active_CreditCard' is not defined",
     "output_type": "error",
     "traceback": [
      "\u001b[0;31m---------------------------------------------------------------------------\u001b[0m",
      "\u001b[0;31mNameError\u001b[0m                                 Traceback (most recent call last)",
      "\u001b[0;32m<ipython-input-18-f84d1f051528>\u001b[0m in \u001b[0;36m<module>\u001b[0;34m\u001b[0m\n\u001b[0;32m----> 1\u001b[0;31m \u001b[0mActive_CreditCard\u001b[0m \u001b[0;34m=\u001b[0m \u001b[0mActive_CreditCard\u001b[0m\u001b[0;34m.\u001b[0m\u001b[0mdrop\u001b[0m\u001b[0;34m(\u001b[0m\u001b[0;34m[\u001b[0m\u001b[0;34m\"DAYS_ENDDATE_FACT\"\u001b[0m\u001b[0;34m,\u001b[0m\u001b[0;34m\"CREDIT_ACTIVE\"\u001b[0m\u001b[0;34m,\u001b[0m\u001b[0;34m\"CREDIT_TYPE\"\u001b[0m\u001b[0;34m]\u001b[0m\u001b[0;34m,\u001b[0m\u001b[0maxis\u001b[0m\u001b[0;34m=\u001b[0m\u001b[0;36m1\u001b[0m\u001b[0;34m)\u001b[0m\u001b[0;34m\u001b[0m\u001b[0;34m\u001b[0m\u001b[0m\n\u001b[0m\u001b[1;32m      2\u001b[0m \u001b[0mActive_CreditCard\u001b[0m \u001b[0;34m=\u001b[0m \u001b[0mActive_CreditCard\u001b[0m\u001b[0;34m.\u001b[0m\u001b[0msort_values\u001b[0m\u001b[0;34m(\u001b[0m\u001b[0;34m[\u001b[0m\u001b[0;34m\"SK_ID_CURR\"\u001b[0m\u001b[0;34m,\u001b[0m\u001b[0;34m\"DAYS_CREDIT\"\u001b[0m\u001b[0;34m,\u001b[0m\u001b[0;34m\"DAYS_CREDIT_UPDATE\"\u001b[0m\u001b[0;34m]\u001b[0m\u001b[0;34m)\u001b[0m\u001b[0;34m\u001b[0m\u001b[0;34m\u001b[0m\u001b[0m\n\u001b[1;32m      3\u001b[0m \u001b[0mActive_CreditCard\u001b[0m \u001b[0;34m=\u001b[0m \u001b[0mActive_CreditCard\u001b[0m\u001b[0;34m.\u001b[0m\u001b[0mdrop_duplicates\u001b[0m\u001b[0;34m(\u001b[0m\u001b[0msubset\u001b[0m\u001b[0;34m=\u001b[0m\u001b[0;34m[\u001b[0m\u001b[0;34m\"SK_ID_CURR\"\u001b[0m\u001b[0;34m,\u001b[0m \u001b[0;34m\"DAYS_CREDIT\"\u001b[0m\u001b[0;34m]\u001b[0m\u001b[0;34m,\u001b[0m \u001b[0mkeep\u001b[0m\u001b[0;34m=\u001b[0m\u001b[0;34m'last'\u001b[0m\u001b[0;34m)\u001b[0m\u001b[0;34m\u001b[0m\u001b[0;34m\u001b[0m\u001b[0m\n\u001b[1;32m      4\u001b[0m \u001b[0mActive_CreditCard\u001b[0m\u001b[0;34m[\u001b[0m\u001b[0;34m\"YEARS_CREDIT\"\u001b[0m\u001b[0;34m]\u001b[0m \u001b[0;34m=\u001b[0m \u001b[0mActive_CreditCard\u001b[0m\u001b[0;34m[\u001b[0m\u001b[0;34m\"DAYS_CREDIT\"\u001b[0m\u001b[0;34m]\u001b[0m\u001b[0;34m/\u001b[0m\u001b[0;36m365\u001b[0m\u001b[0;34m\u001b[0m\u001b[0;34m\u001b[0m\u001b[0m\n\u001b[1;32m      5\u001b[0m \u001b[0mActive_CreditCard\u001b[0m\u001b[0;34m[\u001b[0m\u001b[0;34m\"DATE_RANGE\"\u001b[0m\u001b[0;34m]\u001b[0m \u001b[0;34m=\u001b[0m \u001b[0mActive_CreditCard\u001b[0m\u001b[0;34m[\u001b[0m\u001b[0;34m\"YEARS_CREDIT\"\u001b[0m\u001b[0;34m]\u001b[0m\u001b[0;34m.\u001b[0m\u001b[0mapply\u001b[0m\u001b[0;34m(\u001b[0m\u001b[0mcredCard_year_brackets\u001b[0m\u001b[0;34m)\u001b[0m\u001b[0;34m\u001b[0m\u001b[0;34m\u001b[0m\u001b[0m\n",
      "\u001b[0;31mNameError\u001b[0m: name 'Active_CreditCard' is not defined"
     ]
    }
   ],
   "source": [
    "Active_CreditCard = Active_CreditCard.drop([\"DAYS_ENDDATE_FACT\",\"CREDIT_ACTIVE\",\"CREDIT_TYPE\"],axis=1)\n",
    "Active_CreditCard = Active_CreditCard.sort_values([\"SK_ID_CURR\",\"DAYS_CREDIT\",\"DAYS_CREDIT_UPDATE\"])\n",
    "Active_CreditCard = Active_CreditCard.drop_duplicates(subset=[\"SK_ID_CURR\", \"DAYS_CREDIT\"], keep='last')\n",
    "Active_CreditCard[\"YEARS_CREDIT\"] = Active_CreditCard[\"DAYS_CREDIT\"]/365\n",
    "Active_CreditCard[\"DATE_RANGE\"] = Active_CreditCard[\"YEARS_CREDIT\"].apply(credCard_year_brackets)"
   ]
  },
  {
   "cell_type": "code",
   "execution_count": 26,
   "metadata": {},
   "outputs": [],
   "source": [
    "Active_CreditCard_Agg = Active_CreditCard.groupby([\"SK_ID_CURR\"]).agg(\n",
    "         AMT_CREDIT_MAX_OVERDUE=('AMT_CREDIT_MAX_OVERDUE', max), \n",
    "         CNT_CREDIT_PROLONG=('CNT_CREDIT_PROLONG', sum),\n",
    "         CNT_CREDIT_PROLONG_MAX=('CNT_CREDIT_PROLONG', max),\n",
    "         AMT_CREDIT_SUM=('AMT_CREDIT_SUM', sum),\n",
    "         AMT_CREDIT_SUM_MAX=('AMT_CREDIT_SUM', max),\n",
    "         AMT_CREDIT_SUM_DEBT=('AMT_CREDIT_SUM_DEBT', sum),\n",
    "         AMT_CREDIT_SUM_DEBT_MAX=('AMT_CREDIT_SUM_DEBT', max),\n",
    "         AMT_CREDIT_SUM_LIMIT=('AMT_CREDIT_SUM_LIMIT', sum),\n",
    "         AMT_CREDIT_SUM_LIMIT_MAX=('AMT_CREDIT_SUM_LIMIT', max),\n",
    "         COUNT=('SK_ID_BUREAU',len)\n",
    "        )"
   ]
  },
  {
   "cell_type": "code",
   "execution_count": 27,
   "metadata": {},
   "outputs": [],
   "source": [
    "Active_CreditCard_Agg.to_pickle(data_output_dir + \"Active_CreditCard_Agg.pkl\")"
   ]
  },
  {
   "cell_type": "code",
   "execution_count": 29,
   "metadata": {},
   "outputs": [],
   "source": [
    "Active_CreditCard_Agg_Date = Active_CreditCard.groupby([\"DATE_RANGE\",\"SK_ID_CURR\"]).agg(\n",
    "         AMT_CREDIT_MAX_OVERDUE=('AMT_CREDIT_MAX_OVERDUE', max), \n",
    "         CNT_CREDIT_PROLONG=('CNT_CREDIT_PROLONG', sum),\n",
    "         CNT_CREDIT_PROLONG_MAX=('CNT_CREDIT_PROLONG', max),\n",
    "         AMT_CREDIT_SUM=('AMT_CREDIT_SUM', sum),\n",
    "         AMT_CREDIT_SUM_MAX=('AMT_CREDIT_SUM', max),\n",
    "         AMT_CREDIT_SUM_DEBT=('AMT_CREDIT_SUM_DEBT', sum),\n",
    "         AMT_CREDIT_SUM_DEBT_MAX=('AMT_CREDIT_SUM_DEBT', max),\n",
    "         AMT_CREDIT_SUM_LIMIT=('AMT_CREDIT_SUM_LIMIT', sum),\n",
    "         AMT_CREDIT_SUM_LIMIT_MAX=('AMT_CREDIT_SUM_LIMIT', max),\n",
    "         COUNT=('SK_ID_BUREAU',len)\n",
    "        )"
   ]
  },
  {
   "cell_type": "code",
   "execution_count": 30,
   "metadata": {},
   "outputs": [],
   "source": [
    "Active_CreditCard_Agg_Date.to_pickle(data_output_dir + \"Active_CreditCard_Agg_Date.pkl\")"
   ]
  },
  {
   "cell_type": "markdown",
   "metadata": {},
   "source": [
    "### Closed Credit Card"
   ]
  },
  {
   "cell_type": "code",
   "execution_count": 32,
   "metadata": {},
   "outputs": [],
   "source": [
    "def closedCredCard_year_brackets(year):\n",
    "    if (year >= -1): return 1\n",
    "    elif (year >= -2): return 2\n",
    "    elif (year >= -4): return 3\n",
    "    else: return 4"
   ]
  },
  {
   "cell_type": "code",
   "execution_count": 33,
   "metadata": {},
   "outputs": [],
   "source": [
    "Closed_CreditCard = Closed_CreditCard.drop([\"CREDIT_ACTIVE\",\"CREDIT_TYPE\"],axis=1)\n",
    "Closed_CreditCard = Closed_CreditCard.sort_values([\"SK_ID_CURR\",\"DAYS_CREDIT\",\"DAYS_CREDIT_UPDATE\"])\n",
    "Closed_CreditCard = Closed_CreditCard.drop_duplicates(subset=[\"SK_ID_CURR\", \"DAYS_CREDIT\"], keep='last')\n",
    "Closed_CreditCard[\"YEARS_ENDDATE_FACT\"] = Closed_CreditCard[\"DAYS_ENDDATE_FACT\"]/365\n",
    "Closed_CreditCard[\"DATE_RANGE\"] = Closed_CreditCard[\"YEARS_ENDDATE_FACT\"].apply(closedCredCard_year_brackets)"
   ]
  },
  {
   "cell_type": "code",
   "execution_count": 34,
   "metadata": {},
   "outputs": [],
   "source": [
    "Closed_CreditCard_Agg = Closed_CreditCard.groupby([\"SK_ID_CURR\"]).agg(\n",
    "         AMT_CREDIT_MAX_OVERDUE=('AMT_CREDIT_MAX_OVERDUE', max), \n",
    "         CNT_CREDIT_PROLONG=('CNT_CREDIT_PROLONG', sum),\n",
    "         CNT_CREDIT_PROLONG_MAX=('CNT_CREDIT_PROLONG', max),\n",
    "         AMT_CREDIT_SUM=('AMT_CREDIT_SUM', sum),\n",
    "         AMT_CREDIT_SUM_MAX=('AMT_CREDIT_SUM', max),\n",
    "         AMT_CREDIT_SUM_LIMIT=('AMT_CREDIT_SUM_LIMIT', sum),\n",
    "         AMT_CREDIT_SUM_LIMIT_MAX=('AMT_CREDIT_SUM_LIMIT', max),\n",
    "         COUNT=('SK_ID_BUREAU',len)\n",
    "        )"
   ]
  },
  {
   "cell_type": "code",
   "execution_count": 35,
   "metadata": {},
   "outputs": [],
   "source": [
    "Closed_CreditCard_Agg.to_pickle(data_output_dir + \"Closed_CreditCard_Agg.pkl\")"
   ]
  },
  {
   "cell_type": "code",
   "execution_count": 37,
   "metadata": {},
   "outputs": [],
   "source": [
    "Closed_CreditCard_Agg_Date = Closed_CreditCard.groupby([\"DATE_RANGE\",\"SK_ID_CURR\"]).agg(\n",
    "         AMT_CREDIT_MAX_OVERDUE=('AMT_CREDIT_MAX_OVERDUE', max), \n",
    "         CNT_CREDIT_PROLONG=('CNT_CREDIT_PROLONG', sum),\n",
    "         CNT_CREDIT_PROLONG_MAX=('CNT_CREDIT_PROLONG', max),\n",
    "         AMT_CREDIT_SUM=('AMT_CREDIT_SUM', sum),\n",
    "         AMT_CREDIT_SUM_MAX=('AMT_CREDIT_SUM', max),\n",
    "         AMT_CREDIT_SUM_LIMIT=('AMT_CREDIT_SUM_LIMIT', sum),\n",
    "         AMT_CREDIT_SUM_LIMIT_MAX=('AMT_CREDIT_SUM_LIMIT', max),\n",
    "         COUNT=('SK_ID_BUREAU',len)\n",
    "        )"
   ]
  },
  {
   "cell_type": "code",
   "execution_count": 38,
   "metadata": {},
   "outputs": [],
   "source": [
    "Closed_CreditCard_Agg_Date.to_pickle(data_output_dir + \"Closed_CreditCard_Agg_Date.pkl\")"
   ]
  },
  {
   "cell_type": "markdown",
   "metadata": {},
   "source": [
    "### Active_Mortgage"
   ]
  },
  {
   "cell_type": "code",
   "execution_count": 40,
   "metadata": {},
   "outputs": [],
   "source": [
    "Active_Mortgage = Active_Mortgage.drop([\"DAYS_ENDDATE_FACT\",\"CREDIT_ACTIVE\",\"CREDIT_TYPE\"],axis=1)\n",
    "Active_Mortgage[\"COUNT\"] = Active_Mortgage[[\"SK_ID_CURR\",\"SK_ID_BUREAU\"]].groupby(\"SK_ID_CURR\").transform('count')"
   ]
  },
  {
   "cell_type": "code",
   "execution_count": 47,
   "metadata": {},
   "outputs": [
    {
     "name": "stderr",
     "output_type": "stream",
     "text": [
      "/home/mdawkins/jupyter/conda/envs/default/lib/python3.7/site-packages/ipykernel_launcher.py:3: SettingWithCopyWarning: \n",
      "A value is trying to be set on a copy of a slice from a DataFrame.\n",
      "Try using .loc[row_indexer,col_indexer] = value instead\n",
      "\n",
      "See the caveats in the documentation: https://pandas.pydata.org/pandas-docs/stable/user_guide/indexing.html#returning-a-view-versus-a-copy\n",
      "  This is separate from the ipykernel package so we can avoid doing imports until\n"
     ]
    }
   ],
   "source": [
    "Active_Mortgage_Singl = Active_Mortgage[Active_Mortgage[\"COUNT\"]<=1]\n",
    "Active_Mortgage_Dupes = Active_Mortgage[Active_Mortgage[\"COUNT\"]>1]\n",
    "Active_Mortgage_Dupes[\"COUNT\"] = Active_Mortgage_Dupes[[\"SK_ID_CURR\",\"SK_ID_BUREAU\"]].groupby('SK_ID_CURR').transform('count') \n",
    "Active_Mortgage_Dupes = Active_Mortgage_Dupes[Active_Mortgage_Dupes['DAYS_CREDIT_UPDATE'] == Active_Mortgage_Dupes.groupby('SK_ID_CURR')['DAYS_CREDIT_UPDATE'].transform('min')]\n",
    "Active_Mortgage_Dupes = Active_Mortgage_Dupes[Active_Mortgage_Dupes['DAYS_CREDIT'] == Active_Mortgage_Dupes.groupby('SK_ID_CURR')['DAYS_CREDIT'].transform('min')]\n",
    "Active_Mortgage_Dupes = Active_Mortgage_Dupes[Active_Mortgage_Dupes['AMT_CREDIT_SUM'] == Active_Mortgage_Dupes.groupby('SK_ID_CURR')['AMT_CREDIT_SUM'].transform('max')]\n",
    "Active_Mortgage_Dupes = Active_Mortgage_Dupes[Active_Mortgage_Dupes[\"DAYS_CREDIT_ENDDATE\"].notnull()]\n",
    "Active_Mortgage_Dupes = Active_Mortgage_Dupes.drop_duplicates(subset=['SK_ID_CURR'])\n",
    "Active_Mortgage_Clean = pd.concat([Active_Mortgage_Singl, Active_Mortgage_Dupes])\n",
    "Active_Mortgage_Clean = Active_Mortgage_Clean.set_index(\"SK_ID_CURR\")\n",
    "Active_Mortgage_Clean = Active_Mortgage_Clean.drop([\"SK_ID_BUREAU\"],axis=1)"
   ]
  },
  {
   "cell_type": "code",
   "execution_count": 48,
   "metadata": {},
   "outputs": [],
   "source": [
    "Active_Mortgage_Clean.to_pickle(data_output_dir + \"Active_Mortgage_Clean.pkl\")"
   ]
  },
  {
   "cell_type": "markdown",
   "metadata": {},
   "source": [
    "### Closed_Mortgage"
   ]
  },
  {
   "cell_type": "code",
   "execution_count": 50,
   "metadata": {},
   "outputs": [],
   "source": [
    "Closed_Mortgage = Closed_Mortgage.drop([\"CREDIT_ACTIVE\",\"CREDIT_TYPE\"],axis=1)\n",
    "Closed_Mortgage[\"COUNT\"] = Closed_Mortgage[[\"SK_ID_CURR\",\"SK_ID_BUREAU\"]].groupby(\"SK_ID_CURR\").transform('count')"
   ]
  },
  {
   "cell_type": "code",
   "execution_count": 54,
   "metadata": {},
   "outputs": [
    {
     "name": "stderr",
     "output_type": "stream",
     "text": [
      "/home/mdawkins/jupyter/conda/envs/default/lib/python3.7/site-packages/ipykernel_launcher.py:3: SettingWithCopyWarning: \n",
      "A value is trying to be set on a copy of a slice from a DataFrame.\n",
      "Try using .loc[row_indexer,col_indexer] = value instead\n",
      "\n",
      "See the caveats in the documentation: https://pandas.pydata.org/pandas-docs/stable/user_guide/indexing.html#returning-a-view-versus-a-copy\n",
      "  This is separate from the ipykernel package so we can avoid doing imports until\n"
     ]
    }
   ],
   "source": [
    "Closed_Mortgage_Singl = Closed_Mortgage[Closed_Mortgage[\"COUNT\"]<=1]\n",
    "Closed_Mortgage_Dupes = Closed_Mortgage[Closed_Mortgage[\"COUNT\"]>1]\n",
    "Closed_Mortgage_Dupes[\"COUNT\"] = Closed_Mortgage_Dupes[[\"SK_ID_CURR\",\"SK_ID_BUREAU\"]].groupby('SK_ID_CURR').transform('count') \n",
    "Closed_Mortgage_Dupes = Closed_Mortgage_Dupes[Closed_Mortgage_Dupes['DAYS_CREDIT_UPDATE'] == Closed_Mortgage_Dupes.groupby('SK_ID_CURR')['DAYS_CREDIT_UPDATE'].transform('min')]\n",
    "Closed_Mortgage_Dupes = Closed_Mortgage_Dupes[Closed_Mortgage_Dupes['DAYS_ENDDATE_FACT'] == Closed_Mortgage_Dupes.groupby('SK_ID_CURR')['DAYS_ENDDATE_FACT'].transform('min')]\n",
    "Closed_Mortgage_Dupes = Closed_Mortgage_Dupes[Closed_Mortgage_Dupes['AMT_CREDIT_SUM'] == Closed_Mortgage_Dupes.groupby('SK_ID_CURR')['AMT_CREDIT_SUM'].transform('max')]\n",
    "Closed_Mortgage_Dupes = Closed_Mortgage_Dupes.drop_duplicates(subset=['SK_ID_CURR'])\n",
    "Closed_Mortgage_Clean = pd.concat([Closed_Mortgage_Singl, Closed_Mortgage_Dupes])\n",
    "Closed_Mortgage_Clean = Closed_Mortgage_Clean.set_index(\"SK_ID_CURR\")\n",
    "Closed_Mortgage_Clean = Closed_Mortgage_Clean.drop([\"SK_ID_BUREAU\"],axis=1)"
   ]
  },
  {
   "cell_type": "code",
   "execution_count": 55,
   "metadata": {},
   "outputs": [],
   "source": [
    "Closed_Mortgage_Clean.to_pickle(data_output_dir + \"Closed_Mortgage_Clean.pkl\")"
   ]
  },
  {
   "cell_type": "markdown",
   "metadata": {},
   "source": [
    "### Active Other"
   ]
  },
  {
   "cell_type": "code",
   "execution_count": 57,
   "metadata": {},
   "outputs": [],
   "source": [
    "def other_year_brackets(year):\n",
    "    if (year >= -1): return 1\n",
    "    elif (year >= -2): return 2\n",
    "    else: return 3"
   ]
  },
  {
   "cell_type": "code",
   "execution_count": 58,
   "metadata": {},
   "outputs": [],
   "source": [
    "Active_Other = Active_Other.drop([\"DAYS_ENDDATE_FACT\",\"CREDIT_ACTIVE\"],axis=1)\n",
    "Active_Other = Active_Other.sort_values([\"SK_ID_CURR\",\"DAYS_CREDIT\",\"DAYS_CREDIT_UPDATE\"])\n",
    "Active_Other = Active_Other.drop_duplicates(subset=[\"SK_ID_CURR\", \"DAYS_CREDIT\"], keep='last')\n",
    "Active_Other[\"YEARS_CREDIT\"] = Active_Other[\"DAYS_CREDIT\"]/365\n",
    "Active_Other[\"DATE_RANGE\"] = Active_Other[\"YEARS_CREDIT\"].apply(other_year_brackets)"
   ]
  },
  {
   "cell_type": "code",
   "execution_count": 59,
   "metadata": {},
   "outputs": [],
   "source": [
    "Active_Other_Agg = Active_Other.groupby([\"SK_ID_CURR\"]).agg(\n",
    "         AMT_CREDIT_MAX_OVERDUE=('AMT_CREDIT_MAX_OVERDUE', max), \n",
    "         AMT_CREDIT_SUM=('AMT_CREDIT_SUM', sum),\n",
    "         AMT_CREDIT_SUM_MAX=('AMT_CREDIT_SUM', max),\n",
    "         AMT_CREDIT_SUM_DEBT=('AMT_CREDIT_SUM_DEBT', sum),\n",
    "         AMT_CREDIT_SUM_DEBT_MAX=('AMT_CREDIT_SUM_DEBT', max),\n",
    "         AMT_ANNUITY=('AMT_ANNUITY', sum),\n",
    "         AMT_ANNUITY_MAX=('AMT_ANNUITY', max),\n",
    "         COUNT=('SK_ID_BUREAU',len)\n",
    "        )"
   ]
  },
  {
   "cell_type": "code",
   "execution_count": 60,
   "metadata": {},
   "outputs": [],
   "source": [
    "Active_Other_Agg.to_pickle(data_output_dir + \"Active_Other_Agg.pkl\")"
   ]
  },
  {
   "cell_type": "code",
   "execution_count": 62,
   "metadata": {},
   "outputs": [],
   "source": [
    "Active_Other_Agg_Date = Active_Other.groupby([\"DATE_RANGE\",\"SK_ID_CURR\"]).agg(\n",
    "         AMT_CREDIT_MAX_OVERDUE=('AMT_CREDIT_MAX_OVERDUE', max), \n",
    "         AMT_CREDIT_SUM=('AMT_CREDIT_SUM', sum),\n",
    "         AMT_CREDIT_SUM_MAX=('AMT_CREDIT_SUM', max),\n",
    "         AMT_CREDIT_SUM_DEBT=('AMT_CREDIT_SUM_DEBT', sum),\n",
    "         AMT_CREDIT_SUM_DEBT_MAX=('AMT_CREDIT_SUM_DEBT', max),\n",
    "         AMT_ANNUITY_DEBT=('AMT_ANNUITY', sum),\n",
    "         AMT_ANNUITY_DEBT_MAX=('AMT_ANNUITY', max),\n",
    "         COUNT=('SK_ID_BUREAU',len)\n",
    "        )"
   ]
  },
  {
   "cell_type": "code",
   "execution_count": 63,
   "metadata": {},
   "outputs": [],
   "source": [
    "Active_Other_Agg_Date.to_pickle(data_output_dir + \"Active_Other_Agg_Date.pkl\")"
   ]
  },
  {
   "cell_type": "markdown",
   "metadata": {},
   "source": [
    "### Closed Other"
   ]
  },
  {
   "cell_type": "code",
   "execution_count": 65,
   "metadata": {},
   "outputs": [],
   "source": [
    "def closedOther_year_brackets(year):\n",
    "    if (year >= -2): return 1\n",
    "    elif (year >= -4): return 2\n",
    "    else: return 3"
   ]
  },
  {
   "cell_type": "code",
   "execution_count": 66,
   "metadata": {},
   "outputs": [],
   "source": [
    "Closed_Other = Closed_Other.drop([\"CREDIT_ACTIVE\"],axis=1)\n",
    "Closed_Other = Closed_Other.sort_values([\"SK_ID_CURR\",\"DAYS_CREDIT\",\"DAYS_CREDIT_UPDATE\"])\n",
    "Closed_Other = Closed_Other.drop_duplicates(subset=[\"SK_ID_CURR\", \"DAYS_CREDIT\"], keep='last')\n",
    "Closed_Other[\"YEARS_CREDIT\"] = Closed_Other[\"DAYS_ENDDATE_FACT\"]/365\n",
    "Closed_Other[\"DATE_RANGE\"] = Closed_Other[\"YEARS_CREDIT\"].apply(closedOther_year_brackets)"
   ]
  },
  {
   "cell_type": "code",
   "execution_count": 67,
   "metadata": {},
   "outputs": [],
   "source": [
    "Closed_Other_Agg = Closed_Other.groupby([\"SK_ID_CURR\"]).agg(\n",
    "         AMT_CREDIT_MAX_OVERDUE=('AMT_CREDIT_MAX_OVERDUE', max), \n",
    "         AMT_CREDIT_SUM=('AMT_CREDIT_SUM', sum),\n",
    "         AMT_CREDIT_SUM_MAX=('AMT_CREDIT_SUM', max),\n",
    "         AMT_CREDIT_SUM_DEBT=('AMT_CREDIT_SUM_DEBT', sum),\n",
    "         AMT_CREDIT_SUM_DEBT_MAX=('AMT_CREDIT_SUM_DEBT', max),\n",
    "         AMT_ANNUITY_DEBT=('AMT_ANNUITY', sum),\n",
    "         AMT_ANNUITY_DEBT_MAX=('AMT_ANNUITY', max),\n",
    "         COUNT=('SK_ID_BUREAU',len)\n",
    "        )"
   ]
  },
  {
   "cell_type": "code",
   "execution_count": 68,
   "metadata": {},
   "outputs": [],
   "source": [
    "Closed_Other_Agg.to_pickle(data_output_dir + \"Closed_Other_Agg.pkl\")"
   ]
  },
  {
   "cell_type": "code",
   "execution_count": 70,
   "metadata": {},
   "outputs": [],
   "source": [
    "Closed_Other_Agg_Date = Closed_Other.groupby([\"DATE_RANGE\",\"SK_ID_CURR\"]).agg(\n",
    "         AMT_CREDIT_MAX_OVERDUE=('AMT_CREDIT_MAX_OVERDUE', max), \n",
    "         AMT_CREDIT_SUM=('AMT_CREDIT_SUM', sum),\n",
    "         AMT_CREDIT_SUM_MAX=('AMT_CREDIT_SUM', max),\n",
    "         AMT_CREDIT_SUM_DEBT=('AMT_CREDIT_SUM_DEBT', sum),\n",
    "         AMT_CREDIT_SUM_DEBT_MAX=('AMT_CREDIT_SUM_DEBT', max),\n",
    "         AMT_ANNUITY_DEBT=('AMT_ANNUITY', sum),\n",
    "         AMT_ANNUITY_DEBT_MAX=('AMT_ANNUITY', max),\n",
    "         COUNT=('SK_ID_BUREAU',len)\n",
    "        )"
   ]
  },
  {
   "cell_type": "code",
   "execution_count": 71,
   "metadata": {},
   "outputs": [],
   "source": [
    "Closed_Other_Agg_Date.to_pickle(data_output_dir + \"Closed_Other_Agg_Date.pkl\")"
   ]
  },
  {
   "cell_type": "markdown",
   "metadata": {},
   "source": [
    "# 5. Sold debt"
   ]
  },
  {
   "cell_type": "code",
   "execution_count": 73,
   "metadata": {},
   "outputs": [],
   "source": [
    "bureau_sold_debt = bureau[bureau[\"CREDIT_ACTIVE\"]=='Sold']\n",
    "bureau_sold_debt = bureau_sold_debt.sort_values([\"SK_ID_CURR\",\"DAYS_CREDIT\",\"DAYS_CREDIT_UPDATE\"])\n",
    "bureau_sold_debt = bureau_sold_debt.drop_duplicates(subset=[\"SK_ID_CURR\", \"DAYS_CREDIT\"], keep='last')\n",
    "bureau_sold_debt = bureau_sold_debt.drop([\"SK_ID_BUREAU\"],axis=1)"
   ]
  },
  {
   "cell_type": "code",
   "execution_count": 77,
   "metadata": {},
   "outputs": [],
   "source": [
    "bureau_sold_debt_agg = bureau_sold_debt.groupby('SK_ID_CURR', as_index = False).agg(['mean', 'max', 'min', 'sum', 'count'])"
   ]
  },
  {
   "cell_type": "code",
   "execution_count": 78,
   "metadata": {},
   "outputs": [],
   "source": [
    "bureau_sold_debt_agg.columns = [''.join(col).strip() for col in bureau_sold_debt_agg.columns.values]"
   ]
  },
  {
   "cell_type": "code",
   "execution_count": 80,
   "metadata": {},
   "outputs": [],
   "source": [
    "bureau_sold_debt_agg.to_pickle(data_output_dir + \"Sold_Agg.pkl\")"
   ]
  },
  {
   "cell_type": "code",
   "execution_count": null,
   "metadata": {},
   "outputs": [],
   "source": []
  }
 ],
 "metadata": {
  "kernelspec": {
   "display_name": "Python 3",
   "language": "python",
   "name": "python3"
  },
  "language_info": {
   "codemirror_mode": {
    "name": "ipython",
    "version": 3
   },
   "file_extension": ".py",
   "mimetype": "text/x-python",
   "name": "python",
   "nbconvert_exporter": "python",
   "pygments_lexer": "ipython3",
   "version": "3.7.6"
  }
 },
 "nbformat": 4,
 "nbformat_minor": 4
}
