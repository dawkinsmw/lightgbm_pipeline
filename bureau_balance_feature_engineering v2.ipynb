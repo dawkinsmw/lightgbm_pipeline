{
 "cells": [
  {
   "cell_type": "markdown",
   "metadata": {},
   "source": [
    "# 0. Set up"
   ]
  },
  {
   "cell_type": "code",
   "execution_count": 1,
   "metadata": {},
   "outputs": [],
   "source": [
    "## Import packages\n",
    "import os\n",
    "import pandas as pd\n",
    "import matplotlib.pyplot as plt"
   ]
  },
  {
   "cell_type": "code",
   "execution_count": 5,
   "metadata": {},
   "outputs": [],
   "source": [
    "## Set paths\n",
    "user = os.getenv('USERNAME')\n",
    "shared_workspace = '/home/mdawkins/modelling_club'\n",
    "user_dir = os.path.join(shared_workspace, user)\n",
    "data_dir = os.path.join(shared_workspace, 'raw_data')\n",
    "data_output_dir = os.path.join(shared_workspace, 'raw_data_lfs/engineered/bureau_balance/')"
   ]
  },
  {
   "cell_type": "markdown",
   "metadata": {},
   "source": [
    "# 1. Import data"
   ]
  },
  {
   "cell_type": "code",
   "execution_count": 6,
   "metadata": {},
   "outputs": [],
   "source": [
    "home_loan_train = pd.read_csv(data_dir + '/raw/application_train.csv',index_col='SK_ID_CURR')\n",
    "train_response = home_loan_train['TARGET']\n",
    "\n",
    "home_loan_test = pd.read_csv(data_dir + '/raw/application_test_noTarget.csv',index_col='SK_ID_CURR')\n",
    "home_loan_test.loc[:, 'TARGET'] = None\n",
    "\n",
    "bureau = pd.read_csv(data_dir + '/raw/bureau.csv')\n",
    "bureauBalance = pd.read_csv(data_dir + '/raw/bureau_balance.csv')"
   ]
  },
  {
   "cell_type": "markdown",
   "metadata": {},
   "source": [
    "# 2. Feature engineering"
   ]
  },
  {
   "cell_type": "code",
   "execution_count": 15,
   "metadata": {},
   "outputs": [
    {
     "data": {
      "text/html": [
       "<div>\n",
       "<style scoped>\n",
       "    .dataframe tbody tr th:only-of-type {\n",
       "        vertical-align: middle;\n",
       "    }\n",
       "\n",
       "    .dataframe tbody tr th {\n",
       "        vertical-align: top;\n",
       "    }\n",
       "\n",
       "    .dataframe thead th {\n",
       "        text-align: right;\n",
       "    }\n",
       "</style>\n",
       "<table border=\"1\" class=\"dataframe\">\n",
       "  <thead>\n",
       "    <tr style=\"text-align: right;\">\n",
       "      <th></th>\n",
       "      <th>BB_DPD_FLAG</th>\n",
       "      <th>BB_DPD_1_30_FLAG</th>\n",
       "      <th>BB_DPD_31_60_FLAG</th>\n",
       "      <th>BB_DPD_61_90_FLAG</th>\n",
       "      <th>BB_DPD_91_120_FLAG</th>\n",
       "      <th>BB_DPD_120_FLAG</th>\n",
       "      <th>BB_DPD_MAX</th>\n",
       "    </tr>\n",
       "    <tr>\n",
       "      <th>SK_ID_CURR</th>\n",
       "      <th></th>\n",
       "      <th></th>\n",
       "      <th></th>\n",
       "      <th></th>\n",
       "      <th></th>\n",
       "      <th></th>\n",
       "      <th></th>\n",
       "    </tr>\n",
       "  </thead>\n",
       "  <tbody>\n",
       "    <tr>\n",
       "      <th>100002</th>\n",
       "      <td>1</td>\n",
       "      <td>1</td>\n",
       "      <td>0</td>\n",
       "      <td>0</td>\n",
       "      <td>0</td>\n",
       "      <td>0</td>\n",
       "      <td>1.0</td>\n",
       "    </tr>\n",
       "    <tr>\n",
       "      <th>100010</th>\n",
       "      <td>0</td>\n",
       "      <td>0</td>\n",
       "      <td>0</td>\n",
       "      <td>0</td>\n",
       "      <td>0</td>\n",
       "      <td>0</td>\n",
       "      <td>NaN</td>\n",
       "    </tr>\n",
       "    <tr>\n",
       "      <th>100019</th>\n",
       "      <td>0</td>\n",
       "      <td>0</td>\n",
       "      <td>0</td>\n",
       "      <td>0</td>\n",
       "      <td>0</td>\n",
       "      <td>0</td>\n",
       "      <td>NaN</td>\n",
       "    </tr>\n",
       "    <tr>\n",
       "      <th>100032</th>\n",
       "      <td>0</td>\n",
       "      <td>0</td>\n",
       "      <td>0</td>\n",
       "      <td>0</td>\n",
       "      <td>0</td>\n",
       "      <td>0</td>\n",
       "      <td>NaN</td>\n",
       "    </tr>\n",
       "    <tr>\n",
       "      <th>100033</th>\n",
       "      <td>0</td>\n",
       "      <td>0</td>\n",
       "      <td>0</td>\n",
       "      <td>0</td>\n",
       "      <td>0</td>\n",
       "      <td>0</td>\n",
       "      <td>NaN</td>\n",
       "    </tr>\n",
       "  </tbody>\n",
       "</table>\n",
       "</div>"
      ],
      "text/plain": [
       "           BB_DPD_FLAG BB_DPD_1_30_FLAG BB_DPD_31_60_FLAG BB_DPD_61_90_FLAG  \\\n",
       "SK_ID_CURR                                                                    \n",
       "100002               1                1                 0                 0   \n",
       "100010               0                0                 0                 0   \n",
       "100019               0                0                 0                 0   \n",
       "100032               0                0                 0                 0   \n",
       "100033               0                0                 0                 0   \n",
       "\n",
       "           BB_DPD_91_120_FLAG BB_DPD_120_FLAG  BB_DPD_MAX  \n",
       "SK_ID_CURR                                                 \n",
       "100002                      0               0         1.0  \n",
       "100010                      0               0         NaN  \n",
       "100019                      0               0         NaN  \n",
       "100032                      0               0         NaN  \n",
       "100033                      0               0         NaN  "
      ]
     },
     "execution_count": 15,
     "metadata": {},
     "output_type": "execute_result"
    }
   ],
   "source": [
    "bureau_balance_features = bureauBalance\n",
    "\n",
    "# BB_DPD_FLAG - flag for if they have ever been overdue\n",
    "bureau_balance_features.loc[:, 'BB_DPD_FLAG'] = '0'\n",
    "bureau_balance_features.loc[bureauBalance['STATUS'].isin(['1', '2', '3', '4', '5']), 'BB_DPD_FLAG'] = '1'\n",
    "\n",
    "# BB_DPD_1_30_FLAG - flag for if they have ever paid 1 - 30 days late\n",
    "bureau_balance_features.loc[:, 'BB_DPD_1_30_FLAG'] = '0'\n",
    "bureau_balance_features.loc[bureauBalance['STATUS'].isin(['1']), 'BB_DPD_1_30_FLAG'] = '1'\n",
    "\n",
    "# BB_DPD_31_60_FLAG - flag for if they have ever paid 31 - 60 days late\n",
    "bureau_balance_features.loc[:, 'BB_DPD_31_60_FLAG'] = '0'\n",
    "bureau_balance_features.loc[bureauBalance['STATUS'].isin(['2']), 'BB_DPD_31_60_FLAG'] = '1'\n",
    "\n",
    "# BB_DPD_61_90_FLAG - flag for if they have ever paid 61 - 90 days late\n",
    "bureau_balance_features.loc[:, 'BB_DPD_61_90_FLAG'] = '0'\n",
    "bureau_balance_features.loc[bureauBalance['STATUS'].isin(['3']), 'BB_DPD_61_90_FLAG'] = '1'\n",
    "\n",
    "# BB_DPD_91_120_FLAG - flag for if they have ever paid 91 - 120 days late\n",
    "bureau_balance_features.loc[:, 'BB_DPD_91_120_FLAG'] = '0'\n",
    "bureau_balance_features.loc[bureauBalance['STATUS'].isin(['4']), 'BB_DPD_91_120_FLAG'] = '1'\n",
    "\n",
    "# BB_DPD_120_FLAG - flag for if they have ever paid 120+ days late\n",
    "bureau_balance_features.loc[:, 'BB_DPD_120_FLAG'] = '0'\n",
    "bureau_balance_features.loc[bureauBalance['STATUS'].isin(['5']), 'BB_DPD_120_FLAG'] = '1'\n",
    "\n",
    "# bureau_balance_features[['BB_DPD_FLAG', 'BB_DPD_1_30_FLAG', 'BB_DPD_31_60_FLAG', 'BB_DPD_61_90_FLAG', 'BB_DPD_91_120_FLAG', 'BB_DPD_120_FLAG']].drop_duplicates()\n",
    "# bureau_balance_features\n",
    "\n",
    "# BB_DPD_MAX - flag for max days late they have ever been\n",
    "bureau_balance_features.loc[:, 'BB_STATUS_NUM'] = None\n",
    "bureau_balance_features.loc[bureauBalance['STATUS'].isin(['1']), 'BB_STATUS_NUM'] = 1\n",
    "bureau_balance_features.loc[bureauBalance['STATUS'].isin(['2']), 'BB_STATUS_NUM'] = 2\n",
    "bureau_balance_features.loc[bureauBalance['STATUS'].isin(['3']), 'BB_STATUS_NUM'] = 3\n",
    "bureau_balance_features.loc[bureauBalance['STATUS'].isin(['4']), 'BB_STATUS_NUM'] = 4\n",
    "bureau_balance_features.loc[bureauBalance['STATUS'].isin(['5']), 'BB_STATUS_NUM'] = 5\n",
    "# bureau_balance_features[['STATUS', 'BB_STATUS_NUM']].drop_duplicates()\n",
    "bureau_balance_features['BB_DPD_MAX'] = bureau_balance_features.groupby(\"SK_ID_BUREAU\")['BB_STATUS_NUM'].transform('max')\n",
    "\n",
    "# aggregate to SK_ID_BUREAU level\n",
    "bureau_balance_features = bureau_balance_features[['SK_ID_BUREAU', 'BB_DPD_FLAG', 'BB_DPD_1_30_FLAG', 'BB_DPD_31_60_FLAG', 'BB_DPD_61_90_FLAG', 'BB_DPD_91_120_FLAG', 'BB_DPD_120_FLAG', 'BB_DPD_MAX']]\n",
    "bureau_balance_features = bureau_balance_features.merge(bureau[[\"SK_ID_CURR\", \"SK_ID_BUREAU\"]], on=\"SK_ID_BUREAU\")\n",
    "bureau_balance_features = bureau_balance_features.drop(\"SK_ID_BUREAU\", 1).groupby('SK_ID_CURR').max()\n",
    "# bureau_balance_features = bureau_balance_features.groupby(\"SK_ID_BUREAU\")['BB_DPD_FLAG', 'BB_DPD_1_30_FLAG', 'BB_DPD_31_60_FLAG', 'BB_DPD_61_90_FLAG', 'BB_DPD_91_120_FLAG', 'BB_DPD_120_FLAG', 'BB_DPD_MAX'].transform('max')   # no index/ID remains\n",
    "bureau_balance_features.head()"
   ]
  },
  {
   "cell_type": "code",
   "execution_count": 16,
   "metadata": {},
   "outputs": [
    {
     "data": {
      "text/plain": [
       "BB_DPD_FLAG             object\n",
       "BB_DPD_1_30_FLAG        object\n",
       "BB_DPD_31_60_FLAG       object\n",
       "BB_DPD_61_90_FLAG       object\n",
       "BB_DPD_91_120_FLAG      object\n",
       "BB_DPD_120_FLAG         object\n",
       "BB_DPD_MAX            category\n",
       "dtype: object"
      ]
     },
     "execution_count": 16,
     "metadata": {},
     "output_type": "execute_result"
    }
   ],
   "source": [
    "bureau_balance_features['BB_DPD_MAX'] = bureau_balance_features['BB_DPD_MAX'].astype('category')\n",
    "bureau_balance_features.dtypes"
   ]
  },
  {
   "cell_type": "code",
   "execution_count": 17,
   "metadata": {},
   "outputs": [],
   "source": [
    "bureau_balance_features.to_pickle(data_output_dir + \"bureau_balance_features.pkl\")"
   ]
  },
  {
   "cell_type": "code",
   "execution_count": 7,
   "metadata": {},
   "outputs": [
    {
     "data": {
      "text/html": [
       "<div>\n",
       "<style scoped>\n",
       "    .dataframe tbody tr th:only-of-type {\n",
       "        vertical-align: middle;\n",
       "    }\n",
       "\n",
       "    .dataframe tbody tr th {\n",
       "        vertical-align: top;\n",
       "    }\n",
       "\n",
       "    .dataframe thead th {\n",
       "        text-align: right;\n",
       "    }\n",
       "</style>\n",
       "<table border=\"1\" class=\"dataframe\">\n",
       "  <thead>\n",
       "    <tr style=\"text-align: right;\">\n",
       "      <th></th>\n",
       "      <th>TARGET</th>\n",
       "    </tr>\n",
       "    <tr>\n",
       "      <th>BB_DPD_FLAG</th>\n",
       "      <th></th>\n",
       "    </tr>\n",
       "  </thead>\n",
       "  <tbody>\n",
       "    <tr>\n",
       "      <th>0</th>\n",
       "      <td>0.068359</td>\n",
       "    </tr>\n",
       "    <tr>\n",
       "      <th>1</th>\n",
       "      <td>0.106632</td>\n",
       "    </tr>\n",
       "  </tbody>\n",
       "</table>\n",
       "</div>"
      ],
      "text/plain": [
       "               TARGET\n",
       "BB_DPD_FLAG          \n",
       "0            0.068359\n",
       "1            0.106632"
      ]
     },
     "execution_count": 7,
     "metadata": {},
     "output_type": "execute_result"
    }
   ],
   "source": [
    "# check the proportion defaults for loans with DPD>0\n",
    "test = bureau_balance_features.merge(bureau[[\"SK_ID_CURR\", \"SK_ID_BUREAU\"]], on=\"SK_ID_BUREAU\")\n",
    "test = test.merge(home_loan_train[['TARGET']], on='SK_ID_CURR')\n",
    "test[['TARGET', 'BB_DPD_FLAG']].groupby('BB_DPD_FLAG').mean()"
   ]
  },
  {
   "cell_type": "code",
   "execution_count": null,
   "metadata": {},
   "outputs": [],
   "source": []
  }
 ],
 "metadata": {
  "kernelspec": {
   "display_name": "Python 3",
   "language": "python",
   "name": "python3"
  },
  "language_info": {
   "codemirror_mode": {
    "name": "ipython",
    "version": 3
   },
   "file_extension": ".py",
   "mimetype": "text/x-python",
   "name": "python",
   "nbconvert_exporter": "python",
   "pygments_lexer": "ipython3",
   "version": "3.7.8"
  }
 },
 "nbformat": 4,
 "nbformat_minor": 4
}
