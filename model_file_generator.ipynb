{
 "cells": [
  {
   "cell_type": "markdown",
   "metadata": {},
   "source": [
    "# 0. Set-up"
   ]
  },
  {
   "cell_type": "code",
   "execution_count": 1,
   "metadata": {},
   "outputs": [],
   "source": [
    "## Import packages\n",
    "import gc\n",
    "import os\n",
    "import sys\n",
    "\n",
    "import matplotlib.pyplot as plt\n",
    "import numpy as np\n",
    "import pandas as pd\n"
   ]
  },
  {
   "cell_type": "code",
   "execution_count": 2,
   "metadata": {},
   "outputs": [],
   "source": [
    "user = os.getenv('USERNAME')\n",
    "shared_workspace = '/home/mdawkins/modelling_club'\n",
    "user_dir = os.path.join(shared_workspace, user)\n",
    "\n",
    "raw_data_dir = os.path.join(shared_workspace, 'raw_data')\n",
    "engineered_data_dir = os.path.join(shared_workspace, 'raw_data_lfs')\n",
    "\n",
    "model_file_output_dir = os.path.join(user_dir, 'pipeline/input')"
   ]
  },
  {
   "cell_type": "markdown",
   "metadata": {},
   "source": [
    "## 1. Initialise model file"
   ]
  },
  {
   "cell_type": "code",
   "execution_count": 3,
   "metadata": {},
   "outputs": [],
   "source": [
    "model_file = pd.read_csv(engineered_data_dir + '/ids2split.csv',index_col='SK_ID_CURR')"
   ]
  },
  {
   "cell_type": "markdown",
   "metadata": {},
   "source": [
    "# 2. Application data"
   ]
  },
  {
   "cell_type": "code",
   "execution_count": 5,
   "metadata": {},
   "outputs": [],
   "source": [
    "application = pd.read_csv(engineered_data_dir + '/engineered/application/application.csv',index_col='SK_ID_CURR')"
   ]
  },
  {
   "cell_type": "code",
   "execution_count": 6,
   "metadata": {},
   "outputs": [],
   "source": [
    "model_file = model_file.merge(application, on='SK_ID_CURR', how='left')"
   ]
  },
  {
   "cell_type": "markdown",
   "metadata": {},
   "source": [
    "# 3. Previous "
   ]
  },
  {
   "cell_type": "code",
   "execution_count": 7,
   "metadata": {},
   "outputs": [],
   "source": [
    "previous = pd.read_pickle(engineered_data_dir + '/engineered/previous/previous_payments.pkl')\n",
    "previous = previous.set_index(\"SK_ID_CURR\")"
   ]
  },
  {
   "cell_type": "code",
   "execution_count": 8,
   "metadata": {},
   "outputs": [],
   "source": [
    "model_file = model_file.merge(previous, on='SK_ID_CURR', how='left')"
   ]
  },
  {
   "cell_type": "markdown",
   "metadata": {},
   "source": [
    "# 4. Bureau data"
   ]
  },
  {
   "cell_type": "markdown",
   "metadata": {},
   "source": [
    "## Mortgage data"
   ]
  },
  {
   "cell_type": "markdown",
   "metadata": {},
   "source": [
    "- Active"
   ]
  },
  {
   "cell_type": "code",
   "execution_count": 11,
   "metadata": {},
   "outputs": [],
   "source": [
    "Active_Mortgage_Clean = pd.read_pickle(engineered_data_dir + '/engineered/bureau/Active_Mortgage_Clean.pkl')\n",
    "Active_Mortgage_Clean = Active_Mortgage_Clean.add_prefix('ACT_MORTG_')"
   ]
  },
  {
   "cell_type": "code",
   "execution_count": 12,
   "metadata": {},
   "outputs": [],
   "source": [
    "model_file = model_file.merge(Active_Mortgage_Clean, on='SK_ID_CURR', how='left')"
   ]
  },
  {
   "cell_type": "markdown",
   "metadata": {},
   "source": [
    "- Closed"
   ]
  },
  {
   "cell_type": "code",
   "execution_count": 8,
   "metadata": {},
   "outputs": [],
   "source": [
    "Closed_Mortgage_Clean = pd.read_csv(engineered_data_dir + '/engineered/bureau/Closed_Mortgage_Clean.csv',index_col='SK_ID_CURR')\n",
    "Closed_Mortgage_Clean = Closed_Mortgage_Clean.add_prefix('CLD_MORTG_')"
   ]
  },
  {
   "cell_type": "code",
   "execution_count": 9,
   "metadata": {},
   "outputs": [],
   "source": [
    "model_file = model_file.merge(Closed_Mortgage_Clean, on='SK_ID_CURR', how='left')"
   ]
  },
  {
   "cell_type": "markdown",
   "metadata": {},
   "source": [
    "## Consumer Credit data"
   ]
  },
  {
   "cell_type": "markdown",
   "metadata": {},
   "source": [
    "- Active "
   ]
  },
  {
   "cell_type": "code",
   "execution_count": 20,
   "metadata": {},
   "outputs": [],
   "source": [
    "Active_ConsumerCredit_Agg = pd.read_csv(engineered_data_dir + '/engineered/bureau/Active_ConsumerCredit_Agg.csv',index_col=['SK_ID_CURR'])\n",
    "Active_ConsumerCredit_Agg = Active_ConsumerCredit_Agg.add_prefix('ACT_CONCRED_')"
   ]
  },
  {
   "cell_type": "code",
   "execution_count": 11,
   "metadata": {},
   "outputs": [],
   "source": [
    "model_file = model_file.merge(Active_ConsumerCredit_Agg, on='SK_ID_CURR', how='left')"
   ]
  },
  {
   "cell_type": "code",
   "execution_count": 10,
   "metadata": {},
   "outputs": [],
   "source": [
    "Active_ConsumerCredit_Agg_Date = pd.read_csv(engineered_data_dir + '/engineered/bureau/Active_ConsumerCredit_Agg_Date.csv',index_col=['DATE_RANGE','SK_ID_CURR'])\n",
    "Active_ConsumerCredit_Agg_Date = Active_ConsumerCredit_Agg_Date.add_prefix('ACT_CONCRED_')\n",
    "Active_ConsumerCredit_Dates = Active_ConsumerCredit_Agg_Date.index.get_level_values(\"DATE_RANGE\").unique()"
   ]
  },
  {
   "cell_type": "code",
   "execution_count": 11,
   "metadata": {},
   "outputs": [],
   "source": [
    "for d in Active_ConsumerCredit_Dates:\n",
    "    model_file = model_file.merge(Active_ConsumerCredit_Agg_Date.loc[d].add_prefix('D'+str(d)+'_'), on='SK_ID_CURR', how='left')"
   ]
  },
  {
   "cell_type": "markdown",
   "metadata": {},
   "source": [
    "- Closed"
   ]
  },
  {
   "cell_type": "code",
   "execution_count": 14,
   "metadata": {},
   "outputs": [],
   "source": [
    "Closed_ConsumerCredit_Agg = pd.read_csv(engineered_data_dir + '/engineered/bureau/Closed_ConsumerCredit_Agg.csv',index_col=['SK_ID_CURR'])\n",
    "Closed_ConsumerCredit_Agg = Closed_ConsumerCredit_Agg.add_prefix('CLD_CONCRED_')"
   ]
  },
  {
   "cell_type": "code",
   "execution_count": 15,
   "metadata": {},
   "outputs": [],
   "source": [
    "model_file = model_file.merge(Closed_ConsumerCredit_Agg, on='SK_ID_CURR', how='left')"
   ]
  },
  {
   "cell_type": "code",
   "execution_count": 16,
   "metadata": {},
   "outputs": [],
   "source": [
    "Closed_ConsumerCredit_Agg_Date = pd.read_csv(engineered_data_dir + '/engineered/bureau/Closed_ConsumerCredit_Agg_Date.csv',index_col=['DATE_RANGE','SK_ID_CURR'])\n",
    "Closed_ConsumerCredit_Agg_Date = Closed_ConsumerCredit_Agg_Date.add_prefix('CLD_CONCRED_')\n",
    "Closed_ConsumerCredit_Dates = Closed_ConsumerCredit_Agg_Date.index.get_level_values(\"DATE_RANGE\").unique()"
   ]
  },
  {
   "cell_type": "code",
   "execution_count": 17,
   "metadata": {},
   "outputs": [],
   "source": [
    "for d in Closed_ConsumerCredit_Dates:\n",
    "    model_file = model_file.merge(Closed_ConsumerCredit_Agg_Date.loc[d].add_prefix('D'+str(d)+'_'), on='SK_ID_CURR', how='left')"
   ]
  },
  {
   "cell_type": "markdown",
   "metadata": {},
   "source": [
    "## Credit Card data"
   ]
  },
  {
   "cell_type": "markdown",
   "metadata": {},
   "source": [
    "- Active"
   ]
  },
  {
   "cell_type": "code",
   "execution_count": 18,
   "metadata": {},
   "outputs": [],
   "source": [
    "Active_CreditCard_Agg = pd.read_csv(engineered_data_dir + '/engineered/bureau/Active_CreditCard_Agg.csv',index_col=['SK_ID_CURR'])\n",
    "Active_CreditCard_Agg = Active_CreditCard_Agg.add_prefix('ACT_CREDCARD_')"
   ]
  },
  {
   "cell_type": "code",
   "execution_count": 19,
   "metadata": {},
   "outputs": [],
   "source": [
    "model_file = model_file.merge(Active_CreditCard_Agg, on='SK_ID_CURR', how='left')"
   ]
  },
  {
   "cell_type": "code",
   "execution_count": 20,
   "metadata": {},
   "outputs": [],
   "source": [
    "Active_CreditCard_Agg_Date = pd.read_csv(engineered_data_dir + '/engineered/bureau/Active_CreditCard_Agg_Date.csv',index_col=['DATE_RANGE','SK_ID_CURR'])\n",
    "Active_CreditCard_Agg_Date = Active_CreditCard_Agg_Date.add_prefix('ACT_CREDCARD_')\n",
    "Active_CreditCard_Dates = Active_CreditCard_Agg_Date.index.get_level_values(\"DATE_RANGE\").unique()"
   ]
  },
  {
   "cell_type": "code",
   "execution_count": 21,
   "metadata": {},
   "outputs": [],
   "source": [
    "for d in Active_CreditCard_Dates:\n",
    "    model_file = model_file.merge(Active_CreditCard_Agg_Date.loc[d].add_prefix('D'+str(d)+'_'), on='SK_ID_CURR', how='left')"
   ]
  },
  {
   "cell_type": "markdown",
   "metadata": {},
   "source": [
    "- Closed"
   ]
  },
  {
   "cell_type": "code",
   "execution_count": 22,
   "metadata": {},
   "outputs": [],
   "source": [
    "Closed_CreditCard_Agg = pd.read_csv(engineered_data_dir + '/engineered/bureau/Closed_CreditCard_Agg.csv',index_col=['SK_ID_CURR'])\n",
    "Closed_CreditCard_Agg = Closed_CreditCard_Agg.add_prefix('CLD_CREDCARD_')"
   ]
  },
  {
   "cell_type": "code",
   "execution_count": 23,
   "metadata": {},
   "outputs": [],
   "source": [
    "model_file = model_file.merge(Closed_CreditCard_Agg, on='SK_ID_CURR', how='left')"
   ]
  },
  {
   "cell_type": "code",
   "execution_count": 24,
   "metadata": {},
   "outputs": [],
   "source": [
    "Closed_CreditCard_Agg_Date = pd.read_csv(engineered_data_dir + '/engineered/bureau/Closed_CreditCard_Agg_Date.csv',index_col=['DATE_RANGE','SK_ID_CURR'])\n",
    "Closed_CreditCard_Agg_Date = Closed_CreditCard_Agg_Date.add_prefix('CLD_CREDCARD_')\n",
    "Closed_CreditCard_Dates = Closed_CreditCard_Agg_Date.index.get_level_values(\"DATE_RANGE\").unique()"
   ]
  },
  {
   "cell_type": "code",
   "execution_count": 25,
   "metadata": {},
   "outputs": [],
   "source": [
    "for d in Closed_CreditCard_Dates:\n",
    "    model_file = model_file.merge(Closed_CreditCard_Agg_Date.loc[d].add_prefix('D'+str(d)+'_'), on='SK_ID_CURR', how='left')"
   ]
  },
  {
   "cell_type": "markdown",
   "metadata": {},
   "source": [
    "Other"
   ]
  },
  {
   "cell_type": "markdown",
   "metadata": {},
   "source": [
    "- Active"
   ]
  },
  {
   "cell_type": "code",
   "execution_count": 26,
   "metadata": {},
   "outputs": [],
   "source": [
    "Active_Other_Agg = pd.read_csv(engineered_data_dir + '/engineered/bureau/Active_Other_Agg.csv',index_col=['SK_ID_CURR'])\n",
    "Active_Other_Agg = Active_Other_Agg.add_prefix('ACT_OTHER_')"
   ]
  },
  {
   "cell_type": "code",
   "execution_count": 27,
   "metadata": {},
   "outputs": [],
   "source": [
    "model_file = model_file.merge(Active_Other_Agg, on='SK_ID_CURR', how='left')"
   ]
  },
  {
   "cell_type": "code",
   "execution_count": 28,
   "metadata": {},
   "outputs": [],
   "source": [
    "Active_Other_Agg_Date = pd.read_csv(engineered_data_dir + '/engineered/bureau/Active_Other_Agg_Date.csv',index_col=['DATE_RANGE','SK_ID_CURR'])\n",
    "Active_Other_Agg_Date = Active_Other_Agg_Date.add_prefix('ACT_OTHER_')\n",
    "Active_Other_Dates = Active_Other_Agg_Date.index.get_level_values(\"DATE_RANGE\").unique()"
   ]
  },
  {
   "cell_type": "code",
   "execution_count": 29,
   "metadata": {},
   "outputs": [],
   "source": [
    "for d in Active_Other_Dates:\n",
    "    model_file = model_file.merge(Active_Other_Agg_Date.loc[d].add_prefix('D'+str(d)+'_'), on='SK_ID_CURR', how='left')"
   ]
  },
  {
   "cell_type": "markdown",
   "metadata": {},
   "source": [
    "- Closed"
   ]
  },
  {
   "cell_type": "code",
   "execution_count": 30,
   "metadata": {},
   "outputs": [],
   "source": [
    "Closed_Other_Agg = pd.read_csv(engineered_data_dir + '/engineered/bureau/Closed_Other_Agg.csv',index_col=['SK_ID_CURR'])\n",
    "Closed_Other_Agg = Closed_Other_Agg.add_prefix('CLD_OTHER_')"
   ]
  },
  {
   "cell_type": "code",
   "execution_count": 31,
   "metadata": {},
   "outputs": [],
   "source": [
    "model_file = model_file.merge(Closed_Other_Agg, on='SK_ID_CURR', how='left')"
   ]
  },
  {
   "cell_type": "code",
   "execution_count": 32,
   "metadata": {},
   "outputs": [],
   "source": [
    "Closed_Other_Agg_Date = pd.read_csv(engineered_data_dir + '/engineered/bureau/Closed_Other_Agg_Date.csv',index_col=['DATE_RANGE','SK_ID_CURR'])\n",
    "Closed_Other_Agg_Date = Closed_Other_Agg_Date.add_prefix('CLD_OTHER_')\n",
    "Closed_Other_Dates = Closed_Other_Agg_Date.index.get_level_values(\"DATE_RANGE\").unique()"
   ]
  },
  {
   "cell_type": "code",
   "execution_count": 33,
   "metadata": {},
   "outputs": [],
   "source": [
    "for d in Closed_Other_Dates:\n",
    "    model_file = model_file.merge(Closed_Other_Agg_Date.loc[d].add_prefix('D'+str(d)+'_'), on='SK_ID_CURR', how='left')"
   ]
  },
  {
   "cell_type": "markdown",
   "metadata": {},
   "source": [
    "## Sold Debt data"
   ]
  },
  {
   "cell_type": "code",
   "execution_count": 34,
   "metadata": {},
   "outputs": [],
   "source": [
    "Sold_Agg = pd.read_csv(engineered_data_dir + '/engineered/bureau/Sold_Agg.csv',index_col=['SK_ID_CURR'])\n",
    "Sold_Agg = Sold_Agg.add_prefix('SOLD_')"
   ]
  },
  {
   "cell_type": "code",
   "execution_count": 35,
   "metadata": {},
   "outputs": [],
   "source": [
    "# model_file = model_file.merge(Sold_Agg, on='SK_ID_CURR', how='left')"
   ]
  },
  {
   "cell_type": "markdown",
   "metadata": {},
   "source": [
    "### Final model file"
   ]
  },
  {
   "cell_type": "code",
   "execution_count": 36,
   "metadata": {},
   "outputs": [],
   "source": [
    "# model_file = model_file.drop([\"DAYS_EMPLOYED\",\"DAYS_BIRTH\",\"NAME_INCOME_TYPE\"],axis=1)"
   ]
  },
  {
   "cell_type": "code",
   "execution_count": 37,
   "metadata": {},
   "outputs": [
    {
     "data": {
      "text/html": [
       "<div>\n",
       "<style scoped>\n",
       "    .dataframe tbody tr th:only-of-type {\n",
       "        vertical-align: middle;\n",
       "    }\n",
       "\n",
       "    .dataframe tbody tr th {\n",
       "        vertical-align: top;\n",
       "    }\n",
       "\n",
       "    .dataframe thead th {\n",
       "        text-align: right;\n",
       "    }\n",
       "</style>\n",
       "<table border=\"1\" class=\"dataframe\">\n",
       "  <thead>\n",
       "    <tr style=\"text-align: right;\">\n",
       "      <th></th>\n",
       "      <th>SPLIT</th>\n",
       "      <th>TARGET</th>\n",
       "      <th>NAME_CONTRACT_TYPE</th>\n",
       "      <th>CODE_GENDER</th>\n",
       "      <th>FLAG_OWN_CAR</th>\n",
       "      <th>FLAG_OWN_REALTY</th>\n",
       "      <th>CNT_CHILDREN</th>\n",
       "      <th>AMT_INCOME_TOTAL</th>\n",
       "      <th>AMT_CREDIT</th>\n",
       "      <th>AMT_ANNUITY</th>\n",
       "      <th>...</th>\n",
       "      <th>D2_CLD_OTHER_AMT_ANNUITY_DEBT_MAX</th>\n",
       "      <th>D2_CLD_OTHER_COUNT</th>\n",
       "      <th>D3_CLD_OTHER_AMT_CREDIT_MAX_OVERDUE</th>\n",
       "      <th>D3_CLD_OTHER_AMT_CREDIT_SUM</th>\n",
       "      <th>D3_CLD_OTHER_AMT_CREDIT_SUM_MAX</th>\n",
       "      <th>D3_CLD_OTHER_AMT_CREDIT_SUM_DEBT</th>\n",
       "      <th>D3_CLD_OTHER_AMT_CREDIT_SUM_DEBT_MAX</th>\n",
       "      <th>D3_CLD_OTHER_AMT_ANNUITY_DEBT</th>\n",
       "      <th>D3_CLD_OTHER_AMT_ANNUITY_DEBT_MAX</th>\n",
       "      <th>D3_CLD_OTHER_COUNT</th>\n",
       "    </tr>\n",
       "    <tr>\n",
       "      <th>SK_ID_CURR</th>\n",
       "      <th></th>\n",
       "      <th></th>\n",
       "      <th></th>\n",
       "      <th></th>\n",
       "      <th></th>\n",
       "      <th></th>\n",
       "      <th></th>\n",
       "      <th></th>\n",
       "      <th></th>\n",
       "      <th></th>\n",
       "      <th></th>\n",
       "      <th></th>\n",
       "      <th></th>\n",
       "      <th></th>\n",
       "      <th></th>\n",
       "      <th></th>\n",
       "      <th></th>\n",
       "      <th></th>\n",
       "      <th></th>\n",
       "      <th></th>\n",
       "      <th></th>\n",
       "    </tr>\n",
       "  </thead>\n",
       "  <tbody>\n",
       "    <tr>\n",
       "      <th>113072</th>\n",
       "      <td>validation</td>\n",
       "      <td>0.0</td>\n",
       "      <td>Revolving loans</td>\n",
       "      <td>M</td>\n",
       "      <td>Y</td>\n",
       "      <td>Y</td>\n",
       "      <td>0</td>\n",
       "      <td>283500.0</td>\n",
       "      <td>180000.0</td>\n",
       "      <td>9000.0</td>\n",
       "      <td>...</td>\n",
       "      <td>NaN</td>\n",
       "      <td>NaN</td>\n",
       "      <td>NaN</td>\n",
       "      <td>NaN</td>\n",
       "      <td>NaN</td>\n",
       "      <td>NaN</td>\n",
       "      <td>NaN</td>\n",
       "      <td>NaN</td>\n",
       "      <td>NaN</td>\n",
       "      <td>NaN</td>\n",
       "    </tr>\n",
       "    <tr>\n",
       "      <th>225465</th>\n",
       "      <td>train</td>\n",
       "      <td>0.0</td>\n",
       "      <td>Cash loans</td>\n",
       "      <td>F</td>\n",
       "      <td>N</td>\n",
       "      <td>Y</td>\n",
       "      <td>0</td>\n",
       "      <td>67500.0</td>\n",
       "      <td>182016.0</td>\n",
       "      <td>10291.5</td>\n",
       "      <td>...</td>\n",
       "      <td>NaN</td>\n",
       "      <td>NaN</td>\n",
       "      <td>NaN</td>\n",
       "      <td>NaN</td>\n",
       "      <td>NaN</td>\n",
       "      <td>NaN</td>\n",
       "      <td>NaN</td>\n",
       "      <td>NaN</td>\n",
       "      <td>NaN</td>\n",
       "      <td>NaN</td>\n",
       "    </tr>\n",
       "    <tr>\n",
       "      <th>260656</th>\n",
       "      <td>train</td>\n",
       "      <td>0.0</td>\n",
       "      <td>Cash loans</td>\n",
       "      <td>F</td>\n",
       "      <td>N</td>\n",
       "      <td>Y</td>\n",
       "      <td>0</td>\n",
       "      <td>112500.0</td>\n",
       "      <td>315000.0</td>\n",
       "      <td>17716.5</td>\n",
       "      <td>...</td>\n",
       "      <td>NaN</td>\n",
       "      <td>NaN</td>\n",
       "      <td>NaN</td>\n",
       "      <td>NaN</td>\n",
       "      <td>NaN</td>\n",
       "      <td>NaN</td>\n",
       "      <td>NaN</td>\n",
       "      <td>NaN</td>\n",
       "      <td>NaN</td>\n",
       "      <td>NaN</td>\n",
       "    </tr>\n",
       "    <tr>\n",
       "      <th>445761</th>\n",
       "      <td>validation</td>\n",
       "      <td>0.0</td>\n",
       "      <td>Cash loans</td>\n",
       "      <td>F</td>\n",
       "      <td>N</td>\n",
       "      <td>Y</td>\n",
       "      <td>0</td>\n",
       "      <td>675000.0</td>\n",
       "      <td>2000000.0</td>\n",
       "      <td>59301.0</td>\n",
       "      <td>...</td>\n",
       "      <td>NaN</td>\n",
       "      <td>NaN</td>\n",
       "      <td>NaN</td>\n",
       "      <td>NaN</td>\n",
       "      <td>NaN</td>\n",
       "      <td>NaN</td>\n",
       "      <td>NaN</td>\n",
       "      <td>NaN</td>\n",
       "      <td>NaN</td>\n",
       "      <td>NaN</td>\n",
       "    </tr>\n",
       "    <tr>\n",
       "      <th>421144</th>\n",
       "      <td>train</td>\n",
       "      <td>0.0</td>\n",
       "      <td>Cash loans</td>\n",
       "      <td>F</td>\n",
       "      <td>N</td>\n",
       "      <td>Y</td>\n",
       "      <td>0</td>\n",
       "      <td>180000.0</td>\n",
       "      <td>679500.0</td>\n",
       "      <td>19867.5</td>\n",
       "      <td>...</td>\n",
       "      <td>NaN</td>\n",
       "      <td>NaN</td>\n",
       "      <td>NaN</td>\n",
       "      <td>NaN</td>\n",
       "      <td>NaN</td>\n",
       "      <td>NaN</td>\n",
       "      <td>NaN</td>\n",
       "      <td>NaN</td>\n",
       "      <td>NaN</td>\n",
       "      <td>NaN</td>\n",
       "    </tr>\n",
       "    <tr>\n",
       "      <th>...</th>\n",
       "      <td>...</td>\n",
       "      <td>...</td>\n",
       "      <td>...</td>\n",
       "      <td>...</td>\n",
       "      <td>...</td>\n",
       "      <td>...</td>\n",
       "      <td>...</td>\n",
       "      <td>...</td>\n",
       "      <td>...</td>\n",
       "      <td>...</td>\n",
       "      <td>...</td>\n",
       "      <td>...</td>\n",
       "      <td>...</td>\n",
       "      <td>...</td>\n",
       "      <td>...</td>\n",
       "      <td>...</td>\n",
       "      <td>...</td>\n",
       "      <td>...</td>\n",
       "      <td>...</td>\n",
       "      <td>...</td>\n",
       "      <td>...</td>\n",
       "    </tr>\n",
       "    <tr>\n",
       "      <th>256859</th>\n",
       "      <td>train</td>\n",
       "      <td>0.0</td>\n",
       "      <td>Cash loans</td>\n",
       "      <td>M</td>\n",
       "      <td>Y</td>\n",
       "      <td>Y</td>\n",
       "      <td>1</td>\n",
       "      <td>180000.0</td>\n",
       "      <td>313438.5</td>\n",
       "      <td>22842.0</td>\n",
       "      <td>...</td>\n",
       "      <td>NaN</td>\n",
       "      <td>NaN</td>\n",
       "      <td>NaN</td>\n",
       "      <td>NaN</td>\n",
       "      <td>NaN</td>\n",
       "      <td>NaN</td>\n",
       "      <td>NaN</td>\n",
       "      <td>NaN</td>\n",
       "      <td>NaN</td>\n",
       "      <td>NaN</td>\n",
       "    </tr>\n",
       "    <tr>\n",
       "      <th>246902</th>\n",
       "      <td>train</td>\n",
       "      <td>0.0</td>\n",
       "      <td>Cash loans</td>\n",
       "      <td>F</td>\n",
       "      <td>N</td>\n",
       "      <td>Y</td>\n",
       "      <td>0</td>\n",
       "      <td>90000.0</td>\n",
       "      <td>528633.0</td>\n",
       "      <td>25560.0</td>\n",
       "      <td>...</td>\n",
       "      <td>NaN</td>\n",
       "      <td>NaN</td>\n",
       "      <td>NaN</td>\n",
       "      <td>NaN</td>\n",
       "      <td>NaN</td>\n",
       "      <td>NaN</td>\n",
       "      <td>NaN</td>\n",
       "      <td>NaN</td>\n",
       "      <td>NaN</td>\n",
       "      <td>NaN</td>\n",
       "    </tr>\n",
       "    <tr>\n",
       "      <th>287398</th>\n",
       "      <td>validation</td>\n",
       "      <td>0.0</td>\n",
       "      <td>Cash loans</td>\n",
       "      <td>F</td>\n",
       "      <td>N</td>\n",
       "      <td>N</td>\n",
       "      <td>0</td>\n",
       "      <td>67500.0</td>\n",
       "      <td>315000.0</td>\n",
       "      <td>13342.5</td>\n",
       "      <td>...</td>\n",
       "      <td>NaN</td>\n",
       "      <td>NaN</td>\n",
       "      <td>NaN</td>\n",
       "      <td>NaN</td>\n",
       "      <td>NaN</td>\n",
       "      <td>NaN</td>\n",
       "      <td>NaN</td>\n",
       "      <td>NaN</td>\n",
       "      <td>NaN</td>\n",
       "      <td>NaN</td>\n",
       "    </tr>\n",
       "    <tr>\n",
       "      <th>282658</th>\n",
       "      <td>train</td>\n",
       "      <td>0.0</td>\n",
       "      <td>Revolving loans</td>\n",
       "      <td>M</td>\n",
       "      <td>Y</td>\n",
       "      <td>N</td>\n",
       "      <td>0</td>\n",
       "      <td>247500.0</td>\n",
       "      <td>675000.0</td>\n",
       "      <td>33750.0</td>\n",
       "      <td>...</td>\n",
       "      <td>NaN</td>\n",
       "      <td>NaN</td>\n",
       "      <td>NaN</td>\n",
       "      <td>NaN</td>\n",
       "      <td>NaN</td>\n",
       "      <td>NaN</td>\n",
       "      <td>NaN</td>\n",
       "      <td>NaN</td>\n",
       "      <td>NaN</td>\n",
       "      <td>NaN</td>\n",
       "    </tr>\n",
       "    <tr>\n",
       "      <th>370166</th>\n",
       "      <td>validation</td>\n",
       "      <td>0.0</td>\n",
       "      <td>Cash loans</td>\n",
       "      <td>F</td>\n",
       "      <td>N</td>\n",
       "      <td>N</td>\n",
       "      <td>1</td>\n",
       "      <td>157500.0</td>\n",
       "      <td>990432.0</td>\n",
       "      <td>32863.5</td>\n",
       "      <td>...</td>\n",
       "      <td>NaN</td>\n",
       "      <td>NaN</td>\n",
       "      <td>NaN</td>\n",
       "      <td>NaN</td>\n",
       "      <td>NaN</td>\n",
       "      <td>NaN</td>\n",
       "      <td>NaN</td>\n",
       "      <td>NaN</td>\n",
       "      <td>NaN</td>\n",
       "      <td>NaN</td>\n",
       "    </tr>\n",
       "  </tbody>\n",
       "</table>\n",
       "<p>215257 rows × 372 columns</p>\n",
       "</div>"
      ],
      "text/plain": [
       "                 SPLIT  TARGET NAME_CONTRACT_TYPE CODE_GENDER FLAG_OWN_CAR  \\\n",
       "SK_ID_CURR                                                                   \n",
       "113072      validation     0.0    Revolving loans           M            Y   \n",
       "225465           train     0.0         Cash loans           F            N   \n",
       "260656           train     0.0         Cash loans           F            N   \n",
       "445761      validation     0.0         Cash loans           F            N   \n",
       "421144           train     0.0         Cash loans           F            N   \n",
       "...                ...     ...                ...         ...          ...   \n",
       "256859           train     0.0         Cash loans           M            Y   \n",
       "246902           train     0.0         Cash loans           F            N   \n",
       "287398      validation     0.0         Cash loans           F            N   \n",
       "282658           train     0.0    Revolving loans           M            Y   \n",
       "370166      validation     0.0         Cash loans           F            N   \n",
       "\n",
       "           FLAG_OWN_REALTY  CNT_CHILDREN  AMT_INCOME_TOTAL  AMT_CREDIT  \\\n",
       "SK_ID_CURR                                                               \n",
       "113072                   Y             0          283500.0    180000.0   \n",
       "225465                   Y             0           67500.0    182016.0   \n",
       "260656                   Y             0          112500.0    315000.0   \n",
       "445761                   Y             0          675000.0   2000000.0   \n",
       "421144                   Y             0          180000.0    679500.0   \n",
       "...                    ...           ...               ...         ...   \n",
       "256859                   Y             1          180000.0    313438.5   \n",
       "246902                   Y             0           90000.0    528633.0   \n",
       "287398                   N             0           67500.0    315000.0   \n",
       "282658                   N             0          247500.0    675000.0   \n",
       "370166                   N             1          157500.0    990432.0   \n",
       "\n",
       "            AMT_ANNUITY  ...  D2_CLD_OTHER_AMT_ANNUITY_DEBT_MAX  \\\n",
       "SK_ID_CURR               ...                                      \n",
       "113072           9000.0  ...                                NaN   \n",
       "225465          10291.5  ...                                NaN   \n",
       "260656          17716.5  ...                                NaN   \n",
       "445761          59301.0  ...                                NaN   \n",
       "421144          19867.5  ...                                NaN   \n",
       "...                 ...  ...                                ...   \n",
       "256859          22842.0  ...                                NaN   \n",
       "246902          25560.0  ...                                NaN   \n",
       "287398          13342.5  ...                                NaN   \n",
       "282658          33750.0  ...                                NaN   \n",
       "370166          32863.5  ...                                NaN   \n",
       "\n",
       "           D2_CLD_OTHER_COUNT D3_CLD_OTHER_AMT_CREDIT_MAX_OVERDUE  \\\n",
       "SK_ID_CURR                                                          \n",
       "113072                    NaN                                 NaN   \n",
       "225465                    NaN                                 NaN   \n",
       "260656                    NaN                                 NaN   \n",
       "445761                    NaN                                 NaN   \n",
       "421144                    NaN                                 NaN   \n",
       "...                       ...                                 ...   \n",
       "256859                    NaN                                 NaN   \n",
       "246902                    NaN                                 NaN   \n",
       "287398                    NaN                                 NaN   \n",
       "282658                    NaN                                 NaN   \n",
       "370166                    NaN                                 NaN   \n",
       "\n",
       "           D3_CLD_OTHER_AMT_CREDIT_SUM D3_CLD_OTHER_AMT_CREDIT_SUM_MAX  \\\n",
       "SK_ID_CURR                                                               \n",
       "113072                             NaN                             NaN   \n",
       "225465                             NaN                             NaN   \n",
       "260656                             NaN                             NaN   \n",
       "445761                             NaN                             NaN   \n",
       "421144                             NaN                             NaN   \n",
       "...                                ...                             ...   \n",
       "256859                             NaN                             NaN   \n",
       "246902                             NaN                             NaN   \n",
       "287398                             NaN                             NaN   \n",
       "282658                             NaN                             NaN   \n",
       "370166                             NaN                             NaN   \n",
       "\n",
       "           D3_CLD_OTHER_AMT_CREDIT_SUM_DEBT  \\\n",
       "SK_ID_CURR                                    \n",
       "113072                                  NaN   \n",
       "225465                                  NaN   \n",
       "260656                                  NaN   \n",
       "445761                                  NaN   \n",
       "421144                                  NaN   \n",
       "...                                     ...   \n",
       "256859                                  NaN   \n",
       "246902                                  NaN   \n",
       "287398                                  NaN   \n",
       "282658                                  NaN   \n",
       "370166                                  NaN   \n",
       "\n",
       "            D3_CLD_OTHER_AMT_CREDIT_SUM_DEBT_MAX  \\\n",
       "SK_ID_CURR                                         \n",
       "113072                                       NaN   \n",
       "225465                                       NaN   \n",
       "260656                                       NaN   \n",
       "445761                                       NaN   \n",
       "421144                                       NaN   \n",
       "...                                          ...   \n",
       "256859                                       NaN   \n",
       "246902                                       NaN   \n",
       "287398                                       NaN   \n",
       "282658                                       NaN   \n",
       "370166                                       NaN   \n",
       "\n",
       "            D3_CLD_OTHER_AMT_ANNUITY_DEBT  D3_CLD_OTHER_AMT_ANNUITY_DEBT_MAX  \\\n",
       "SK_ID_CURR                                                                     \n",
       "113072                                NaN                                NaN   \n",
       "225465                                NaN                                NaN   \n",
       "260656                                NaN                                NaN   \n",
       "445761                                NaN                                NaN   \n",
       "421144                                NaN                                NaN   \n",
       "...                                   ...                                ...   \n",
       "256859                                NaN                                NaN   \n",
       "246902                                NaN                                NaN   \n",
       "287398                                NaN                                NaN   \n",
       "282658                                NaN                                NaN   \n",
       "370166                                NaN                                NaN   \n",
       "\n",
       "            D3_CLD_OTHER_COUNT  \n",
       "SK_ID_CURR                      \n",
       "113072                     NaN  \n",
       "225465                     NaN  \n",
       "260656                     NaN  \n",
       "445761                     NaN  \n",
       "421144                     NaN  \n",
       "...                        ...  \n",
       "256859                     NaN  \n",
       "246902                     NaN  \n",
       "287398                     NaN  \n",
       "282658                     NaN  \n",
       "370166                     NaN  \n",
       "\n",
       "[215257 rows x 372 columns]"
      ]
     },
     "execution_count": 37,
     "metadata": {},
     "output_type": "execute_result"
    }
   ],
   "source": [
    "model_file"
   ]
  },
  {
   "cell_type": "code",
   "execution_count": 38,
   "metadata": {},
   "outputs": [],
   "source": [
    "model_file.to_csv(os.path.join(model_file_output_dir,'model_file.csv'))\n",
    "model_file.to_csv(os.path.join(engineered_data_dir,'model_file.csv'))"
   ]
  },
  {
   "cell_type": "code",
   "execution_count": null,
   "metadata": {},
   "outputs": [],
   "source": []
  }
 ],
 "metadata": {
  "kernelspec": {
   "display_name": "Python 3",
   "language": "python",
   "name": "python3"
  },
  "language_info": {
   "codemirror_mode": {
    "name": "ipython",
    "version": 3
   },
   "file_extension": ".py",
   "mimetype": "text/x-python",
   "name": "python",
   "nbconvert_exporter": "python",
   "pygments_lexer": "ipython3",
   "version": "3.7.6"
  }
 },
 "nbformat": 4,
 "nbformat_minor": 4
}
