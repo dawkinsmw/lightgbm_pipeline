{
 "cells": [
  {
   "cell_type": "markdown",
   "metadata": {},
   "source": [
    "# 0. Set-up"
   ]
  },
  {
   "cell_type": "code",
   "execution_count": 1,
   "metadata": {},
   "outputs": [],
   "source": [
    "## Import packages\n",
    "import gc\n",
    "import os\n",
    "import sys\n",
    "\n",
    "import matplotlib.pyplot as plt\n",
    "import seaborn as sns\n",
    "import numpy as np\n",
    "import pandas as pd\n",
    "\n",
    "import lightgbm as lgb\n",
    "import shap"
   ]
  },
  {
   "cell_type": "code",
   "execution_count": 2,
   "metadata": {},
   "outputs": [],
   "source": [
    "user = os.getenv('USERNAME')\n",
    "shared_workspace = '/home/nikankarla/modelling_club_team9'\n",
    "user_dir = os.path.join(shared_workspace, user)\n",
    "data_dir = os.path.join(shared_workspace, 'raw_data')\n",
    "model_file_output_dir = os.path.join(user_dir, 'pipeline/input')\n",
    "\n",
    "scoreboard_path = os.path.join(shared_workspace, \"scoreboard/model_scores.json\")"
   ]
  },
  {
   "cell_type": "markdown",
   "metadata": {},
   "source": [
    "# 2. Import data"
   ]
  },
  {
   "cell_type": "markdown",
   "metadata": {},
   "source": [
    "### application"
   ]
  },
  {
   "cell_type": "code",
   "execution_count": 3,
   "metadata": {},
   "outputs": [
    {
     "data": {
      "text/plain": [
       "0"
      ]
     },
     "execution_count": 3,
     "metadata": {},
     "output_type": "execute_result"
    }
   ],
   "source": [
    "## Read in data (only main data file)\n",
    "home_loan_train = pd.read_csv(data_dir + '/raw/application_train.csv',index_col='SK_ID_CURR')\n",
    "home_loan_test = pd.read_csv(data_dir + '/raw/application_test_noTarget.csv',index_col='SK_ID_CURR')\n",
    "home_loan_test.loc[:, 'TARGET'] = None\n",
    "train_response = home_loan_train['TARGET']\n",
    "## select reduced set of features to work with\n",
    "raw_features = [\n",
    "    \"AMT_GOODS_PRICE\",\n",
    "    \"AMT_INCOME_TOTAL\",\n",
    "    \"AMT_CREDIT\",\n",
    "    \"AMT_ANNUITY\",\n",
    "    \"NAME_CONTRACT_TYPE\",\n",
    "#     \"EXT_SOURCE_1\",\n",
    "#     \"EXT_SOURCE_2\",\n",
    "#     \"EXT_SOURCE_3\",\n",
    "    \"NAME_INCOME_TYPE\",\n",
    "    \"CNT_FAM_MEMBERS\",\n",
    "    \"OCCUPATION_TYPE\",\n",
    "    \"DAYS_EMPLOYED\",\n",
    "    \"DAYS_BIRTH\",\n",
    "    \"NAME_EDUCATION_TYPE\",\n",
    "    \n",
    "    \"NAME_HOUSING_TYPE\",\n",
    "    \"FLAG_OWN_REALTY\",\n",
    "    \"REGION_POPULATION_RELATIVE\",\n",
    "    \"REGION_RATING_CLIENT\",\n",
    "    \"REG_CITY_NOT_LIVE_CITY\",\n",
    "    \n",
    "    \"YEARS_BUILD_AVG\",\n",
    "    \"LANDAREA_AVG\",\n",
    "    \"LIVINGAREA_AVG\",\n",
    "    \"YEARS_BUILD_MEDI\",\n",
    "    \"LANDAREA_MEDI\",\n",
    "    \"LIVINGAREA_MEDI\",\n",
    "    \"YEARS_BUILD_MODE\",\n",
    "    \"LANDAREA_MODE\",\n",
    "    \"LIVINGAREA_MODE\",\n",
    "\n",
    "#     \"REGION_RATING_CLIENT_W_CITY\",\n",
    "#     \"REG_REGION_NOT_LIVE_REGION\",\n",
    "#     \"REG_REGION_NOT_WORK_REGION\",\n",
    "#     \"LIVE_REGION_NOT_WORK_REGION\",\n",
    "#     \"REG_CITY_NOT_WORK_CITY\",\n",
    "#     \"REG_CITY_NOT_WORK_CITY\",\n",
    "#     \"\",\n",
    "    \n",
    "    \"OBS_30_CNT_SOCIAL_CIRCLE\",\n",
    "    \"DEF_30_CNT_SOCIAL_CIRCLE\",\n",
    "    \"OBS_60_CNT_SOCIAL_CIRCLE\",\n",
    "    \"DEF_60_CNT_SOCIAL_CIRCLE\",\n",
    "    \n",
    "    \n",
    "    \"TARGET\"\n",
    "]\n",
    "home_loan_train_limited_features = home_loan_train[raw_features]\n",
    "home_loan_test_limited_features = home_loan_test[raw_features]\n",
    "\n",
    "model_file = pd.concat(\n",
    "    [\n",
    "        home_loan_train_limited_features,\n",
    "        home_loan_test_limited_features\n",
    "    ],\n",
    "    axis=0)\n",
    "model_file['TARGET'] = model_file['TARGET'].astype(float)\n",
    "\n",
    "## clean up variables\n",
    "del [home_loan_train_limited_features, home_loan_test_limited_features]\n",
    "gc.collect()"
   ]
  },
  {
   "cell_type": "markdown",
   "metadata": {},
   "source": [
    "## Bureau data"
   ]
  },
  {
   "cell_type": "markdown",
   "metadata": {},
   "source": [
    "Mortgage"
   ]
  },
  {
   "cell_type": "code",
   "execution_count": 4,
   "metadata": {},
   "outputs": [],
   "source": [
    "Active_Mortgage_Clean = pd.read_csv(data_dir + '/engineered/bureau/Active_Mortgage_Clean.csv',index_col='SK_ID_CURR')\n",
    "Active_Mortgage_Clean = Active_Mortgage_Clean.add_prefix('ACT_MORTG_')"
   ]
  },
  {
   "cell_type": "code",
   "execution_count": 5,
   "metadata": {},
   "outputs": [],
   "source": [
    "Active_Mortgage_Clean_raw_features = [\"ACT_MORTG_AMT_CREDIT_SUM_DEBT\"]"
   ]
  },
  {
   "cell_type": "code",
   "execution_count": 6,
   "metadata": {},
   "outputs": [],
   "source": [
    "model_file = model_file.merge(Active_Mortgage_Clean[Active_Mortgage_Clean_raw_features], on='SK_ID_CURR', how='left')"
   ]
  },
  {
   "cell_type": "markdown",
   "metadata": {},
   "source": [
    "Consumer Credit"
   ]
  },
  {
   "cell_type": "markdown",
   "metadata": {},
   "source": [
    "- Active"
   ]
  },
  {
   "cell_type": "code",
   "execution_count": 7,
   "metadata": {},
   "outputs": [],
   "source": [
    "Active_ConsumerCredit_Agg = pd.read_csv(data_dir + '/engineered/bureau/Active_ConsumerCredit_Agg.csv',index_col=['SK_ID_CURR'])\n",
    "Active_ConsumerCredit_Agg = Active_ConsumerCredit_Agg.add_prefix('ACT_CONCRED_')"
   ]
  },
  {
   "cell_type": "code",
   "execution_count": 8,
   "metadata": {},
   "outputs": [],
   "source": [
    "Active_ConsumerCredit_Agg_Date = pd.read_csv(data_dir + '/engineered/bureau/Active_ConsumerCredit_Agg_Date.csv',index_col=['DATE_RANGE','SK_ID_CURR'])\n",
    "Active_ConsumerCredit_Agg_Date = Active_ConsumerCredit_Agg_Date.add_prefix('ACT_CONCRED_')\n",
    "Active_ConsumerCredit_Dates = Active_ConsumerCredit_Agg_Date.index.get_level_values(\"DATE_RANGE\").unique()\n",
    "#override\n",
    "Active_ConsumerCredit_Dates = [1]"
   ]
  },
  {
   "cell_type": "code",
   "execution_count": 9,
   "metadata": {},
   "outputs": [],
   "source": [
    "Active_ConsumerCredit_Agg_raw_features = [\n",
    "                                          \"ACT_CONCRED_AMT_CREDIT_MAX_OVERDUE\",\n",
    "#                                           \"ACT_CONCRED_CNT_CREDIT_PROLONG\",\n",
    "                                          \"ACT_CONCRED_AMT_CREDIT_SUM\",\n",
    "                                          \"ACT_CONCRED_AMT_CREDIT_SUM_DEBT\",\n",
    "                                          \"ACT_CONCRED_COUNT\",\n",
    "#                                           'ACT_CONCRED_CNT_CREDIT_PROLONG_MAX',\n",
    "                                          'ACT_CONCRED_AMT_CREDIT_SUM_MAX', \n",
    "                                          'ACT_CONCRED_AMT_CREDIT_SUM_DEBT_MAX'\n",
    "]\n",
    "\n",
    "Active_ConsumerCredit_Agg_Date_raw_features = [\n",
    "#                                           \"ACT_CONCRED_AMT_CREDIT_MAX_OVERDUE\",\n",
    "#                                           \"ACT_CONCRED_CNT_CREDIT_PROLONG\",\n",
    "                                          \"ACT_CONCRED_AMT_CREDIT_SUM\",\n",
    "                                          \"ACT_CONCRED_AMT_CREDIT_SUM_DEBT\",\n",
    "#                                           \"ACT_CONCRED_COUNT\",\n",
    "#                                           'ACT_CONCRED_CNT_CREDIT_PROLONG_MAX',\n",
    "                                          'ACT_CONCRED_AMT_CREDIT_SUM_MAX', \n",
    "                                          'ACT_CONCRED_AMT_CREDIT_SUM_DEBT_MAX'\n",
    "]"
   ]
  },
  {
   "cell_type": "code",
   "execution_count": 10,
   "metadata": {},
   "outputs": [],
   "source": [
    " model_file = model_file.merge(Active_ConsumerCredit_Agg[Active_ConsumerCredit_Agg_raw_features], on='SK_ID_CURR', how='left')\n",
    "    \n",
    "for d in Active_ConsumerCredit_Dates:\n",
    "    model_file = model_file.merge(Active_ConsumerCredit_Agg_Date.loc[d][Active_ConsumerCredit_Agg_Date_raw_features].add_prefix('D'+str(d)+'_'), on='SK_ID_CURR', how='left')"
   ]
  },
  {
   "cell_type": "markdown",
   "metadata": {},
   "source": [
    "- Closed"
   ]
  },
  {
   "cell_type": "code",
   "execution_count": 11,
   "metadata": {},
   "outputs": [],
   "source": [
    "Closed_ConsumerCredit_Agg = pd.read_csv(data_dir + '/engineered/bureau/Closed_ConsumerCredit_Agg.csv',index_col=['SK_ID_CURR'])\n",
    "Closed_ConsumerCredit_Agg = Closed_ConsumerCredit_Agg.add_prefix('CLD_CONCRED_')"
   ]
  },
  {
   "cell_type": "code",
   "execution_count": 12,
   "metadata": {},
   "outputs": [],
   "source": [
    "Closed_ConsumerCredit_Agg_raw_features = [\n",
    "                                      \"CLD_CONCRED_AMT_CREDIT_MAX_OVERDUE\",\n",
    "                                      \"CLD_CONCRED_CNT_CREDIT_PROLONG\",\n",
    "                                      \"CLD_CONCRED_AMT_CREDIT_SUM\",\n",
    "#                                       \"CLD_CONCRED_AMT_CREDIT_SUM_DEBT\"\n",
    "                                      \"CLD_CONCRED_COUNT\",\n",
    "                                      'CLD_CONCRED_CNT_CREDIT_PROLONG_MAX', \n",
    "                                      'CLD_CONCRED_AMT_CREDIT_SUM_MAX', \n",
    "#                                       'CLD_CONCRED_AMT_CREDIT_SUM_DEBT_MAX'\n",
    "]"
   ]
  },
  {
   "cell_type": "code",
   "execution_count": 13,
   "metadata": {},
   "outputs": [],
   "source": [
    "model_file = model_file.merge(Closed_ConsumerCredit_Agg[Closed_ConsumerCredit_Agg_raw_features], on='SK_ID_CURR', how='left')"
   ]
  },
  {
   "cell_type": "markdown",
   "metadata": {},
   "source": [
    "Credit Card"
   ]
  },
  {
   "cell_type": "markdown",
   "metadata": {},
   "source": [
    "- Active"
   ]
  },
  {
   "cell_type": "code",
   "execution_count": 14,
   "metadata": {},
   "outputs": [],
   "source": [
    "Active_CreditCard_Agg = pd.read_csv(data_dir + '/engineered/bureau/Active_CreditCard_Agg.csv',index_col=['SK_ID_CURR'])\n",
    "Active_CreditCard_Agg = Active_CreditCard_Agg.add_prefix('ACT_CREDCARD_')"
   ]
  },
  {
   "cell_type": "code",
   "execution_count": 15,
   "metadata": {},
   "outputs": [],
   "source": [
    "Active_CreditCard_Agg_Date = pd.read_csv(data_dir + '/engineered/bureau/Active_CreditCard_Agg_Date.csv',index_col=['DATE_RANGE','SK_ID_CURR'])\n",
    "Active_CreditCard_Agg_Date = Active_CreditCard_Agg_Date.add_prefix('ACT_CREDCARD_')\n",
    "Active_CreditCard_Dates = Active_CreditCard_Agg_Date.index.get_level_values(\"DATE_RANGE\").unique()\n",
    "#override\n",
    "Active_CreditCard_Dates = [1]"
   ]
  },
  {
   "cell_type": "code",
   "execution_count": 16,
   "metadata": {},
   "outputs": [],
   "source": [
    "Active_CreditCard_Agg_raw_features = [\n",
    "                                      \"ACT_CREDCARD_AMT_CREDIT_MAX_OVERDUE\",\n",
    "#                                       \"ACT_CREDCARD_CNT_CREDIT_PROLONG\",\n",
    "                                      \"ACT_CREDCARD_AMT_CREDIT_SUM\",\n",
    "                                      \"ACT_CREDCARD_AMT_CREDIT_SUM_DEBT\",\n",
    "                                      \"ACT_CREDCARD_AMT_CREDIT_SUM_LIMIT\",\n",
    "                                      \"ACT_CREDCARD_COUNT\",\n",
    "#                                       'ACT_CREDCARD_CNT_CREDIT_PROLONG_MAX', \n",
    "                                      'ACT_CREDCARD_AMT_CREDIT_SUM_MAX', \n",
    "                                      'ACT_CREDCARD_AMT_CREDIT_SUM_DEBT_MAX', \n",
    "                                      'ACT_CREDCARD_AMT_CREDIT_SUM_LIMIT_MAX'\n",
    "]\n",
    "\n",
    "Active_CreditCard_Agg_Date_raw_features = [\n",
    "#                                       \"ACT_CREDCARD_AMT_CREDIT_MAX_OVERDUE\",\n",
    "#                                       \"ACT_CREDCARD_CNT_CREDIT_PROLONG\",\n",
    "                                      \"ACT_CREDCARD_AMT_CREDIT_SUM\",\n",
    "                                      \"ACT_CREDCARD_AMT_CREDIT_SUM_DEBT\",\n",
    "#                                       \"ACT_CREDCARD_AMT_CREDIT_SUM_LIMIT\",\n",
    "#                                       \"ACT_CREDCARD_COUNT\",\n",
    "#                                       'ACT_CREDCARD_CNT_CREDIT_PROLONG_MAX', \n",
    "                                      'ACT_CREDCARD_AMT_CREDIT_SUM_MAX', \n",
    "                                      'ACT_CREDCARD_AMT_CREDIT_SUM_DEBT_MAX', \n",
    "#                                       'ACT_CREDCARD_AMT_CREDIT_SUM_LIMIT_MAX'\n",
    "]"
   ]
  },
  {
   "cell_type": "code",
   "execution_count": 17,
   "metadata": {},
   "outputs": [],
   "source": [
    "model_file = model_file.merge(Active_CreditCard_Agg[Active_CreditCard_Agg_raw_features], on='SK_ID_CURR', how='left')\n",
    "\n",
    "for d in Active_CreditCard_Dates:\n",
    "    model_file = model_file.merge(Active_CreditCard_Agg_Date.loc[d][Active_CreditCard_Agg_Date_raw_features].add_prefix('D'+str(d)+'_'), on='SK_ID_CURR', how='left')"
   ]
  },
  {
   "cell_type": "markdown",
   "metadata": {},
   "source": [
    "- Closed"
   ]
  },
  {
   "cell_type": "code",
   "execution_count": 18,
   "metadata": {},
   "outputs": [],
   "source": [
    "Closed_CreditCard_Agg = pd.read_csv(data_dir + '/engineered/bureau/Closed_CreditCard_Agg.csv',index_col=['SK_ID_CURR'])\n",
    "Closed_CreditCard_Agg = Closed_CreditCard_Agg.add_prefix('CLD_CREDCARD_')"
   ]
  },
  {
   "cell_type": "code",
   "execution_count": 19,
   "metadata": {},
   "outputs": [],
   "source": [
    "Closed_CreditCard_Agg_raw_features = [\n",
    "                                      \"CLD_CREDCARD_AMT_CREDIT_MAX_OVERDUE\",\n",
    "                                      \"CLD_CREDCARD_CNT_CREDIT_PROLONG\",\n",
    "                                      \"CLD_CREDCARD_AMT_CREDIT_SUM\",\n",
    "#                                       \"CLD_CREDCARD_AMT_CREDIT_SUM_DEBT\",\n",
    "                                      \"CLD_CREDCARD_AMT_CREDIT_SUM_LIMIT\",\n",
    "                                      \"CLD_CREDCARD_COUNT\",\n",
    "                                      'CLD_CREDCARD_CNT_CREDIT_PROLONG_MAX', \n",
    "                                      'CLD_CREDCARD_AMT_CREDIT_SUM_MAX', \n",
    "#                                       'CLD_CREDCARD_AMT_CREDIT_SUM_DEBT_MAX', \n",
    "                                      'CLD_CREDCARD_AMT_CREDIT_SUM_LIMIT_MAX'\n",
    "]"
   ]
  },
  {
   "cell_type": "markdown",
   "metadata": {},
   "source": [
    "Other"
   ]
  },
  {
   "cell_type": "markdown",
   "metadata": {},
   "source": [
    "- Active"
   ]
  },
  {
   "cell_type": "code",
   "execution_count": null,
   "metadata": {},
   "outputs": [],
   "source": []
  },
  {
   "cell_type": "code",
   "execution_count": null,
   "metadata": {},
   "outputs": [],
   "source": []
  },
  {
   "cell_type": "code",
   "execution_count": 72,
   "metadata": {},
   "outputs": [],
   "source": [
    "model_file = model_file.merge(Closed_CreditCard_Agg[Closed_CreditCard_Agg_raw_features], on='SK_ID_CURR', how='left')"
   ]
  },
  {
   "cell_type": "markdown",
   "metadata": {},
   "source": [
    "Raw model file"
   ]
  },
  {
   "cell_type": "code",
   "execution_count": 73,
   "metadata": {},
   "outputs": [
    {
     "data": {
      "text/html": [
       "<div>\n",
       "<style scoped>\n",
       "    .dataframe tbody tr th:only-of-type {\n",
       "        vertical-align: middle;\n",
       "    }\n",
       "\n",
       "    .dataframe tbody tr th {\n",
       "        vertical-align: top;\n",
       "    }\n",
       "\n",
       "    .dataframe thead th {\n",
       "        text-align: right;\n",
       "    }\n",
       "</style>\n",
       "<table border=\"1\" class=\"dataframe\">\n",
       "  <thead>\n",
       "    <tr style=\"text-align: right;\">\n",
       "      <th></th>\n",
       "      <th>AMT_GOODS_PRICE</th>\n",
       "      <th>AMT_INCOME_TOTAL</th>\n",
       "      <th>AMT_CREDIT</th>\n",
       "      <th>AMT_ANNUITY</th>\n",
       "      <th>NAME_CONTRACT_TYPE</th>\n",
       "      <th>NAME_INCOME_TYPE</th>\n",
       "      <th>CNT_FAM_MEMBERS</th>\n",
       "      <th>OCCUPATION_TYPE</th>\n",
       "      <th>DAYS_EMPLOYED</th>\n",
       "      <th>DAYS_BIRTH</th>\n",
       "      <th>...</th>\n",
       "      <th>D1_ACT_CREDCARD_AMT_CREDIT_SUM_MAX</th>\n",
       "      <th>D1_ACT_CREDCARD_AMT_CREDIT_SUM_DEBT_MAX</th>\n",
       "      <th>CLD_CREDCARD_AMT_CREDIT_MAX_OVERDUE</th>\n",
       "      <th>CLD_CREDCARD_CNT_CREDIT_PROLONG</th>\n",
       "      <th>CLD_CREDCARD_AMT_CREDIT_SUM</th>\n",
       "      <th>CLD_CREDCARD_AMT_CREDIT_SUM_LIMIT</th>\n",
       "      <th>CLD_CREDCARD_COUNT</th>\n",
       "      <th>CLD_CREDCARD_CNT_CREDIT_PROLONG_MAX</th>\n",
       "      <th>CLD_CREDCARD_AMT_CREDIT_SUM_MAX</th>\n",
       "      <th>CLD_CREDCARD_AMT_CREDIT_SUM_LIMIT_MAX</th>\n",
       "    </tr>\n",
       "    <tr>\n",
       "      <th>SK_ID_CURR</th>\n",
       "      <th></th>\n",
       "      <th></th>\n",
       "      <th></th>\n",
       "      <th></th>\n",
       "      <th></th>\n",
       "      <th></th>\n",
       "      <th></th>\n",
       "      <th></th>\n",
       "      <th></th>\n",
       "      <th></th>\n",
       "      <th></th>\n",
       "      <th></th>\n",
       "      <th></th>\n",
       "      <th></th>\n",
       "      <th></th>\n",
       "      <th></th>\n",
       "      <th></th>\n",
       "      <th></th>\n",
       "      <th></th>\n",
       "      <th></th>\n",
       "      <th></th>\n",
       "    </tr>\n",
       "  </thead>\n",
       "  <tbody>\n",
       "    <tr>\n",
       "      <th>113072</th>\n",
       "      <td>180000.0</td>\n",
       "      <td>283500.0</td>\n",
       "      <td>180000.0</td>\n",
       "      <td>9000.0</td>\n",
       "      <td>Revolving loans</td>\n",
       "      <td>Commercial associate</td>\n",
       "      <td>2.0</td>\n",
       "      <td>Laborers</td>\n",
       "      <td>-9894</td>\n",
       "      <td>-20259</td>\n",
       "      <td>...</td>\n",
       "      <td>NaN</td>\n",
       "      <td>NaN</td>\n",
       "      <td>NaN</td>\n",
       "      <td>NaN</td>\n",
       "      <td>NaN</td>\n",
       "      <td>NaN</td>\n",
       "      <td>NaN</td>\n",
       "      <td>NaN</td>\n",
       "      <td>NaN</td>\n",
       "      <td>NaN</td>\n",
       "    </tr>\n",
       "    <tr>\n",
       "      <th>225465</th>\n",
       "      <td>144000.0</td>\n",
       "      <td>67500.0</td>\n",
       "      <td>182016.0</td>\n",
       "      <td>10291.5</td>\n",
       "      <td>Cash loans</td>\n",
       "      <td>Pensioner</td>\n",
       "      <td>2.0</td>\n",
       "      <td>NaN</td>\n",
       "      <td>365243</td>\n",
       "      <td>-24241</td>\n",
       "      <td>...</td>\n",
       "      <td>NaN</td>\n",
       "      <td>NaN</td>\n",
       "      <td>NaN</td>\n",
       "      <td>0.0</td>\n",
       "      <td>66289.5</td>\n",
       "      <td>0.0</td>\n",
       "      <td>1.0</td>\n",
       "      <td>0.0</td>\n",
       "      <td>66289.5</td>\n",
       "      <td>NaN</td>\n",
       "    </tr>\n",
       "    <tr>\n",
       "      <th>260656</th>\n",
       "      <td>315000.0</td>\n",
       "      <td>112500.0</td>\n",
       "      <td>315000.0</td>\n",
       "      <td>17716.5</td>\n",
       "      <td>Cash loans</td>\n",
       "      <td>State servant</td>\n",
       "      <td>2.0</td>\n",
       "      <td>Medicine staff</td>\n",
       "      <td>-12081</td>\n",
       "      <td>-19449</td>\n",
       "      <td>...</td>\n",
       "      <td>NaN</td>\n",
       "      <td>NaN</td>\n",
       "      <td>0.0</td>\n",
       "      <td>0.0</td>\n",
       "      <td>0.0</td>\n",
       "      <td>0.0</td>\n",
       "      <td>1.0</td>\n",
       "      <td>0.0</td>\n",
       "      <td>0.0</td>\n",
       "      <td>0.0</td>\n",
       "    </tr>\n",
       "    <tr>\n",
       "      <th>445761</th>\n",
       "      <td>1800000.0</td>\n",
       "      <td>675000.0</td>\n",
       "      <td>2156400.0</td>\n",
       "      <td>59301.0</td>\n",
       "      <td>Cash loans</td>\n",
       "      <td>Commercial associate</td>\n",
       "      <td>2.0</td>\n",
       "      <td>Medicine staff</td>\n",
       "      <td>-1195</td>\n",
       "      <td>-16253</td>\n",
       "      <td>...</td>\n",
       "      <td>NaN</td>\n",
       "      <td>NaN</td>\n",
       "      <td>NaN</td>\n",
       "      <td>NaN</td>\n",
       "      <td>NaN</td>\n",
       "      <td>NaN</td>\n",
       "      <td>NaN</td>\n",
       "      <td>NaN</td>\n",
       "      <td>NaN</td>\n",
       "      <td>NaN</td>\n",
       "    </tr>\n",
       "    <tr>\n",
       "      <th>421144</th>\n",
       "      <td>679500.0</td>\n",
       "      <td>180000.0</td>\n",
       "      <td>679500.0</td>\n",
       "      <td>19867.5</td>\n",
       "      <td>Cash loans</td>\n",
       "      <td>Commercial associate</td>\n",
       "      <td>2.0</td>\n",
       "      <td>NaN</td>\n",
       "      <td>-188</td>\n",
       "      <td>-10579</td>\n",
       "      <td>...</td>\n",
       "      <td>135000.0</td>\n",
       "      <td>0.0</td>\n",
       "      <td>NaN</td>\n",
       "      <td>NaN</td>\n",
       "      <td>NaN</td>\n",
       "      <td>NaN</td>\n",
       "      <td>NaN</td>\n",
       "      <td>NaN</td>\n",
       "      <td>NaN</td>\n",
       "      <td>NaN</td>\n",
       "    </tr>\n",
       "    <tr>\n",
       "      <th>...</th>\n",
       "      <td>...</td>\n",
       "      <td>...</td>\n",
       "      <td>...</td>\n",
       "      <td>...</td>\n",
       "      <td>...</td>\n",
       "      <td>...</td>\n",
       "      <td>...</td>\n",
       "      <td>...</td>\n",
       "      <td>...</td>\n",
       "      <td>...</td>\n",
       "      <td>...</td>\n",
       "      <td>...</td>\n",
       "      <td>...</td>\n",
       "      <td>...</td>\n",
       "      <td>...</td>\n",
       "      <td>...</td>\n",
       "      <td>...</td>\n",
       "      <td>...</td>\n",
       "      <td>...</td>\n",
       "      <td>...</td>\n",
       "      <td>...</td>\n",
       "    </tr>\n",
       "    <tr>\n",
       "      <th>456245</th>\n",
       "      <td>225000.0</td>\n",
       "      <td>81000.0</td>\n",
       "      <td>269550.0</td>\n",
       "      <td>11871.0</td>\n",
       "      <td>Cash loans</td>\n",
       "      <td>Commercial associate</td>\n",
       "      <td>5.0</td>\n",
       "      <td>Low-skill Laborers</td>\n",
       "      <td>-1046</td>\n",
       "      <td>-12961</td>\n",
       "      <td>...</td>\n",
       "      <td>NaN</td>\n",
       "      <td>NaN</td>\n",
       "      <td>NaN</td>\n",
       "      <td>NaN</td>\n",
       "      <td>NaN</td>\n",
       "      <td>NaN</td>\n",
       "      <td>NaN</td>\n",
       "      <td>NaN</td>\n",
       "      <td>NaN</td>\n",
       "      <td>NaN</td>\n",
       "    </tr>\n",
       "    <tr>\n",
       "      <th>456247</th>\n",
       "      <td>247500.0</td>\n",
       "      <td>112500.0</td>\n",
       "      <td>345510.0</td>\n",
       "      <td>17770.5</td>\n",
       "      <td>Cash loans</td>\n",
       "      <td>Commercial associate</td>\n",
       "      <td>1.0</td>\n",
       "      <td>Core staff</td>\n",
       "      <td>-399</td>\n",
       "      <td>-11870</td>\n",
       "      <td>...</td>\n",
       "      <td>94500.0</td>\n",
       "      <td>NaN</td>\n",
       "      <td>NaN</td>\n",
       "      <td>NaN</td>\n",
       "      <td>NaN</td>\n",
       "      <td>NaN</td>\n",
       "      <td>NaN</td>\n",
       "      <td>NaN</td>\n",
       "      <td>NaN</td>\n",
       "      <td>NaN</td>\n",
       "    </tr>\n",
       "    <tr>\n",
       "      <th>456248</th>\n",
       "      <td>225000.0</td>\n",
       "      <td>153000.0</td>\n",
       "      <td>331920.0</td>\n",
       "      <td>16096.5</td>\n",
       "      <td>Cash loans</td>\n",
       "      <td>Working</td>\n",
       "      <td>1.0</td>\n",
       "      <td>Sales staff</td>\n",
       "      <td>-7258</td>\n",
       "      <td>-16705</td>\n",
       "      <td>...</td>\n",
       "      <td>NaN</td>\n",
       "      <td>NaN</td>\n",
       "      <td>NaN</td>\n",
       "      <td>NaN</td>\n",
       "      <td>NaN</td>\n",
       "      <td>NaN</td>\n",
       "      <td>NaN</td>\n",
       "      <td>NaN</td>\n",
       "      <td>NaN</td>\n",
       "      <td>NaN</td>\n",
       "    </tr>\n",
       "    <tr>\n",
       "      <th>456249</th>\n",
       "      <td>225000.0</td>\n",
       "      <td>112500.0</td>\n",
       "      <td>225000.0</td>\n",
       "      <td>22050.0</td>\n",
       "      <td>Cash loans</td>\n",
       "      <td>Pensioner</td>\n",
       "      <td>1.0</td>\n",
       "      <td>NaN</td>\n",
       "      <td>365243</td>\n",
       "      <td>-24384</td>\n",
       "      <td>...</td>\n",
       "      <td>NaN</td>\n",
       "      <td>NaN</td>\n",
       "      <td>0.0</td>\n",
       "      <td>0.0</td>\n",
       "      <td>315000.0</td>\n",
       "      <td>0.0</td>\n",
       "      <td>1.0</td>\n",
       "      <td>0.0</td>\n",
       "      <td>315000.0</td>\n",
       "      <td>0.0</td>\n",
       "    </tr>\n",
       "    <tr>\n",
       "      <th>456253</th>\n",
       "      <td>585000.0</td>\n",
       "      <td>153000.0</td>\n",
       "      <td>677664.0</td>\n",
       "      <td>29979.0</td>\n",
       "      <td>Cash loans</td>\n",
       "      <td>Working</td>\n",
       "      <td>1.0</td>\n",
       "      <td>Managers</td>\n",
       "      <td>-7921</td>\n",
       "      <td>-14966</td>\n",
       "      <td>...</td>\n",
       "      <td>NaN</td>\n",
       "      <td>NaN</td>\n",
       "      <td>NaN</td>\n",
       "      <td>NaN</td>\n",
       "      <td>NaN</td>\n",
       "      <td>NaN</td>\n",
       "      <td>NaN</td>\n",
       "      <td>NaN</td>\n",
       "      <td>NaN</td>\n",
       "      <td>NaN</td>\n",
       "    </tr>\n",
       "  </tbody>\n",
       "</table>\n",
       "<p>307511 rows × 67 columns</p>\n",
       "</div>"
      ],
      "text/plain": [
       "            AMT_GOODS_PRICE  AMT_INCOME_TOTAL  AMT_CREDIT  AMT_ANNUITY  \\\n",
       "SK_ID_CURR                                                               \n",
       "113072             180000.0          283500.0    180000.0       9000.0   \n",
       "225465             144000.0           67500.0    182016.0      10291.5   \n",
       "260656             315000.0          112500.0    315000.0      17716.5   \n",
       "445761            1800000.0          675000.0   2156400.0      59301.0   \n",
       "421144             679500.0          180000.0    679500.0      19867.5   \n",
       "...                     ...               ...         ...          ...   \n",
       "456245             225000.0           81000.0    269550.0      11871.0   \n",
       "456247             247500.0          112500.0    345510.0      17770.5   \n",
       "456248             225000.0          153000.0    331920.0      16096.5   \n",
       "456249             225000.0          112500.0    225000.0      22050.0   \n",
       "456253             585000.0          153000.0    677664.0      29979.0   \n",
       "\n",
       "           NAME_CONTRACT_TYPE      NAME_INCOME_TYPE  CNT_FAM_MEMBERS  \\\n",
       "SK_ID_CURR                                                             \n",
       "113072        Revolving loans  Commercial associate              2.0   \n",
       "225465             Cash loans             Pensioner              2.0   \n",
       "260656             Cash loans         State servant              2.0   \n",
       "445761             Cash loans  Commercial associate              2.0   \n",
       "421144             Cash loans  Commercial associate              2.0   \n",
       "...                       ...                   ...              ...   \n",
       "456245             Cash loans  Commercial associate              5.0   \n",
       "456247             Cash loans  Commercial associate              1.0   \n",
       "456248             Cash loans               Working              1.0   \n",
       "456249             Cash loans             Pensioner              1.0   \n",
       "456253             Cash loans               Working              1.0   \n",
       "\n",
       "               OCCUPATION_TYPE  DAYS_EMPLOYED  DAYS_BIRTH  ...  \\\n",
       "SK_ID_CURR                                                 ...   \n",
       "113072                Laborers          -9894      -20259  ...   \n",
       "225465                     NaN         365243      -24241  ...   \n",
       "260656          Medicine staff         -12081      -19449  ...   \n",
       "445761          Medicine staff          -1195      -16253  ...   \n",
       "421144                     NaN           -188      -10579  ...   \n",
       "...                        ...            ...         ...  ...   \n",
       "456245      Low-skill Laborers          -1046      -12961  ...   \n",
       "456247              Core staff           -399      -11870  ...   \n",
       "456248             Sales staff          -7258      -16705  ...   \n",
       "456249                     NaN         365243      -24384  ...   \n",
       "456253                Managers          -7921      -14966  ...   \n",
       "\n",
       "           D1_ACT_CREDCARD_AMT_CREDIT_SUM_MAX  \\\n",
       "SK_ID_CURR                                      \n",
       "113072                                    NaN   \n",
       "225465                                    NaN   \n",
       "260656                                    NaN   \n",
       "445761                                    NaN   \n",
       "421144                               135000.0   \n",
       "...                                       ...   \n",
       "456245                                    NaN   \n",
       "456247                                94500.0   \n",
       "456248                                    NaN   \n",
       "456249                                    NaN   \n",
       "456253                                    NaN   \n",
       "\n",
       "           D1_ACT_CREDCARD_AMT_CREDIT_SUM_DEBT_MAX  \\\n",
       "SK_ID_CURR                                           \n",
       "113072                                         NaN   \n",
       "225465                                         NaN   \n",
       "260656                                         NaN   \n",
       "445761                                         NaN   \n",
       "421144                                         0.0   \n",
       "...                                            ...   \n",
       "456245                                         NaN   \n",
       "456247                                         NaN   \n",
       "456248                                         NaN   \n",
       "456249                                         NaN   \n",
       "456253                                         NaN   \n",
       "\n",
       "           CLD_CREDCARD_AMT_CREDIT_MAX_OVERDUE  \\\n",
       "SK_ID_CURR                                       \n",
       "113072                                     NaN   \n",
       "225465                                     NaN   \n",
       "260656                                     0.0   \n",
       "445761                                     NaN   \n",
       "421144                                     NaN   \n",
       "...                                        ...   \n",
       "456245                                     NaN   \n",
       "456247                                     NaN   \n",
       "456248                                     NaN   \n",
       "456249                                     0.0   \n",
       "456253                                     NaN   \n",
       "\n",
       "            CLD_CREDCARD_CNT_CREDIT_PROLONG  CLD_CREDCARD_AMT_CREDIT_SUM  \\\n",
       "SK_ID_CURR                                                                 \n",
       "113072                                  NaN                          NaN   \n",
       "225465                                  0.0                      66289.5   \n",
       "260656                                  0.0                          0.0   \n",
       "445761                                  NaN                          NaN   \n",
       "421144                                  NaN                          NaN   \n",
       "...                                     ...                          ...   \n",
       "456245                                  NaN                          NaN   \n",
       "456247                                  NaN                          NaN   \n",
       "456248                                  NaN                          NaN   \n",
       "456249                                  0.0                     315000.0   \n",
       "456253                                  NaN                          NaN   \n",
       "\n",
       "            CLD_CREDCARD_AMT_CREDIT_SUM_LIMIT  CLD_CREDCARD_COUNT  \\\n",
       "SK_ID_CURR                                                          \n",
       "113072                                    NaN                 NaN   \n",
       "225465                                    0.0                 1.0   \n",
       "260656                                    0.0                 1.0   \n",
       "445761                                    NaN                 NaN   \n",
       "421144                                    NaN                 NaN   \n",
       "...                                       ...                 ...   \n",
       "456245                                    NaN                 NaN   \n",
       "456247                                    NaN                 NaN   \n",
       "456248                                    NaN                 NaN   \n",
       "456249                                    0.0                 1.0   \n",
       "456253                                    NaN                 NaN   \n",
       "\n",
       "            CLD_CREDCARD_CNT_CREDIT_PROLONG_MAX  \\\n",
       "SK_ID_CURR                                        \n",
       "113072                                      NaN   \n",
       "225465                                      0.0   \n",
       "260656                                      0.0   \n",
       "445761                                      NaN   \n",
       "421144                                      NaN   \n",
       "...                                         ...   \n",
       "456245                                      NaN   \n",
       "456247                                      NaN   \n",
       "456248                                      NaN   \n",
       "456249                                      0.0   \n",
       "456253                                      NaN   \n",
       "\n",
       "            CLD_CREDCARD_AMT_CREDIT_SUM_MAX  \\\n",
       "SK_ID_CURR                                    \n",
       "113072                                  NaN   \n",
       "225465                              66289.5   \n",
       "260656                                  0.0   \n",
       "445761                                  NaN   \n",
       "421144                                  NaN   \n",
       "...                                     ...   \n",
       "456245                                  NaN   \n",
       "456247                                  NaN   \n",
       "456248                                  NaN   \n",
       "456249                             315000.0   \n",
       "456253                                  NaN   \n",
       "\n",
       "            CLD_CREDCARD_AMT_CREDIT_SUM_LIMIT_MAX  \n",
       "SK_ID_CURR                                         \n",
       "113072                                        NaN  \n",
       "225465                                        NaN  \n",
       "260656                                        0.0  \n",
       "445761                                        NaN  \n",
       "421144                                        NaN  \n",
       "...                                           ...  \n",
       "456245                                        NaN  \n",
       "456247                                        NaN  \n",
       "456248                                        NaN  \n",
       "456249                                        0.0  \n",
       "456253                                        NaN  \n",
       "\n",
       "[307511 rows x 67 columns]"
      ]
     },
     "execution_count": 73,
     "metadata": {},
     "output_type": "execute_result"
    }
   ],
   "source": [
    "model_file"
   ]
  },
  {
   "cell_type": "markdown",
   "metadata": {},
   "source": [
    "# 3. Feature engineering"
   ]
  },
  {
   "cell_type": "markdown",
   "metadata": {},
   "source": [
    "### Macro"
   ]
  },
  {
   "cell_type": "code",
   "execution_count": 74,
   "metadata": {},
   "outputs": [],
   "source": [
    "model_file[\"LOAN_LENGTH\"] = model_file[\"AMT_CREDIT\"]/model_file[\"AMT_ANNUITY\"]\n",
    "model_file[\"LOAN_STRESS\"] = model_file[\"AMT_ANNUITY\"]/model_file[\"AMT_INCOME_TOTAL\"]\n",
    "model_file[\"PRICE_CREDIT_RATIO\"] = model_file[\"AMT_GOODS_PRICE\"]/model_file[\"AMT_CREDIT\"]"
   ]
  },
  {
   "cell_type": "code",
   "execution_count": 75,
   "metadata": {},
   "outputs": [
    {
     "name": "stderr",
     "output_type": "stream",
     "text": [
      "\n",
      "A value is trying to be set on a copy of a slice from a DataFrame\n",
      "\n",
      "See the caveats in the documentation: https://pandas.pydata.org/pandas-docs/stable/user_guide/indexing.html#returning-a-view-versus-a-copy\n"
     ]
    }
   ],
   "source": [
    "model_file[\"AMT_ANNUITY\"].loc[model_file[\"AMT_ANNUITY\"]>100000] = 100000\n",
    "model_file[\"AMT_CREDIT\"].loc[model_file[\"AMT_CREDIT\"]>2000000] = 2000000\n",
    "model_file[\"AMT_GOODS_PRICE\"].loc[model_file[\"AMT_GOODS_PRICE\"]>2000000] = 2000000\n",
    "model_file[\"AMT_INCOME_TOTAL\"].loc[model_file[\"AMT_INCOME_TOTAL\"]>1000000] = 1000000\n",
    "model_file[\"LOAN_LENGTH\"].loc[model_file[\"LOAN_LENGTH\"]>40] = 40\n",
    "model_file[\"LOAN_STRESS\"].loc[model_file[\"LOAN_STRESS\"]>0.75] = 0.75\n",
    "model_file[\"PRICE_CREDIT_RATIO\"].loc[model_file[\"PRICE_CREDIT_RATIO\"]>1.25] = 1.25\n",
    "model_file[\"PRICE_CREDIT_RATIO\"].loc[model_file[\"PRICE_CREDIT_RATIO\"]<0.5] = 0.5"
   ]
  },
  {
   "cell_type": "markdown",
   "metadata": {},
   "source": [
    "### Demographic"
   ]
  },
  {
   "cell_type": "code",
   "execution_count": 76,
   "metadata": {},
   "outputs": [],
   "source": [
    "model_file[\"OCCUPATION_TYPE\"].loc[model_file[\"OCCUPATION_TYPE\"]==\"Low-skill Laborers\"] = \"Laborers\"\n",
    "model_file[\"OCCUPATION_TYPE\"].loc[model_file[\"OCCUPATION_TYPE\"]==\"Waiters/barmen staff\"] = \"Laborers\"\n",
    "model_file[\"OCCUPATION_TYPE\"].loc[model_file[\"OCCUPATION_TYPE\"]==\"IT staff\"] = \"High skill tech staff\"\n",
    "model_file[\"OCCUPATION_TYPE\"].loc[model_file[\"OCCUPATION_TYPE\"]==\"HR staff\"] = \"Secretaries\""
   ]
  },
  {
   "cell_type": "code",
   "execution_count": 77,
   "metadata": {},
   "outputs": [],
   "source": [
    "# fig, ax = plt.subplots()\n",
    "# ax.hist(model_file[\"OCCUPATION_TYPE\"].dropna())\n",
    "# ax.tick_params(labelrotation=45)\n",
    "# fig.set_size_inches(24, 5)"
   ]
  },
  {
   "cell_type": "code",
   "execution_count": 78,
   "metadata": {},
   "outputs": [],
   "source": [
    "model_file[\"DAYS_EMPLOYED\"].loc[model_file[\"DAYS_EMPLOYED\"]==365243.000000] = None\n",
    "model_file['DAYS_EMPLOYED_PERCENT'] = model_file['DAYS_EMPLOYED'] / model_file['DAYS_BIRTH']\n",
    "model_file[\"YEARS_EMPLOYED\"] = model_file[\"DAYS_EMPLOYED\"]/365\n",
    "model_file[\"YEARS_BIRTH\"] = model_file[\"DAYS_BIRTH\"]/365\n",
    "model_file[\"HIGHER_ED\"] = model_file[\"NAME_EDUCATION_TYPE\"].isin(['Higher education', 'Academic degree'])"
   ]
  },
  {
   "cell_type": "code",
   "execution_count": 79,
   "metadata": {},
   "outputs": [],
   "source": [
    "model_file[\"NAME_INCOME_TYPE\"].loc[model_file[\"NAME_INCOME_TYPE\"]==\"Student\"] = \"Unemployed\"\n",
    "model_file[\"NAME_INCOME_TYPE\"].loc[model_file[\"NAME_INCOME_TYPE\"]==\"Maternity leave\"] = \"Unemployed\"\n",
    "model_file[\"NAME_INCOME_TYPE\"].loc[model_file[\"NAME_INCOME_TYPE\"]==\"Pensioner\"] =\"Unemployed\"\n",
    "model_file[\"NAME_INCOME_TYPE\"].loc[model_file[\"NAME_INCOME_TYPE\"]==\"Businessman\"] = \"Working\""
   ]
  },
  {
   "cell_type": "markdown",
   "metadata": {},
   "source": [
    "### Regional"
   ]
  },
  {
   "cell_type": "code",
   "execution_count": 80,
   "metadata": {},
   "outputs": [
    {
     "data": {
      "text/plain": [
       "('REGION_RATING_CLIENT',)"
      ]
     },
     "execution_count": 80,
     "metadata": {},
     "output_type": "execute_result"
    }
   ],
   "source": [
    "    \"NAME_HOUSING_TYPE\",\n",
    "    \"FLAG_OWN_REALTY\",\n",
    "    \"REGION_POPULATION_RELATIVE\",\n",
    "    \"REGION_RATING_CLIENT\","
   ]
  },
  {
   "cell_type": "code",
   "execution_count": 81,
   "metadata": {},
   "outputs": [],
   "source": [
    "plt.rcParams['figure.figsize'] = (20, 7)"
   ]
  },
  {
   "cell_type": "code",
   "execution_count": 82,
   "metadata": {},
   "outputs": [
    {
     "data": {
      "text/plain": [
       "(array([ 32197.,      0.,      0.,      0.,      0., 226984.,      0.,\n",
       "             0.,      0.,  48330.]),\n",
       " array([1. , 1.2, 1.4, 1.6, 1.8, 2. , 2.2, 2.4, 2.6, 2.8, 3. ]),\n",
       " <a list of 10 Patch objects>)"
      ]
     },
     "execution_count": 82,
     "metadata": {},
     "output_type": "execute_result"
    },
    {
     "data": {
      "image/png": "[encoded data removed]",
      "text/plain": [
       "<Figure size 1440x504 with 1 Axes>"
      ]
     },
     "metadata": {
      "needs_background": "light"
     },
     "output_type": "display_data"
    }
   ],
   "source": [
    "plt.hist(model_file[\"REGION_RATING_CLIENT\"])"
   ]
  },
  {
   "cell_type": "markdown",
   "metadata": {},
   "source": [
    "### External"
   ]
  },
  {
   "cell_type": "code",
   "execution_count": 83,
   "metadata": {},
   "outputs": [],
   "source": [
    "# fig, ax = plt.subplots(1,2)\n",
    "# ax[0].hist(model_file[model_file[\"TARGET\"]==0][\"FLAG_OWN_CAR\"])\n",
    "# ax[1].hist(model_file[model_file[\"TARGET\"]==1][\"FLAG_OWN_CAR\"])"
   ]
  },
  {
   "cell_type": "markdown",
   "metadata": {},
   "source": [
    "### Active_Mortgage"
   ]
  },
  {
   "cell_type": "code",
   "execution_count": 84,
   "metadata": {},
   "outputs": [],
   "source": [
    "model_file[\"ACT_MORTG_AMT_CREDIT_SUM_DEBT\"] = model_file[\"ACT_MORTG_AMT_CREDIT_SUM_DEBT\"].fillna(0)\n"
   ]
  },
  {
   "cell_type": "markdown",
   "metadata": {},
   "source": [
    "### Active Consumer Credit"
   ]
  },
  {
   "cell_type": "code",
   "execution_count": 85,
   "metadata": {},
   "outputs": [],
   "source": [
    "model_file[\"ACT_CONCRED_AMT_CREDIT_MAX_OVERDUE\"] = model_file[\"ACT_CONCRED_AMT_CREDIT_MAX_OVERDUE\"].fillna(0)\n",
    "# model_file[\"ACT_CONCRED_CNT_CREDIT_PROLONG\"] = model_file[\"ACT_CONCRED_CNT_CREDIT_PROLONG\"].fillna(0)\n",
    "model_file[\"ACT_CONCRED_COUNT\"] = model_file[\"ACT_CONCRED_COUNT\"].fillna(0)  "
   ]
  },
  {
   "cell_type": "code",
   "execution_count": 86,
   "metadata": {},
   "outputs": [],
   "source": [
    "model_file[\"ACT_CONCRED_AMT_CREDIT_MAX_OVERDUE\"].loc[model_file[\"ACT_CONCRED_AMT_CREDIT_MAX_OVERDUE\"]>100000] = 100000\n",
    "model_file[\"ACT_CONCRED_COUNT\"].loc[model_file[\"ACT_CONCRED_COUNT\"]>2] = 2"
   ]
  },
  {
   "cell_type": "code",
   "execution_count": 87,
   "metadata": {},
   "outputs": [],
   "source": [
    "for d in Active_ConsumerCredit_Dates:\n",
    "#     model_file['D'+str(d)+ \"_ACT_CONCRED_AMT_CREDIT_MAX_OVERDUE\"] = model_file['D'+str(d)+ \"_ACT_CONCRED_AMT_CREDIT_MAX_OVERDUE\"].fillna(0)\n",
    "#     model_file['D'+str(d)+ \"_ACT_CONCRED_CNT_CREDIT_PROLONG\"] = model_file['D'+str(d)+ \"_ACT_CONCRED_CNT_CREDIT_PROLONG\"].fillna(0)\n",
    "    model_file['D'+str(d)+ \"_ACT_CONCRED_AMT_CREDIT_SUM\"] = model_file['D'+str(d)+ \"_ACT_CONCRED_AMT_CREDIT_SUM\"].fillna(0)\n",
    "    model_file['D'+str(d)+ \"_ACT_CONCRED_AMT_CREDIT_SUM_DEBT\"] = model_file['D'+str(d)+ \"_ACT_CONCRED_AMT_CREDIT_SUM_DEBT\"].fillna(0)\n",
    "#     model_file['D'+str(d)+ \"_ACT_CONCRED_COUNT\"] = model_file['D'+str(d)+ \"_ACT_CONCRED_COUNT\"].fillna(0)   \n",
    "    model_file['D'+str(d)+ \"_ACT_CONCRED_AMT_CREDIT_SUM_MAX\"] = model_file['D'+str(d)+ \"_ACT_CONCRED_AMT_CREDIT_SUM_MAX\"].fillna(0)\n",
    "    model_file['D'+str(d)+ \"_ACT_CONCRED_AMT_CREDIT_SUM_DEBT_MAX\"] = model_file['D'+str(d)+ \"_ACT_CONCRED_AMT_CREDIT_SUM_DEBT_MAX\"].fillna(0)\n"
   ]
  },
  {
   "cell_type": "code",
   "execution_count": 88,
   "metadata": {},
   "outputs": [],
   "source": [
    "for d in Active_ConsumerCredit_Dates:\n",
    "#     model_file['D'+str(d)+ \"_ACT_CONCRED_AMT_CREDIT_MAX_OVERDUE\"].loc[model_file['D'+str(d)+ \"_ACT_CONCRED_AMT_CREDIT_MAX_OVERDUE\"]>100000] = 100000\n",
    "    model_file['D'+str(d)+ \"_ACT_CONCRED_AMT_CREDIT_SUM\"].loc[model_file['D'+str(d)+ \"_ACT_CONCRED_AMT_CREDIT_SUM\"]>1000000] = 1000000\n",
    "    model_file['D'+str(d)+ \"_ACT_CONCRED_AMT_CREDIT_SUM_DEBT\"].loc[model_file['D'+str(d)+ \"_ACT_CONCRED_AMT_CREDIT_SUM_DEBT\"]>1000000] = 1000000\n",
    "#     model_file['D'+str(d)+ \"_ACT_CONCRED_COUNT\"].loc[model_file['D'+str(d)+ \"_ACT_CONCRED_COUNT\"]>2] = 2"
   ]
  },
  {
   "cell_type": "markdown",
   "metadata": {},
   "source": [
    "### Active Credit Card"
   ]
  },
  {
   "cell_type": "code",
   "execution_count": 89,
   "metadata": {},
   "outputs": [],
   "source": [
    "model_file[\"ACT_CREDCARD_AMT_CREDIT_MAX_OVERDUE\"] = model_file[\"ACT_CREDCARD_AMT_CREDIT_MAX_OVERDUE\"].fillna(0)\n",
    "# model_file[\"ACT_CREDCARD_CNT_CREDIT_PROLONG\"] = model_file[\"ACT_CREDCARD_CNT_CREDIT_PROLONG\"].fillna(0)\n",
    "model_file[\"ACT_CREDCARD_COUNT\"] = model_file[\"ACT_CREDCARD_COUNT\"].fillna(0)\n",
    "model_file[\"ACT_CREDCARD_AMT_CREDIT_SUM_LIMIT_MAX\"] = model_file[\"ACT_CREDCARD_AMT_CREDIT_SUM_LIMIT_MAX\"].fillna(0)"
   ]
  },
  {
   "cell_type": "code",
   "execution_count": 90,
   "metadata": {},
   "outputs": [],
   "source": [
    "model_file[\"ACT_CREDCARD_AMT_CREDIT_MAX_OVERDUE\"].loc[model_file[\"ACT_CREDCARD_AMT_CREDIT_MAX_OVERDUE\"]>50000] = 50000\n",
    "# model_file[\"ACT_CREDCARD_CNT_CREDIT_PROLONG\"].loc[model_file[\"ACT_CREDCARD_CNT_CREDIT_PROLONG\"]>2] = 2\n",
    "model_file[\"ACT_CREDCARD_COUNT\"].loc[model_file[\"ACT_CREDCARD_COUNT\"]>20] = 20"
   ]
  },
  {
   "cell_type": "code",
   "execution_count": 91,
   "metadata": {},
   "outputs": [],
   "source": [
    "for d in Active_CreditCard_Dates:\n",
    "#     model_file['D'+str(d)+ \"_ACT_CREDCARD_AMT_CREDIT_MAX_OVERDUE\"] = model_file['D'+str(d)+ \"_ACT_CREDCARD_AMT_CREDIT_MAX_OVERDUE\"].fillna(0)\n",
    "    # model_file['D'+str(d)+ \"_ACT_CREDCARD_CNT_CREDIT_PROLONG\"] = model_file['D'+str(d)+ \"_ACT_CREDCARD_CNT_CREDIT_PROLONG\"].fillna(0)\n",
    "    model_file['D'+str(d)+ \"_ACT_CREDCARD_AMT_CREDIT_SUM\"] = model_file['D'+str(d)+ \"_ACT_CREDCARD_AMT_CREDIT_SUM\"].fillna(0)\n",
    "    model_file['D'+str(d)+ \"_ACT_CREDCARD_AMT_CREDIT_SUM_DEBT\"] = model_file['D'+str(d)+ \"_ACT_CREDCARD_AMT_CREDIT_SUM_DEBT\"].fillna(0)\n",
    "#     model_file['D'+str(d)+ \"_ACT_CREDCARD_COUNT\"] = model_file['D'+str(d)+ \"_ACT_CREDCARD_COUNT\"].fillna(0)\n",
    "    model_file['D'+str(d)+ \"_ACT_CREDCARD_AMT_CREDIT_SUM_MAX\"] = model_file['D'+str(d)+ \"_ACT_CREDCARD_AMT_CREDIT_SUM_MAX\"].fillna(0)\n",
    "    model_file['D'+str(d)+ \"_ACT_CREDCARD_AMT_CREDIT_SUM_DEBT_MAX\"] = model_file['D'+str(d)+ \"_ACT_CREDCARD_AMT_CREDIT_SUM_DEBT_MAX\"].fillna(0)\n",
    "#     model_file['D'+str(d)+ \"_ACT_CREDCARD_AMT_CREDIT_SUM_LIMIT_MAX\"] = model_file['D'+str(d)+ \"_ACT_CREDCARD_AMT_CREDIT_SUM_LIMIT_MAX\"].fillna(0)"
   ]
  },
  {
   "cell_type": "code",
   "execution_count": 92,
   "metadata": {},
   "outputs": [],
   "source": [
    "for d in Active_CreditCard_Dates:\n",
    "#     model_file['D'+str(d)+ \"_ACT_CREDCARD_AMT_CREDIT_MAX_OVERDUE\"].loc[model_file['D'+str(d)+ \"_ACT_CREDCARD_AMT_CREDIT_MAX_OVERDUE\"]>50000] = 50000\n",
    "    # model_file['D'+str(d)+ \"_ACT_CREDCARD_CNT_CREDIT_PROLONG\"].loc[model_file['D'+str(d)+ \"_ACT_CREDCARD_CNT_CREDIT_PROLONG\"]>2] = 2\n",
    "    model_file['D'+str(d)+ \"_ACT_CREDCARD_AMT_CREDIT_SUM\"].loc[model_file['D'+str(d)+ \"_ACT_CREDCARD_AMT_CREDIT_SUM\"]>1000000] = 1000000\n",
    "    model_file['D'+str(d)+ \"_ACT_CREDCARD_AMT_CREDIT_SUM_DEBT\"].loc[model_file['D'+str(d)+ \"_ACT_CREDCARD_AMT_CREDIT_SUM_DEBT\"]>1000000] = 1000000\n",
    "#     model_file['D'+str(d)+ \"_ACT_CREDCARD_COUNT\"].loc[model_file['D'+str(d)+ \"_ACT_CREDCARD_COUNT\"]>20] = 20"
   ]
  },
  {
   "cell_type": "markdown",
   "metadata": {},
   "source": [
    "### Closed Credit Card & Cons Cred"
   ]
  },
  {
   "cell_type": "code",
   "execution_count": null,
   "metadata": {},
   "outputs": [],
   "source": []
  },
  {
   "cell_type": "code",
   "execution_count": 93,
   "metadata": {},
   "outputs": [],
   "source": [
    "for x in model_file.columns: \n",
    "    if \"CLD\" in x:\n",
    "        model_file[x] = model_file[x].fillna(0)"
   ]
  },
  {
   "cell_type": "markdown",
   "metadata": {},
   "source": [
    "### Final model file"
   ]
  },
  {
   "cell_type": "code",
   "execution_count": 94,
   "metadata": {},
   "outputs": [],
   "source": [
    "model_file = model_file.drop([\"DAYS_EMPLOYED\",\"DAYS_BIRTH\",\"NAME_INCOME_TYPE\"],axis=1)"
   ]
  },
  {
   "cell_type": "code",
   "execution_count": 95,
   "metadata": {},
   "outputs": [
    {
     "data": {
      "text/html": [
       "<div>\n",
       "<style scoped>\n",
       "    .dataframe tbody tr th:only-of-type {\n",
       "        vertical-align: middle;\n",
       "    }\n",
       "\n",
       "    .dataframe tbody tr th {\n",
       "        vertical-align: top;\n",
       "    }\n",
       "\n",
       "    .dataframe thead th {\n",
       "        text-align: right;\n",
       "    }\n",
       "</style>\n",
       "<table border=\"1\" class=\"dataframe\">\n",
       "  <thead>\n",
       "    <tr style=\"text-align: right;\">\n",
       "      <th></th>\n",
       "      <th>AMT_GOODS_PRICE</th>\n",
       "      <th>AMT_INCOME_TOTAL</th>\n",
       "      <th>AMT_CREDIT</th>\n",
       "      <th>AMT_ANNUITY</th>\n",
       "      <th>NAME_CONTRACT_TYPE</th>\n",
       "      <th>CNT_FAM_MEMBERS</th>\n",
       "      <th>OCCUPATION_TYPE</th>\n",
       "      <th>NAME_EDUCATION_TYPE</th>\n",
       "      <th>NAME_HOUSING_TYPE</th>\n",
       "      <th>FLAG_OWN_REALTY</th>\n",
       "      <th>...</th>\n",
       "      <th>CLD_CREDCARD_CNT_CREDIT_PROLONG_MAX</th>\n",
       "      <th>CLD_CREDCARD_AMT_CREDIT_SUM_MAX</th>\n",
       "      <th>CLD_CREDCARD_AMT_CREDIT_SUM_LIMIT_MAX</th>\n",
       "      <th>LOAN_LENGTH</th>\n",
       "      <th>LOAN_STRESS</th>\n",
       "      <th>PRICE_CREDIT_RATIO</th>\n",
       "      <th>DAYS_EMPLOYED_PERCENT</th>\n",
       "      <th>YEARS_EMPLOYED</th>\n",
       "      <th>YEARS_BIRTH</th>\n",
       "      <th>HIGHER_ED</th>\n",
       "    </tr>\n",
       "    <tr>\n",
       "      <th>SK_ID_CURR</th>\n",
       "      <th></th>\n",
       "      <th></th>\n",
       "      <th></th>\n",
       "      <th></th>\n",
       "      <th></th>\n",
       "      <th></th>\n",
       "      <th></th>\n",
       "      <th></th>\n",
       "      <th></th>\n",
       "      <th></th>\n",
       "      <th></th>\n",
       "      <th></th>\n",
       "      <th></th>\n",
       "      <th></th>\n",
       "      <th></th>\n",
       "      <th></th>\n",
       "      <th></th>\n",
       "      <th></th>\n",
       "      <th></th>\n",
       "      <th></th>\n",
       "      <th></th>\n",
       "    </tr>\n",
       "  </thead>\n",
       "  <tbody>\n",
       "    <tr>\n",
       "      <th>113072</th>\n",
       "      <td>180000.0</td>\n",
       "      <td>283500.0</td>\n",
       "      <td>180000.0</td>\n",
       "      <td>9000.0</td>\n",
       "      <td>Revolving loans</td>\n",
       "      <td>2.0</td>\n",
       "      <td>Laborers</td>\n",
       "      <td>Secondary / secondary special</td>\n",
       "      <td>House / apartment</td>\n",
       "      <td>Y</td>\n",
       "      <td>...</td>\n",
       "      <td>0.0</td>\n",
       "      <td>0.0</td>\n",
       "      <td>0.0</td>\n",
       "      <td>20.000000</td>\n",
       "      <td>0.031746</td>\n",
       "      <td>1.000000</td>\n",
       "      <td>0.488376</td>\n",
       "      <td>-27.106849</td>\n",
       "      <td>-55.504110</td>\n",
       "      <td>False</td>\n",
       "    </tr>\n",
       "    <tr>\n",
       "      <th>225465</th>\n",
       "      <td>144000.0</td>\n",
       "      <td>67500.0</td>\n",
       "      <td>182016.0</td>\n",
       "      <td>10291.5</td>\n",
       "      <td>Cash loans</td>\n",
       "      <td>2.0</td>\n",
       "      <td>NaN</td>\n",
       "      <td>Secondary / secondary special</td>\n",
       "      <td>House / apartment</td>\n",
       "      <td>Y</td>\n",
       "      <td>...</td>\n",
       "      <td>0.0</td>\n",
       "      <td>66289.5</td>\n",
       "      <td>0.0</td>\n",
       "      <td>17.686052</td>\n",
       "      <td>0.152467</td>\n",
       "      <td>0.791139</td>\n",
       "      <td>NaN</td>\n",
       "      <td>NaN</td>\n",
       "      <td>-66.413699</td>\n",
       "      <td>False</td>\n",
       "    </tr>\n",
       "    <tr>\n",
       "      <th>260656</th>\n",
       "      <td>315000.0</td>\n",
       "      <td>112500.0</td>\n",
       "      <td>315000.0</td>\n",
       "      <td>17716.5</td>\n",
       "      <td>Cash loans</td>\n",
       "      <td>2.0</td>\n",
       "      <td>Medicine staff</td>\n",
       "      <td>Secondary / secondary special</td>\n",
       "      <td>House / apartment</td>\n",
       "      <td>Y</td>\n",
       "      <td>...</td>\n",
       "      <td>0.0</td>\n",
       "      <td>0.0</td>\n",
       "      <td>0.0</td>\n",
       "      <td>17.780036</td>\n",
       "      <td>0.157480</td>\n",
       "      <td>1.000000</td>\n",
       "      <td>0.621163</td>\n",
       "      <td>-33.098630</td>\n",
       "      <td>-53.284932</td>\n",
       "      <td>False</td>\n",
       "    </tr>\n",
       "    <tr>\n",
       "      <th>445761</th>\n",
       "      <td>1800000.0</td>\n",
       "      <td>675000.0</td>\n",
       "      <td>2000000.0</td>\n",
       "      <td>59301.0</td>\n",
       "      <td>Cash loans</td>\n",
       "      <td>2.0</td>\n",
       "      <td>Medicine staff</td>\n",
       "      <td>Secondary / secondary special</td>\n",
       "      <td>House / apartment</td>\n",
       "      <td>Y</td>\n",
       "      <td>...</td>\n",
       "      <td>0.0</td>\n",
       "      <td>0.0</td>\n",
       "      <td>0.0</td>\n",
       "      <td>36.363636</td>\n",
       "      <td>0.087853</td>\n",
       "      <td>0.834725</td>\n",
       "      <td>0.073525</td>\n",
       "      <td>-3.273973</td>\n",
       "      <td>-44.528767</td>\n",
       "      <td>False</td>\n",
       "    </tr>\n",
       "    <tr>\n",
       "      <th>421144</th>\n",
       "      <td>679500.0</td>\n",
       "      <td>180000.0</td>\n",
       "      <td>679500.0</td>\n",
       "      <td>19867.5</td>\n",
       "      <td>Cash loans</td>\n",
       "      <td>2.0</td>\n",
       "      <td>NaN</td>\n",
       "      <td>Secondary / secondary special</td>\n",
       "      <td>House / apartment</td>\n",
       "      <td>Y</td>\n",
       "      <td>...</td>\n",
       "      <td>0.0</td>\n",
       "      <td>0.0</td>\n",
       "      <td>0.0</td>\n",
       "      <td>34.201586</td>\n",
       "      <td>0.110375</td>\n",
       "      <td>1.000000</td>\n",
       "      <td>0.017771</td>\n",
       "      <td>-0.515068</td>\n",
       "      <td>-28.983562</td>\n",
       "      <td>False</td>\n",
       "    </tr>\n",
       "    <tr>\n",
       "      <th>...</th>\n",
       "      <td>...</td>\n",
       "      <td>...</td>\n",
       "      <td>...</td>\n",
       "      <td>...</td>\n",
       "      <td>...</td>\n",
       "      <td>...</td>\n",
       "      <td>...</td>\n",
       "      <td>...</td>\n",
       "      <td>...</td>\n",
       "      <td>...</td>\n",
       "      <td>...</td>\n",
       "      <td>...</td>\n",
       "      <td>...</td>\n",
       "      <td>...</td>\n",
       "      <td>...</td>\n",
       "      <td>...</td>\n",
       "      <td>...</td>\n",
       "      <td>...</td>\n",
       "      <td>...</td>\n",
       "      <td>...</td>\n",
       "      <td>...</td>\n",
       "    </tr>\n",
       "    <tr>\n",
       "      <th>456245</th>\n",
       "      <td>225000.0</td>\n",
       "      <td>81000.0</td>\n",
       "      <td>269550.0</td>\n",
       "      <td>11871.0</td>\n",
       "      <td>Cash loans</td>\n",
       "      <td>5.0</td>\n",
       "      <td>Laborers</td>\n",
       "      <td>Secondary / secondary special</td>\n",
       "      <td>House / apartment</td>\n",
       "      <td>Y</td>\n",
       "      <td>...</td>\n",
       "      <td>0.0</td>\n",
       "      <td>0.0</td>\n",
       "      <td>0.0</td>\n",
       "      <td>22.706596</td>\n",
       "      <td>0.146556</td>\n",
       "      <td>0.834725</td>\n",
       "      <td>0.080704</td>\n",
       "      <td>-2.865753</td>\n",
       "      <td>-35.509589</td>\n",
       "      <td>False</td>\n",
       "    </tr>\n",
       "    <tr>\n",
       "      <th>456247</th>\n",
       "      <td>247500.0</td>\n",
       "      <td>112500.0</td>\n",
       "      <td>345510.0</td>\n",
       "      <td>17770.5</td>\n",
       "      <td>Cash loans</td>\n",
       "      <td>1.0</td>\n",
       "      <td>Core staff</td>\n",
       "      <td>Higher education</td>\n",
       "      <td>House / apartment</td>\n",
       "      <td>Y</td>\n",
       "      <td>...</td>\n",
       "      <td>0.0</td>\n",
       "      <td>0.0</td>\n",
       "      <td>0.0</td>\n",
       "      <td>19.442897</td>\n",
       "      <td>0.157960</td>\n",
       "      <td>0.716332</td>\n",
       "      <td>0.033614</td>\n",
       "      <td>-1.093151</td>\n",
       "      <td>-32.520548</td>\n",
       "      <td>True</td>\n",
       "    </tr>\n",
       "    <tr>\n",
       "      <th>456248</th>\n",
       "      <td>225000.0</td>\n",
       "      <td>153000.0</td>\n",
       "      <td>331920.0</td>\n",
       "      <td>16096.5</td>\n",
       "      <td>Cash loans</td>\n",
       "      <td>1.0</td>\n",
       "      <td>Sales staff</td>\n",
       "      <td>Secondary / secondary special</td>\n",
       "      <td>House / apartment</td>\n",
       "      <td>Y</td>\n",
       "      <td>...</td>\n",
       "      <td>0.0</td>\n",
       "      <td>0.0</td>\n",
       "      <td>0.0</td>\n",
       "      <td>20.620632</td>\n",
       "      <td>0.105206</td>\n",
       "      <td>0.677874</td>\n",
       "      <td>0.434481</td>\n",
       "      <td>-19.884932</td>\n",
       "      <td>-45.767123</td>\n",
       "      <td>False</td>\n",
       "    </tr>\n",
       "    <tr>\n",
       "      <th>456249</th>\n",
       "      <td>225000.0</td>\n",
       "      <td>112500.0</td>\n",
       "      <td>225000.0</td>\n",
       "      <td>22050.0</td>\n",
       "      <td>Cash loans</td>\n",
       "      <td>1.0</td>\n",
       "      <td>NaN</td>\n",
       "      <td>Secondary / secondary special</td>\n",
       "      <td>House / apartment</td>\n",
       "      <td>Y</td>\n",
       "      <td>...</td>\n",
       "      <td>0.0</td>\n",
       "      <td>315000.0</td>\n",
       "      <td>0.0</td>\n",
       "      <td>10.204082</td>\n",
       "      <td>0.196000</td>\n",
       "      <td>1.000000</td>\n",
       "      <td>NaN</td>\n",
       "      <td>NaN</td>\n",
       "      <td>-66.805479</td>\n",
       "      <td>False</td>\n",
       "    </tr>\n",
       "    <tr>\n",
       "      <th>456253</th>\n",
       "      <td>585000.0</td>\n",
       "      <td>153000.0</td>\n",
       "      <td>677664.0</td>\n",
       "      <td>29979.0</td>\n",
       "      <td>Cash loans</td>\n",
       "      <td>1.0</td>\n",
       "      <td>Managers</td>\n",
       "      <td>Higher education</td>\n",
       "      <td>House / apartment</td>\n",
       "      <td>Y</td>\n",
       "      <td>...</td>\n",
       "      <td>0.0</td>\n",
       "      <td>0.0</td>\n",
       "      <td>0.0</td>\n",
       "      <td>22.604623</td>\n",
       "      <td>0.195941</td>\n",
       "      <td>0.863260</td>\n",
       "      <td>0.529266</td>\n",
       "      <td>-21.701370</td>\n",
       "      <td>-41.002740</td>\n",
       "      <td>True</td>\n",
       "    </tr>\n",
       "  </tbody>\n",
       "</table>\n",
       "<p>307511 rows × 71 columns</p>\n",
       "</div>"
      ],
      "text/plain": [
       "            AMT_GOODS_PRICE  AMT_INCOME_TOTAL  AMT_CREDIT  AMT_ANNUITY  \\\n",
       "SK_ID_CURR                                                               \n",
       "113072             180000.0          283500.0    180000.0       9000.0   \n",
       "225465             144000.0           67500.0    182016.0      10291.5   \n",
       "260656             315000.0          112500.0    315000.0      17716.5   \n",
       "445761            1800000.0          675000.0   2000000.0      59301.0   \n",
       "421144             679500.0          180000.0    679500.0      19867.5   \n",
       "...                     ...               ...         ...          ...   \n",
       "456245             225000.0           81000.0    269550.0      11871.0   \n",
       "456247             247500.0          112500.0    345510.0      17770.5   \n",
       "456248             225000.0          153000.0    331920.0      16096.5   \n",
       "456249             225000.0          112500.0    225000.0      22050.0   \n",
       "456253             585000.0          153000.0    677664.0      29979.0   \n",
       "\n",
       "           NAME_CONTRACT_TYPE  CNT_FAM_MEMBERS OCCUPATION_TYPE  \\\n",
       "SK_ID_CURR                                                       \n",
       "113072        Revolving loans              2.0        Laborers   \n",
       "225465             Cash loans              2.0             NaN   \n",
       "260656             Cash loans              2.0  Medicine staff   \n",
       "445761             Cash loans              2.0  Medicine staff   \n",
       "421144             Cash loans              2.0             NaN   \n",
       "...                       ...              ...             ...   \n",
       "456245             Cash loans              5.0        Laborers   \n",
       "456247             Cash loans              1.0      Core staff   \n",
       "456248             Cash loans              1.0     Sales staff   \n",
       "456249             Cash loans              1.0             NaN   \n",
       "456253             Cash loans              1.0        Managers   \n",
       "\n",
       "                      NAME_EDUCATION_TYPE  NAME_HOUSING_TYPE FLAG_OWN_REALTY  \\\n",
       "SK_ID_CURR                                                                     \n",
       "113072      Secondary / secondary special  House / apartment               Y   \n",
       "225465      Secondary / secondary special  House / apartment               Y   \n",
       "260656      Secondary / secondary special  House / apartment               Y   \n",
       "445761      Secondary / secondary special  House / apartment               Y   \n",
       "421144      Secondary / secondary special  House / apartment               Y   \n",
       "...                                   ...                ...             ...   \n",
       "456245      Secondary / secondary special  House / apartment               Y   \n",
       "456247                   Higher education  House / apartment               Y   \n",
       "456248      Secondary / secondary special  House / apartment               Y   \n",
       "456249      Secondary / secondary special  House / apartment               Y   \n",
       "456253                   Higher education  House / apartment               Y   \n",
       "\n",
       "            ...  CLD_CREDCARD_CNT_CREDIT_PROLONG_MAX  \\\n",
       "SK_ID_CURR  ...                                        \n",
       "113072      ...                                  0.0   \n",
       "225465      ...                                  0.0   \n",
       "260656      ...                                  0.0   \n",
       "445761      ...                                  0.0   \n",
       "421144      ...                                  0.0   \n",
       "...         ...                                  ...   \n",
       "456245      ...                                  0.0   \n",
       "456247      ...                                  0.0   \n",
       "456248      ...                                  0.0   \n",
       "456249      ...                                  0.0   \n",
       "456253      ...                                  0.0   \n",
       "\n",
       "            CLD_CREDCARD_AMT_CREDIT_SUM_MAX  \\\n",
       "SK_ID_CURR                                    \n",
       "113072                                  0.0   \n",
       "225465                              66289.5   \n",
       "260656                                  0.0   \n",
       "445761                                  0.0   \n",
       "421144                                  0.0   \n",
       "...                                     ...   \n",
       "456245                                  0.0   \n",
       "456247                                  0.0   \n",
       "456248                                  0.0   \n",
       "456249                             315000.0   \n",
       "456253                                  0.0   \n",
       "\n",
       "            CLD_CREDCARD_AMT_CREDIT_SUM_LIMIT_MAX  LOAN_LENGTH  LOAN_STRESS  \\\n",
       "SK_ID_CURR                                                                    \n",
       "113072                                        0.0    20.000000     0.031746   \n",
       "225465                                        0.0    17.686052     0.152467   \n",
       "260656                                        0.0    17.780036     0.157480   \n",
       "445761                                        0.0    36.363636     0.087853   \n",
       "421144                                        0.0    34.201586     0.110375   \n",
       "...                                           ...          ...          ...   \n",
       "456245                                        0.0    22.706596     0.146556   \n",
       "456247                                        0.0    19.442897     0.157960   \n",
       "456248                                        0.0    20.620632     0.105206   \n",
       "456249                                        0.0    10.204082     0.196000   \n",
       "456253                                        0.0    22.604623     0.195941   \n",
       "\n",
       "            PRICE_CREDIT_RATIO  DAYS_EMPLOYED_PERCENT  YEARS_EMPLOYED  \\\n",
       "SK_ID_CURR                                                              \n",
       "113072                1.000000               0.488376      -27.106849   \n",
       "225465                0.791139                    NaN             NaN   \n",
       "260656                1.000000               0.621163      -33.098630   \n",
       "445761                0.834725               0.073525       -3.273973   \n",
       "421144                1.000000               0.017771       -0.515068   \n",
       "...                        ...                    ...             ...   \n",
       "456245                0.834725               0.080704       -2.865753   \n",
       "456247                0.716332               0.033614       -1.093151   \n",
       "456248                0.677874               0.434481      -19.884932   \n",
       "456249                1.000000                    NaN             NaN   \n",
       "456253                0.863260               0.529266      -21.701370   \n",
       "\n",
       "            YEARS_BIRTH  HIGHER_ED  \n",
       "SK_ID_CURR                          \n",
       "113072       -55.504110      False  \n",
       "225465       -66.413699      False  \n",
       "260656       -53.284932      False  \n",
       "445761       -44.528767      False  \n",
       "421144       -28.983562      False  \n",
       "...                 ...        ...  \n",
       "456245       -35.509589      False  \n",
       "456247       -32.520548       True  \n",
       "456248       -45.767123      False  \n",
       "456249       -66.805479      False  \n",
       "456253       -41.002740       True  \n",
       "\n",
       "[307511 rows x 71 columns]"
      ]
     },
     "execution_count": 95,
     "metadata": {},
     "output_type": "execute_result"
    }
   ],
   "source": [
    "model_file"
   ]
  },
  {
   "cell_type": "code",
   "execution_count": 96,
   "metadata": {},
   "outputs": [],
   "source": [
    "model_file.to_csv(os.path.join(model_file_output_dir,'model_file.csv'))\n"
   ]
  },
  {
   "cell_type": "markdown",
   "metadata": {},
   "source": [
    "# Archive"
   ]
  },
  {
   "cell_type": "markdown",
   "metadata": {},
   "source": [
    "### bureau"
   ]
  },
  {
   "cell_type": "code",
   "execution_count": 58,
   "metadata": {},
   "outputs": [],
   "source": [
    "bureau_manual = pd.read_csv(data_dir + '/engineered/bureau/manual.csv',index_col='SK_ID_CURR')\n",
    "bureau_manual = bureau_manual.add_prefix('BUREAU_MANUAL_')"
   ]
  },
  {
   "cell_type": "code",
   "execution_count": 59,
   "metadata": {},
   "outputs": [],
   "source": [
    "bureau_manual_raw_features = [\n",
    "    \"BUREAU_MANUAL_DAYS_CREDITmean\",\n",
    "    \"BUREAU_MANUAL_AMT_CREDIT_SUM_DEBTsum\",\n",
    "    \"BUREAU_MANUAL_AMT_CREDIT_MAX_OVERDUEmax\",\n",
    "    \"BUREAU_MANUAL_AMT_CREDIT_SUMsum\",\n",
    "    \"BUREAU_MANUAL_CREDIT_DAY_OVERDUEmax\",\n",
    "    \"BUREAU_MANUAL_CNT_CREDIT_PROLONGsum\",\n",
    "]"
   ]
  },
  {
   "cell_type": "code",
   "execution_count": 60,
   "metadata": {},
   "outputs": [],
   "source": [
    "bureau_manual = bureau_manual[bureau_manual_raw_features]"
   ]
  },
  {
   "cell_type": "code",
   "execution_count": 61,
   "metadata": {},
   "outputs": [
    {
     "name": "stderr",
     "output_type": "stream",
     "text": [
      "\n",
      "A value is trying to be set on a copy of a slice from a DataFrame\n",
      "\n",
      "See the caveats in the documentation: https://pandas.pydata.org/pandas-docs/stable/user_guide/indexing.html#returning-a-view-versus-a-copy\n"
     ]
    }
   ],
   "source": [
    "bureau_manual[\"BUREAU_MANUAL_DEBT_CREDIT_RATIO\"] = bureau_manual[\"BUREAU_MANUAL_AMT_CREDIT_SUM_DEBTsum\"]/bureau_manual[\"BUREAU_MANUAL_AMT_CREDIT_SUMsum\"]\n",
    "bureau_manual[\"BUREAU_MANUAL_DEBT_CREDIT_RATIO\"].loc[bureau_manual[\"BUREAU_MANUAL_DEBT_CREDIT_RATIO\"]<0] = 0\n",
    "bureau_manual[\"BUREAU_MANUAL_DEBT_CREDIT_RATIO\"].loc[bureau_manual[\"BUREAU_MANUAL_DEBT_CREDIT_RATIO\"]>1] = 1\n",
    "\n",
    "bureau_manual[\"BUREAU_MANUAL_AMT_CREDIT_SUM_DEBTsum\"].loc[bureau_manual[\"BUREAU_MANUAL_AMT_CREDIT_SUM_DEBTsum\"]>10000000] = 10000000\n",
    "bureau_manual[\"BUREAU_MANUAL_AMT_CREDIT_SUM_DEBTsum\"].loc[bureau_manual[\"BUREAU_MANUAL_AMT_CREDIT_SUM_DEBTsum\"]<-250000] = -250000\n",
    "bureau_manual[\"BUREAU_MANUAL_AMT_CREDIT_SUMsum\"].loc[bureau_manual[\"BUREAU_MANUAL_AMT_CREDIT_SUMsum\"]>10000000] = 10000000\n",
    "\n",
    "bureau_manual[\"BUREAU_MANUAL_AMT_CREDIT_MAX_OVERDUEmax\"].loc[bureau_manual[\"BUREAU_MANUAL_AMT_CREDIT_MAX_OVERDUEmax\"]>250000] = 250000\n",
    "\n",
    "bureau_manual[\"BUREAU_MANUAL_CREDIT_OVERDUE\"] = bureau_manual[\"BUREAU_MANUAL_CREDIT_DAY_OVERDUEmax\"]>0\n",
    "bureau_manual[\"BUREAU_MANUAL_CREDIT_PROLONGED\"] = bureau_manual[\"BUREAU_MANUAL_CNT_CREDIT_PROLONGsum\"]>0"
   ]
  },
  {
   "cell_type": "code",
   "execution_count": 62,
   "metadata": {},
   "outputs": [
    {
     "data": {
      "image/png": "[encoded data removed]",
      "text/plain": [
       "<Figure size 1728x288 with 2 Axes>"
      ]
     },
     "metadata": {
      "needs_background": "light"
     },
     "output_type": "display_data"
    }
   ],
   "source": [
    "plot_file = bureau_manual.merge(train_response, on='SK_ID_CURR', how='inner')\n",
    "\n",
    "fig, ax = plt.subplots(1,2)\n",
    "ax[0].hist(plot_file[plot_file[\"TARGET\"]==0][\"BUREAU_MANUAL_CNT_CREDIT_PROLONGsum\"].dropna())\n",
    "ax[0].tick_params(labelrotation=45)\n",
    "ax[1].hist(plot_file[plot_file[\"TARGET\"]==1][\"BUREAU_MANUAL_CNT_CREDIT_PROLONGsum\"].dropna())\n",
    "ax[1].tick_params(labelrotation=45)\n",
    "fig.set_size_inches(24, 4)"
   ]
  },
  {
   "cell_type": "code",
   "execution_count": null,
   "metadata": {},
   "outputs": [],
   "source": []
  },
  {
   "cell_type": "code",
   "execution_count": null,
   "metadata": {},
   "outputs": [],
   "source": [
    "model_file = model_file.merge(bureau_manual, on='SK_ID_CURR', how='left')\n",
    "model_file"
   ]
  },
  {
   "cell_type": "code",
   "execution_count": null,
   "metadata": {},
   "outputs": [],
   "source": []
  }
 ],
 "metadata": {
  "kernelspec": {
   "display_name": "Python 3",
   "language": "python",
   "name": "python3"
  },
  "language_info": {
   "codemirror_mode": {
    "name": "ipython",
    "version": 3
   },
   "file_extension": ".py",
   "mimetype": "text/x-python",
   "name": "python",
   "nbconvert_exporter": "python",
   "pygments_lexer": "ipython3",
   "version": "3.7.6"
  }
 },
 "nbformat": 4,
 "nbformat_minor": 4
}
